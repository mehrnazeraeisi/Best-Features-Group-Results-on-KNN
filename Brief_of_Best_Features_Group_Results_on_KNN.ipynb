{
  "cells": [
    {
      "cell_type": "markdown",
      "metadata": {
        "id": "view-in-github",
        "colab_type": "text"
      },
      "source": [
        "<a href=\"https://colab.research.google.com/github/mehrnazeraeisi/Best-Features-Group-Results-on-KNN/blob/main/Brief_of_Best_Features_Group_Results_on_KNN.ipynb\" target=\"_parent\"><img src=\"https://colab.research.google.com/assets/colab-badge.svg\" alt=\"Open In Colab\"/></a>"
      ]
    },
    {
      "cell_type": "code",
      "execution_count": 1,
      "metadata": {
        "id": "X9QOsMKlug0B"
      },
      "outputs": [],
      "source": [
        "def knn_auto_evaluator_from_xy(X_data, y_data, test_sizes=[0.1, 0.13, 0.16 , 0.19, 0.25], n_repeats=20):\n",
        "    import numpy as np\n",
        "    import pandas as pd\n",
        "    from sklearn.model_selection import train_test_split\n",
        "    from sklearn.neighbors import KNeighborsRegressor, KNeighborsClassifier\n",
        "    from sklearn.metrics import r2_score, mean_squared_error, accuracy_score\n",
        "    import warnings\n",
        "    warnings.filterwarnings(\"ignore\")\n",
        "\n",
        "    # تشخیص نوع تارگت\n",
        "    if pd.api.types.is_numeric_dtype(y_data):\n",
        "        target_type = 'regression' if len(np.unique(y_data)) > 10 else 'classification'\n",
        "    else:\n",
        "        target_type = 'classification'\n",
        "\n",
        "    feature_names = X_data.columns.tolist()\n",
        "    results = []\n",
        "\n",
        "    for ts in test_sizes:\n",
        "        for repeat in range(1, n_repeats+1):\n",
        "            X_train, X_test, y_train, y_test = train_test_split(X_data, y_data, test_size=ts)\n",
        "\n",
        "            scores = []\n",
        "            for feature in feature_names:\n",
        "                model = KNeighborsRegressor() if target_type == 'regression' else KNeighborsClassifier()\n",
        "                model.fit(X_train[[feature]], y_train)\n",
        "                y_pred = model.predict(X_train[[feature]])\n",
        "                score = r2_score(y_train, y_pred) if target_type == 'regression' else accuracy_score(y_train, y_pred)\n",
        "                scores.append((feature, score))\n",
        "\n",
        "            df_scores = pd.DataFrame(scores, columns=['Feature', 'Score']).sort_values(by='Score', ascending=False)\n",
        "\n",
        "            best_score = -np.inf\n",
        "            best_group = []\n",
        "            for k in range(1, len(df_scores)+1):\n",
        "                group = df_scores['Feature'][:k].tolist()\n",
        "                model = KNeighborsRegressor() if target_type == 'regression' else KNeighborsClassifier()\n",
        "                model.fit(X_train[group], y_train)\n",
        "                y_pred = model.predict(X_train[group])\n",
        "                score = r2_score(y_train, y_pred) if target_type == 'regression' else accuracy_score(y_train, y_pred)\n",
        "                if score > best_score:\n",
        "                    best_score = score\n",
        "                    best_group = group\n",
        "\n",
        "            model_all = KNeighborsRegressor() if target_type == 'regression' else KNeighborsClassifier()\n",
        "            model_best = KNeighborsRegressor() if target_type == 'regression' else KNeighborsClassifier()\n",
        "            model_all.fit(X_train, y_train)\n",
        "            model_best.fit(X_train[best_group], y_train)\n",
        "            y_pred_all = model_all.predict(X_test)\n",
        "            y_pred_best = model_best.predict(X_test[best_group])\n",
        "\n",
        "            if target_type == 'regression':\n",
        "                result_row = {\n",
        "                    'Test Size': ts,\n",
        "                    'Repeat': repeat,\n",
        "                    'All_R2': r2_score(y_test, y_pred_all),\n",
        "                    'All_MSE': mean_squared_error(y_test, y_pred_all),\n",
        "                    'BestGroup_R2': r2_score(y_test, y_pred_best),\n",
        "                    'BestGroup_MSE': mean_squared_error(y_test, y_pred_best),\n",
        "\n",
        "                }\n",
        "                column_order = ['Test Size', 'Repeat', 'All_R2', 'All_MSE', 'BestGroup_R2', 'BestGroup_MSE']\n",
        "            else:\n",
        "                result_row = {\n",
        "                    'Test Size': ts,\n",
        "                    'Repeat': repeat,\n",
        "                    'All_Accuracy': accuracy_score(y_test, y_pred_all),\n",
        "                    'BestGroup_Accuracy': accuracy_score(y_test, y_pred_best),\n",
        "\n",
        "                }\n",
        "                column_order = ['Test Size', 'Repeat', 'All_Accuracy', 'BestGroup_Accuracy']\n",
        "\n",
        "            results.append(result_row)\n",
        "\n",
        "    # ساخت DataFrame نهایی با ترتیب دقیق ستون‌ها\n",
        "    return pd.DataFrame(results)[column_order]\n"
      ]
    },
    {
      "cell_type": "code",
      "execution_count": 2,
      "metadata": {
        "colab": {
          "base_uri": "https://localhost:8080/"
        },
        "id": "vbTlItGrDze8",
        "outputId": "efc350c6-9561-41ad-ffa1-ce00e61cba3f"
      },
      "outputs": [
        {
          "output_type": "stream",
          "name": "stdout",
          "text": [
            "Collecting openml\n",
            "  Downloading openml-0.15.1-py3-none-any.whl.metadata (10 kB)\n",
            "Collecting liac-arff>=2.4.0 (from openml)\n",
            "  Downloading liac-arff-2.5.0.tar.gz (13 kB)\n",
            "  Preparing metadata (setup.py) ... \u001b[?25l\u001b[?25hdone\n",
            "Collecting xmltodict (from openml)\n",
            "  Downloading xmltodict-0.14.2-py2.py3-none-any.whl.metadata (8.0 kB)\n",
            "Requirement already satisfied: requests in /usr/local/lib/python3.11/dist-packages (from openml) (2.32.3)\n",
            "Requirement already satisfied: scikit-learn>=0.18 in /usr/local/lib/python3.11/dist-packages (from openml) (1.6.1)\n",
            "Requirement already satisfied: python-dateutil in /usr/local/lib/python3.11/dist-packages (from openml) (2.9.0.post0)\n",
            "Requirement already satisfied: pandas>=1.0.0 in /usr/local/lib/python3.11/dist-packages (from openml) (2.2.2)\n",
            "Requirement already satisfied: scipy>=0.13.3 in /usr/local/lib/python3.11/dist-packages (from openml) (1.15.3)\n",
            "Requirement already satisfied: numpy>=1.6.2 in /usr/local/lib/python3.11/dist-packages (from openml) (2.0.2)\n",
            "Collecting minio (from openml)\n",
            "  Downloading minio-7.2.15-py3-none-any.whl.metadata (6.7 kB)\n",
            "Requirement already satisfied: pyarrow in /usr/local/lib/python3.11/dist-packages (from openml) (18.1.0)\n",
            "Requirement already satisfied: tqdm in /usr/local/lib/python3.11/dist-packages (from openml) (4.67.1)\n",
            "Requirement already satisfied: packaging in /usr/local/lib/python3.11/dist-packages (from openml) (24.2)\n",
            "Requirement already satisfied: pytz>=2020.1 in /usr/local/lib/python3.11/dist-packages (from pandas>=1.0.0->openml) (2025.2)\n",
            "Requirement already satisfied: tzdata>=2022.7 in /usr/local/lib/python3.11/dist-packages (from pandas>=1.0.0->openml) (2025.2)\n",
            "Requirement already satisfied: six>=1.5 in /usr/local/lib/python3.11/dist-packages (from python-dateutil->openml) (1.17.0)\n",
            "Requirement already satisfied: joblib>=1.2.0 in /usr/local/lib/python3.11/dist-packages (from scikit-learn>=0.18->openml) (1.5.0)\n",
            "Requirement already satisfied: threadpoolctl>=3.1.0 in /usr/local/lib/python3.11/dist-packages (from scikit-learn>=0.18->openml) (3.6.0)\n",
            "Requirement already satisfied: certifi in /usr/local/lib/python3.11/dist-packages (from minio->openml) (2025.4.26)\n",
            "Requirement already satisfied: urllib3 in /usr/local/lib/python3.11/dist-packages (from minio->openml) (2.4.0)\n",
            "Requirement already satisfied: argon2-cffi in /usr/local/lib/python3.11/dist-packages (from minio->openml) (23.1.0)\n",
            "Collecting pycryptodome (from minio->openml)\n",
            "  Downloading pycryptodome-3.23.0-cp37-abi3-manylinux_2_17_x86_64.manylinux2014_x86_64.whl.metadata (3.4 kB)\n",
            "Requirement already satisfied: typing-extensions in /usr/local/lib/python3.11/dist-packages (from minio->openml) (4.13.2)\n",
            "Requirement already satisfied: charset-normalizer<4,>=2 in /usr/local/lib/python3.11/dist-packages (from requests->openml) (3.4.2)\n",
            "Requirement already satisfied: idna<4,>=2.5 in /usr/local/lib/python3.11/dist-packages (from requests->openml) (3.10)\n",
            "Requirement already satisfied: argon2-cffi-bindings in /usr/local/lib/python3.11/dist-packages (from argon2-cffi->minio->openml) (21.2.0)\n",
            "Requirement already satisfied: cffi>=1.0.1 in /usr/local/lib/python3.11/dist-packages (from argon2-cffi-bindings->argon2-cffi->minio->openml) (1.17.1)\n",
            "Requirement already satisfied: pycparser in /usr/local/lib/python3.11/dist-packages (from cffi>=1.0.1->argon2-cffi-bindings->argon2-cffi->minio->openml) (2.22)\n",
            "Downloading openml-0.15.1-py3-none-any.whl (160 kB)\n",
            "\u001b[2K   \u001b[90m━━━━━━━━━━━━━━━━━━━━━━━━━━━━━━━━━━━━━━━━\u001b[0m \u001b[32m160.4/160.4 kB\u001b[0m \u001b[31m5.2 MB/s\u001b[0m eta \u001b[36m0:00:00\u001b[0m\n",
            "\u001b[?25hDownloading minio-7.2.15-py3-none-any.whl (95 kB)\n",
            "\u001b[2K   \u001b[90m━━━━━━━━━━━━━━━━━━━━━━━━━━━━━━━━━━━━━━━━\u001b[0m \u001b[32m95.1/95.1 kB\u001b[0m \u001b[31m6.7 MB/s\u001b[0m eta \u001b[36m0:00:00\u001b[0m\n",
            "\u001b[?25hDownloading xmltodict-0.14.2-py2.py3-none-any.whl (10.0 kB)\n",
            "Downloading pycryptodome-3.23.0-cp37-abi3-manylinux_2_17_x86_64.manylinux2014_x86_64.whl (2.3 MB)\n",
            "\u001b[2K   \u001b[90m━━━━━━━━━━━━━━━━━━━━━━━━━━━━━━━━━━━━━━━━\u001b[0m \u001b[32m2.3/2.3 MB\u001b[0m \u001b[31m39.1 MB/s\u001b[0m eta \u001b[36m0:00:00\u001b[0m\n",
            "\u001b[?25hBuilding wheels for collected packages: liac-arff\n",
            "  Building wheel for liac-arff (setup.py) ... \u001b[?25l\u001b[?25hdone\n",
            "  Created wheel for liac-arff: filename=liac_arff-2.5.0-py3-none-any.whl size=11717 sha256=a528925f0bfb02d9ee3b7d56dfbd5fb0b033d8e3c1f265e50b96c5b93262a3d5\n",
            "  Stored in directory: /root/.cache/pip/wheels/00/23/31/5e562fce1f95aabe57f2a7320d07433ba1cd152bcde2f6a002\n",
            "Successfully built liac-arff\n",
            "Installing collected packages: xmltodict, pycryptodome, liac-arff, minio, openml\n",
            "Successfully installed liac-arff-2.5.0 minio-7.2.15 openml-0.15.1 pycryptodome-3.23.0 xmltodict-0.14.2\n"
          ]
        }
      ],
      "source": [
        "!pip install openml"
      ]
    },
    {
      "cell_type": "code",
      "source": [
        "from google.colab import drive\n",
        "drive.mount('/content/drive')"
      ],
      "metadata": {
        "colab": {
          "base_uri": "https://localhost:8080/"
        },
        "id": "1nPLisq8D0rO",
        "outputId": "f65dd9f8-72c7-4202-d38b-ca6e4eb53c48"
      },
      "execution_count": 3,
      "outputs": [
        {
          "output_type": "stream",
          "name": "stdout",
          "text": [
            "Mounted at /content/drive\n"
          ]
        }
      ]
    },
    {
      "cell_type": "code",
      "source": [
        "import pandas as pd\n",
        "import os\n",
        "\n",
        "folder_path = '/content/drive/MyDrive/my_csv_files'\n",
        "\n",
        "# لیست تمام فایل‌های CSV و Excel\n",
        "files = os.listdir(folder_path)\n",
        "\n",
        "dataframes = []\n",
        "\n",
        "for file in files:\n",
        "    file_path = os.path.join(folder_path, file)\n",
        "\n",
        "    if file.endswith('.csv'):\n",
        "        df = pd.read_csv(file_path)\n",
        "        print(f\"Loaded CSV: {file}\")\n",
        "\n",
        "    elif file.endswith('.xlsx') or file.endswith('.xls'):\n",
        "        df = pd.read_excel(file_path)\n",
        "        print(f\"Loaded Excel: {file}\")\n",
        "\n",
        "    else:\n",
        "        print(f\"Skipped unsupported file: {file}\")\n",
        "        continue\n",
        "\n",
        "    dataframes.append(df)\n"
      ],
      "metadata": {
        "id": "OdLNxOvS64I4",
        "colab": {
          "base_uri": "https://localhost:8080/"
        },
        "outputId": "58561b2d-ab87-4447-b40e-13d70fb5849e"
      },
      "execution_count": 4,
      "outputs": [
        {
          "output_type": "stream",
          "name": "stdout",
          "text": [
            "Loaded CSV: advertising.csv\n",
            "Loaded CSV: bodyfat.csv\n",
            "Loaded CSV: cookie_recipes.csv\n",
            "Loaded Excel: Pistachio.xlsx\n",
            "Loaded CSV: BostonHousing.csv\n"
          ]
        }
      ]
    },
    {
      "cell_type": "code",
      "execution_count": 5,
      "metadata": {
        "id": "fGcOX11cJA1K"
      },
      "outputs": [],
      "source": [
        "results = []"
      ]
    },
    {
      "cell_type": "code",
      "execution_count": 6,
      "metadata": {
        "colab": {
          "base_uri": "https://localhost:8080/"
        },
        "id": "df8b2N3bu_wG",
        "outputId": "56ebb8ce-acd4-49fa-ef67-0ad6fe9dd140"
      },
      "outputs": [
        {
          "output_type": "stream",
          "name": "stdout",
          "text": [
            "(250, 14)\n",
            "    Test Size  Repeat    All_R2    All_MSE  BestGroup_R2  BestGroup_MSE\n",
            "0        0.10       1  0.522787  29.258096      0.581620      25.650976\n",
            "1        0.10       2  0.572516  25.223776      0.615582      22.682640\n",
            "2        0.10       3  0.640349  23.198112      0.553816      28.779600\n",
            "3        0.10       4  0.640575  26.811072      0.584192      31.016912\n",
            "4        0.10       5  0.631425  28.715456      0.697550      23.563712\n",
            "..        ...     ...       ...        ...           ...            ...\n",
            "95       0.25      16  0.412500  30.782514      0.340232      34.569060\n",
            "96       0.25      17  0.527233  31.723746      0.509410      32.919670\n",
            "97       0.25      18  0.632625  19.268254      0.636068      19.087676\n",
            "98       0.25      19  0.269226  29.696349      0.272716      29.554508\n",
            "99       0.25      20  0.541589  26.770260      0.610877      22.724013\n",
            "\n",
            "[100 rows x 6 columns]\n"
          ]
        }
      ],
      "source": [
        "import pandas as pd\n",
        "\n",
        "\n",
        "# مسیر فایل در گوگل درایو\n",
        "file_path = '/content/drive/MyDrive/my_csv_files/bodyfat.csv'\n",
        "\n",
        "# بارگذاری فایل\n",
        "data = pd.read_csv(file_path)\n",
        "\n",
        "# جدا کردن ویژگی‌ها و برچسب‌ها\n",
        "X = data.drop('Pct.BF', axis=1)\n",
        "y = data['Pct.BF']\n",
        "\n",
        "print(X.shape)\n",
        "\n",
        "\n",
        "df_Bodyfat_results = knn_auto_evaluator_from_xy(X, y)\n",
        "print(df_Bodyfat_results)\n",
        "\n",
        "results.append({'name': 'Bodyfat', 'type': 'regression', 'table': df_Bodyfat_results})"
      ]
    },
    {
      "cell_type": "code",
      "execution_count": 7,
      "metadata": {
        "colab": {
          "base_uri": "https://localhost:8080/"
        },
        "id": "HWVAXcQb1sPd",
        "outputId": "9f932a96-e22e-4522-d4c5-8c5370135943"
      },
      "outputs": [
        {
          "output_type": "stream",
          "name": "stdout",
          "text": [
            "(200, 3)\n",
            "    Test Size  Repeat    All_R2   All_MSE  BestGroup_R2  BestGroup_MSE\n",
            "0        0.10       1  0.944540  0.874840      0.961558       0.606400\n",
            "1        0.10       2  0.816323  4.605060      0.968465       0.790640\n",
            "2        0.10       3  0.826077  2.950420      0.975824       0.410120\n",
            "3        0.10       4  0.905397  2.213360      0.951466       1.135520\n",
            "4        0.10       5  0.940379  1.278360      0.973561       0.566900\n",
            "..        ...     ...       ...       ...           ...            ...\n",
            "95       0.25      16  0.967203  0.722024      0.971466       0.628168\n",
            "96       0.25      17  0.928896  1.638240      0.954124       1.057000\n",
            "97       0.25      18  0.922750  2.443072      0.936525       2.007456\n",
            "98       0.25      19  0.914745  3.136296      0.933167       2.458592\n",
            "99       0.25      20  0.912544  2.478360      0.965604       0.974720\n",
            "\n",
            "[100 rows x 6 columns]\n"
          ]
        }
      ],
      "source": [
        "import pandas as pd\n",
        "\n",
        "# بارگذاری فایل\n",
        "data = pd.read_csv('/content/drive/MyDrive/my_csv_files/advertising.csv')\n",
        "\n",
        "# جدا کردن ویژگی‌ها و برچسب‌ها\n",
        "X = data.drop('sales', axis=1)\n",
        "y= data['sales']\n",
        "\n",
        "print(X.shape)\n",
        "\n",
        "df_Advertising_results = knn_auto_evaluator_from_xy(X, y)\n",
        "print(df_Advertising_results)\n",
        "\n",
        "results.append({'name': 'Advertising', 'type': 'regression', 'table': df_Advertising_results})"
      ]
    },
    {
      "cell_type": "code",
      "execution_count": 8,
      "metadata": {
        "colab": {
          "base_uri": "https://localhost:8080/"
        },
        "id": "eks7hrKw2YXc",
        "outputId": "0ae64ebc-4026-4c50-cda2-0046a3938c23"
      },
      "outputs": [
        {
          "output_type": "stream",
          "name": "stdout",
          "text": [
            "(506, 13)\n",
            "    Test Size  Repeat    All_R2    All_MSE  BestGroup_R2  BestGroup_MSE\n",
            "0        0.10       1  0.438163  69.407263      0.872576      15.741537\n",
            "1        0.10       2  0.231464  54.747725      0.647250      25.128667\n",
            "2        0.10       3  0.621308  18.552690      0.756002      11.953827\n",
            "3        0.10       4  0.483358  53.291631      0.716311      29.262478\n",
            "4        0.10       5  0.273781  53.921961      0.837097      12.095624\n",
            "..        ...     ...       ...        ...           ...            ...\n",
            "95       0.25      16  0.534659  37.824060      0.786594      17.346198\n",
            "96       0.25      17  0.518758  41.483033      0.747003      21.808328\n",
            "97       0.25      18  0.431339  47.894164      0.767876      19.550076\n",
            "98       0.25      19  0.505033  33.985717      0.787893      14.563808\n",
            "99       0.25      20  0.644680  31.895786      0.876554      11.081285\n",
            "\n",
            "[100 rows x 6 columns]\n"
          ]
        }
      ],
      "source": [
        "import pandas as pd\n",
        "\n",
        "# بارگذاری فایل\n",
        "data = pd.read_csv('/content/drive/MyDrive/my_csv_files/BostonHousing.csv')\n",
        "\n",
        "\n",
        "\n",
        "# جدا کردن ویژگی‌ها و برچسب‌ها\n",
        "X = data.drop('medv', axis=1)\n",
        "y= data['medv']\n",
        "\n",
        "print(X.shape)\n",
        "\n",
        "df_BostonHousing_results = knn_auto_evaluator_from_xy(X, y)\n",
        "print(df_BostonHousing_results)\n",
        "results.append({'name': 'BostonHousing', 'type': 'regression', 'table': df_BostonHousing_results})"
      ]
    },
    {
      "cell_type": "code",
      "execution_count": 9,
      "metadata": {
        "colab": {
          "base_uri": "https://localhost:8080/"
        },
        "id": "SAPjw0uj2y3T",
        "outputId": "8db2e4bb-5452-4a5e-c29f-a497a0ef5760"
      },
      "outputs": [
        {
          "output_type": "stream",
          "name": "stdout",
          "text": [
            "(50, 5)\n",
            "    Test Size  Repeat    All_R2   All_MSE  BestGroup_R2  BestGroup_MSE\n",
            "0        0.10       1 -0.132727  0.311500      0.925455       0.020500\n",
            "1        0.10       2  0.103448  0.260000      0.953448       0.013500\n",
            "2        0.10       3  0.077742  1.429500      0.839355       0.249000\n",
            "3        0.10       4 -0.273846  0.414000      0.738462       0.085000\n",
            "4        0.10       5  0.228375  1.400500      0.963361       0.066500\n",
            "..        ...     ...       ...       ...           ...            ...\n",
            "95       0.25      16  0.419725  0.655385      0.923209       0.086731\n",
            "96       0.25      17  0.516405  0.342308      0.897304       0.072692\n",
            "97       0.25      18 -0.046906  1.078654      0.874386       0.129423\n",
            "98       0.25      19  0.137774  1.232115      0.950072       0.071346\n",
            "99       0.25      20 -0.401383  2.203654      0.913415       0.136154\n",
            "\n",
            "[100 rows x 6 columns]\n"
          ]
        }
      ],
      "source": [
        "import pandas as pd\n",
        "\n",
        "# بارگذاری فایل\n",
        "data = pd.read_csv('/content/drive/MyDrive/my_csv_files/cookie_recipes.csv')\n",
        "\n",
        "\n",
        "# جدا کردن ویژگی‌ها و برچسب‌ها\n",
        "X = data.drop('rating', axis=1)\n",
        "y= data['rating']\n",
        "\n",
        "print(X.shape)\n",
        "\n",
        "df_Cookie_Recipes_results = knn_auto_evaluator_from_xy(X, y)\n",
        "print(df_Cookie_Recipes_results)\n",
        "\n",
        "results.append({'name': 'Cookie_Recipes', 'type': 'regression', 'table': df_Cookie_Recipes_results})"
      ]
    },
    {
      "cell_type": "code",
      "execution_count": 10,
      "metadata": {
        "colab": {
          "base_uri": "https://localhost:8080/"
        },
        "id": "BPKuFMadwBoP",
        "outputId": "0c437577-adf2-40e6-e46c-71d26c629b18"
      },
      "outputs": [
        {
          "output_type": "stream",
          "name": "stdout",
          "text": [
            "(178, 13)\n",
            "    Test Size  Repeat  All_Accuracy  BestGroup_Accuracy\n",
            "0        0.10       1      0.666667            0.777778\n",
            "1        0.10       2      0.666667            0.777778\n",
            "2        0.10       3      0.722222            0.944444\n",
            "3        0.10       4      0.722222            0.777778\n",
            "4        0.10       5      0.833333            0.944444\n",
            "..        ...     ...           ...                 ...\n",
            "95       0.25      16      0.800000            0.888889\n",
            "96       0.25      17      0.755556            0.911111\n",
            "97       0.25      18      0.644444            0.755556\n",
            "98       0.25      19      0.688889            0.911111\n",
            "99       0.25      20      0.688889            0.911111\n",
            "\n",
            "[100 rows x 4 columns]\n"
          ]
        }
      ],
      "source": [
        "from sklearn.datasets import load_wine\n",
        "data = load_wine(as_frame=True)\n",
        "X = data.data\n",
        "y = data.target\n",
        "print(X.shape)\n",
        "\n",
        "\n",
        "df_wine_results = knn_auto_evaluator_from_xy(X, y)\n",
        "print(df_wine_results)\n",
        "\n",
        "results.append({'name': 'wine', 'type': 'classification', 'table': df_wine_results})"
      ]
    },
    {
      "cell_type": "code",
      "execution_count": 11,
      "metadata": {
        "colab": {
          "base_uri": "https://localhost:8080/"
        },
        "id": "hn6r6r50ztsy",
        "outputId": "be62d01b-21c8-4c64-f9ec-9d3a7b8631fe"
      },
      "outputs": [
        {
          "output_type": "stream",
          "name": "stdout",
          "text": [
            "(2148, 17)\n",
            "    Test Size  Repeat  All_Accuracy  BestGroup_Accuracy\n",
            "0        0.10       1      0.739535            0.818605\n",
            "1        0.10       2      0.758140            0.841860\n",
            "2        0.10       3      0.744186            0.809302\n",
            "3        0.10       4      0.744186            0.781395\n",
            "4        0.10       5      0.748837            0.804651\n",
            "..        ...     ...           ...                 ...\n",
            "95       0.25      16      0.750466            0.849162\n",
            "96       0.25      17      0.763501            0.826816\n",
            "97       0.25      18      0.761639            0.836127\n",
            "98       0.25      19      0.769088            0.849162\n",
            "99       0.25      20      0.741155            0.832402\n",
            "\n",
            "[100 rows x 4 columns]\n"
          ]
        }
      ],
      "source": [
        "import pandas as pd\n",
        "\n",
        "# بارگذاری فایل اکسل\n",
        "data = pd.read_excel('/content/drive/MyDrive/my_csv_files/Pistachio.xlsx')\n",
        "# حذف سطرهای حاوی NaN\n",
        "data = data.dropna()\n",
        "\n",
        "\n",
        "# جدا کردن ویژگی‌ها و برچسب‌ها\n",
        "X = data.drop('Class', axis=1)\n",
        "y = data['Class']\n",
        "\n",
        "print(data.shape)\n",
        "\n",
        "\n",
        "df_Pistachio_results = knn_auto_evaluator_from_xy(X, y)\n",
        "print(df_Pistachio_results)\n",
        "\n",
        "results.append({'name': 'Pistachio', 'type': 'classification', 'table': df_Pistachio_results})"
      ]
    },
    {
      "cell_type": "code",
      "execution_count": 12,
      "metadata": {
        "id": "3uZHR-wuCmea"
      },
      "outputs": [],
      "source": [
        "import pandas as pd\n",
        "\n",
        "def summarize_max_diff_results(dataset_tables):\n",
        "    \"\"\"\n",
        "    dataset_tables: لیستی از دیکشنری‌ها به شکل زیر:\n",
        "    [\n",
        "        {'name': 'Diabetes', 'type': 'regression', 'table': df1},\n",
        "        {'name': 'Wine', 'type': 'classification', 'table': df2},\n",
        "        ...\n",
        "    ]\n",
        "\n",
        "    خروجی: DataFrame خلاصه از بیشترین اختلاف برای هر دیتاست\n",
        "    \"\"\"\n",
        "    summary_rows = []\n",
        "\n",
        "    for item in dataset_tables:\n",
        "        name = item['name']\n",
        "        dtype = item['type']\n",
        "        df = item['table']\n",
        "\n",
        "        if dtype == 'regression':\n",
        "            # محاسبه بیشترین اختلاف MSE\n",
        "            df['MSE_Diff'] = df['All_MSE'] - df['BestGroup_MSE']\n",
        "            best_row = df.loc[df['MSE_Diff'].idxmax()]\n",
        "            summary_rows.append({\n",
        "                'Dataset': name,\n",
        "                'Type': dtype,\n",
        "                'All_Accuracy': None,\n",
        "                'BestGroup_Accuracy': None,\n",
        "                'All_R2': best_row['All_R2'],\n",
        "                'BestGroup_R2': best_row['BestGroup_R2'],\n",
        "                'All_MSE': best_row['All_MSE'],\n",
        "                'BestGroup_MSE': best_row['BestGroup_MSE']\n",
        "            })\n",
        "\n",
        "        elif dtype == 'classification':\n",
        "            # محاسبه بیشترین اختلاف دقت\n",
        "            df['Accuracy_Diff'] = df['BestGroup_Accuracy'] - df['All_Accuracy']\n",
        "            best_row = df.loc[df['Accuracy_Diff'].idxmax()]\n",
        "            summary_rows.append({\n",
        "                'Dataset': name,\n",
        "                'Type': dtype,\n",
        "                'All_Accuracy': best_row['All_Accuracy'],\n",
        "                'BestGroup_Accuracy': best_row['BestGroup_Accuracy'],\n",
        "                'All_R2': None,\n",
        "                'BestGroup_R2': None,\n",
        "                'All_MSE': None,\n",
        "                'BestGroup_MSE': None\n",
        "            })\n",
        "\n",
        "    return pd.DataFrame(summary_rows)\n"
      ]
    },
    {
      "cell_type": "code",
      "execution_count": 13,
      "metadata": {
        "id": "8OILSpVpCpK-",
        "colab": {
          "base_uri": "https://localhost:8080/"
        },
        "outputId": "551bb32e-4f38-4572-e3bf-311e549b6d95"
      },
      "outputs": [
        {
          "output_type": "stream",
          "name": "stdout",
          "text": [
            "          Dataset            Type  All_Accuracy  BestGroup_Accuracy    All_R2  \\\n",
            "0         Bodyfat      regression           NaN                 NaN  0.568511   \n",
            "1     Advertising      regression           NaN                 NaN  0.805231   \n",
            "2   BostonHousing      regression           NaN                 NaN  0.438163   \n",
            "3  Cookie_Recipes      regression           NaN                 NaN -0.822476   \n",
            "4            wine  classification      0.611111            1.000000       NaN   \n",
            "5       Pistachio  classification      0.738386            0.858191       NaN   \n",
            "\n",
            "   BestGroup_R2    All_MSE  BestGroup_MSE  \n",
            "0      0.695741  39.695248      27.990608  \n",
            "1      0.936763   6.526292       2.118938  \n",
            "2      0.872576  69.407263      15.741537  \n",
            "3      0.958632   2.797500       0.063500  \n",
            "4           NaN        NaN            NaN  \n",
            "5           NaN        NaN            NaN  \n"
          ]
        }
      ],
      "source": [
        "results = [\n",
        "    {'name': 'Bodyfat', 'type': 'regression', 'table': df_Bodyfat_results},\n",
        "    {'name': 'Advertising', 'type': 'regression', 'table': df_Advertising_results},\n",
        "    {'name': 'BostonHousing', 'type': 'regression', 'table': df_BostonHousing_results},\n",
        "    {'name': 'Cookie_Recipes', 'type': 'regression', 'table': df_Cookie_Recipes_results},\n",
        "    #{'name': 'California_Housing', 'type': 'regression', 'table': df_California_Housing_results},\n",
        "    {'name': 'wine', 'type': 'classification', 'table': df_wine_results},\n",
        "    #{'name': 'Jannis(43977)', 'type': 'classification', 'table': df_Jannis_results},\n",
        "    {'name': 'Pistachio', 'type': 'classification', 'table': df_Pistachio_results},\n",
        "    #{'name': 'MagicTelescope(43971)', 'type': 'classification', 'table': df_MagicTelescope_results},\n",
        "    #{'name': 'Hill_Valley_with_Noise(1046)', 'type': 'classification', 'table': df_Noise_results},\n",
        "    #{'name': 'Climate Model Simulation', 'type': 'classification', 'table': df_Climate_results}\n",
        "\n",
        "]\n",
        "\n",
        "summary = summarize_max_diff_results(results)\n",
        "print(summary)\n"
      ]
    },
    {
      "cell_type": "code",
      "source": [],
      "metadata": {
        "id": "CGbFSCJ4T2xL"
      },
      "execution_count": null,
      "outputs": []
    }
  ],
  "metadata": {
    "colab": {
      "provenance": [],
      "authorship_tag": "ABX9TyM0rA/a833Oxgy9eiR1X9sM",
      "include_colab_link": true
    },
    "kernelspec": {
      "display_name": "Python 3",
      "name": "python3"
    },
    "language_info": {
      "name": "python"
    }
  },
  "nbformat": 4,
  "nbformat_minor": 0
}