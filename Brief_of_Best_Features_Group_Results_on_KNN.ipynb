{
  "cells": [
    {
      "cell_type": "markdown",
      "metadata": {
        "id": "view-in-github",
        "colab_type": "text"
      },
      "source": [
        "<a href=\"https://colab.research.google.com/github/mehrnazeraeisi/Best-Features-Group-Results-on-KNN/blob/main/Brief_of_Best_Features_Group_Results_on_KNN.ipynb\" target=\"_parent\"><img src=\"https://colab.research.google.com/assets/colab-badge.svg\" alt=\"Open In Colab\"/></a>"
      ]
    },
    {
      "cell_type": "code",
      "execution_count": 1,
      "metadata": {
        "id": "X9QOsMKlug0B"
      },
      "outputs": [],
      "source": [
        "def knn_auto_evaluator_from_xy(X_data, y_data, test_sizes=[0.1, 0.13, 0.16 , 0.19, 0.25], n_repeats=20):\n",
        "    import numpy as np\n",
        "    import pandas as pd\n",
        "    from sklearn.model_selection import train_test_split\n",
        "    from sklearn.neighbors import KNeighborsRegressor, KNeighborsClassifier\n",
        "    from sklearn.metrics import r2_score, mean_squared_error, accuracy_score\n",
        "    import warnings\n",
        "    warnings.filterwarnings(\"ignore\")\n",
        "\n",
        "    # تشخیص نوع تارگت\n",
        "    if pd.api.types.is_numeric_dtype(y_data):\n",
        "        target_type = 'regression' if len(np.unique(y_data)) > 10 else 'classification'\n",
        "    else:\n",
        "        target_type = 'classification'\n",
        "\n",
        "    feature_names = X_data.columns.tolist()\n",
        "    results = []\n",
        "\n",
        "    for ts in test_sizes:\n",
        "        for repeat in range(1, n_repeats+1):\n",
        "            X_train, X_test, y_train, y_test = train_test_split(X_data, y_data, test_size=ts)\n",
        "\n",
        "            scores = []\n",
        "            for feature in feature_names:\n",
        "                model = KNeighborsRegressor() if target_type == 'regression' else KNeighborsClassifier()\n",
        "                model.fit(X_train[[feature]], y_train)\n",
        "                y_pred = model.predict(X_train[[feature]])\n",
        "                score = r2_score(y_train, y_pred) if target_type == 'regression' else accuracy_score(y_train, y_pred)\n",
        "                scores.append((feature, score))\n",
        "\n",
        "            df_scores = pd.DataFrame(scores, columns=['Feature', 'Score']).sort_values(by='Score', ascending=False)\n",
        "\n",
        "            best_score = -np.inf\n",
        "            best_group = []\n",
        "            for k in range(1, len(df_scores)+1):\n",
        "                group = df_scores['Feature'][:k].tolist()\n",
        "                model = KNeighborsRegressor() if target_type == 'regression' else KNeighborsClassifier()\n",
        "                model.fit(X_train[group], y_train)\n",
        "                y_pred = model.predict(X_train[group])\n",
        "                score = r2_score(y_train, y_pred) if target_type == 'regression' else accuracy_score(y_train, y_pred)\n",
        "                if score > best_score:\n",
        "                    best_score = score\n",
        "                    best_group = group\n",
        "\n",
        "            model_all = KNeighborsRegressor() if target_type == 'regression' else KNeighborsClassifier()\n",
        "            model_best = KNeighborsRegressor() if target_type == 'regression' else KNeighborsClassifier()\n",
        "            model_all.fit(X_train, y_train)\n",
        "            model_best.fit(X_train[best_group], y_train)\n",
        "            y_pred_all = model_all.predict(X_test)\n",
        "            y_pred_best = model_best.predict(X_test[best_group])\n",
        "\n",
        "            if target_type == 'regression':\n",
        "                result_row = {\n",
        "                    'Test Size': ts,\n",
        "                    'Repeat': repeat,\n",
        "                    'All_R2': r2_score(y_test, y_pred_all),\n",
        "                    'All_MSE': mean_squared_error(y_test, y_pred_all),\n",
        "                    'BestGroup_R2': r2_score(y_test, y_pred_best),\n",
        "                    'BestGroup_MSE': mean_squared_error(y_test, y_pred_best),\n",
        "\n",
        "                }\n",
        "                column_order = ['Test Size', 'Repeat', 'All_R2', 'All_MSE', 'BestGroup_R2', 'BestGroup_MSE']\n",
        "            else:\n",
        "                result_row = {\n",
        "                    'Test Size': ts,\n",
        "                    'Repeat': repeat,\n",
        "                    'All_Accuracy': accuracy_score(y_test, y_pred_all),\n",
        "                    'BestGroup_Accuracy': accuracy_score(y_test, y_pred_best),\n",
        "\n",
        "                }\n",
        "                column_order = ['Test Size', 'Repeat', 'All_Accuracy', 'BestGroup_Accuracy']\n",
        "\n",
        "            results.append(result_row)\n",
        "\n",
        "    # ساخت DataFrame نهایی با ترتیب دقیق ستون‌ها\n",
        "    return pd.DataFrame(results)[column_order]\n"
      ]
    },
    {
      "cell_type": "code",
      "execution_count": 2,
      "metadata": {
        "colab": {
          "base_uri": "https://localhost:8080/"
        },
        "id": "vbTlItGrDze8",
        "outputId": "e82f1974-5586-4705-d955-e7fa76dea6c6"
      },
      "outputs": [
        {
          "output_type": "stream",
          "name": "stdout",
          "text": [
            "Collecting openml\n",
            "  Downloading openml-0.15.1-py3-none-any.whl.metadata (10 kB)\n",
            "Collecting liac-arff>=2.4.0 (from openml)\n",
            "  Downloading liac-arff-2.5.0.tar.gz (13 kB)\n",
            "  Preparing metadata (setup.py) ... \u001b[?25l\u001b[?25hdone\n",
            "Collecting xmltodict (from openml)\n",
            "  Downloading xmltodict-0.14.2-py2.py3-none-any.whl.metadata (8.0 kB)\n",
            "Requirement already satisfied: requests in /usr/local/lib/python3.11/dist-packages (from openml) (2.32.3)\n",
            "Requirement already satisfied: scikit-learn>=0.18 in /usr/local/lib/python3.11/dist-packages (from openml) (1.6.1)\n",
            "Requirement already satisfied: python-dateutil in /usr/local/lib/python3.11/dist-packages (from openml) (2.9.0.post0)\n",
            "Requirement already satisfied: pandas>=1.0.0 in /usr/local/lib/python3.11/dist-packages (from openml) (2.2.2)\n",
            "Requirement already satisfied: scipy>=0.13.3 in /usr/local/lib/python3.11/dist-packages (from openml) (1.15.3)\n",
            "Requirement already satisfied: numpy>=1.6.2 in /usr/local/lib/python3.11/dist-packages (from openml) (2.0.2)\n",
            "Collecting minio (from openml)\n",
            "  Downloading minio-7.2.15-py3-none-any.whl.metadata (6.7 kB)\n",
            "Requirement already satisfied: pyarrow in /usr/local/lib/python3.11/dist-packages (from openml) (18.1.0)\n",
            "Requirement already satisfied: tqdm in /usr/local/lib/python3.11/dist-packages (from openml) (4.67.1)\n",
            "Requirement already satisfied: packaging in /usr/local/lib/python3.11/dist-packages (from openml) (24.2)\n",
            "Requirement already satisfied: pytz>=2020.1 in /usr/local/lib/python3.11/dist-packages (from pandas>=1.0.0->openml) (2025.2)\n",
            "Requirement already satisfied: tzdata>=2022.7 in /usr/local/lib/python3.11/dist-packages (from pandas>=1.0.0->openml) (2025.2)\n",
            "Requirement already satisfied: six>=1.5 in /usr/local/lib/python3.11/dist-packages (from python-dateutil->openml) (1.17.0)\n",
            "Requirement already satisfied: joblib>=1.2.0 in /usr/local/lib/python3.11/dist-packages (from scikit-learn>=0.18->openml) (1.5.0)\n",
            "Requirement already satisfied: threadpoolctl>=3.1.0 in /usr/local/lib/python3.11/dist-packages (from scikit-learn>=0.18->openml) (3.6.0)\n",
            "Requirement already satisfied: certifi in /usr/local/lib/python3.11/dist-packages (from minio->openml) (2025.4.26)\n",
            "Requirement already satisfied: urllib3 in /usr/local/lib/python3.11/dist-packages (from minio->openml) (2.4.0)\n",
            "Requirement already satisfied: argon2-cffi in /usr/local/lib/python3.11/dist-packages (from minio->openml) (23.1.0)\n",
            "Collecting pycryptodome (from minio->openml)\n",
            "  Downloading pycryptodome-3.23.0-cp37-abi3-manylinux_2_17_x86_64.manylinux2014_x86_64.whl.metadata (3.4 kB)\n",
            "Requirement already satisfied: typing-extensions in /usr/local/lib/python3.11/dist-packages (from minio->openml) (4.13.2)\n",
            "Requirement already satisfied: charset-normalizer<4,>=2 in /usr/local/lib/python3.11/dist-packages (from requests->openml) (3.4.2)\n",
            "Requirement already satisfied: idna<4,>=2.5 in /usr/local/lib/python3.11/dist-packages (from requests->openml) (3.10)\n",
            "Requirement already satisfied: argon2-cffi-bindings in /usr/local/lib/python3.11/dist-packages (from argon2-cffi->minio->openml) (21.2.0)\n",
            "Requirement already satisfied: cffi>=1.0.1 in /usr/local/lib/python3.11/dist-packages (from argon2-cffi-bindings->argon2-cffi->minio->openml) (1.17.1)\n",
            "Requirement already satisfied: pycparser in /usr/local/lib/python3.11/dist-packages (from cffi>=1.0.1->argon2-cffi-bindings->argon2-cffi->minio->openml) (2.22)\n",
            "Downloading openml-0.15.1-py3-none-any.whl (160 kB)\n",
            "\u001b[2K   \u001b[90m━━━━━━━━━━━━━━━━━━━━━━━━━━━━━━━━━━━━━━━━\u001b[0m \u001b[32m160.4/160.4 kB\u001b[0m \u001b[31m4.2 MB/s\u001b[0m eta \u001b[36m0:00:00\u001b[0m\n",
            "\u001b[?25hDownloading minio-7.2.15-py3-none-any.whl (95 kB)\n",
            "\u001b[2K   \u001b[90m━━━━━━━━━━━━━━━━━━━━━━━━━━━━━━━━━━━━━━━━\u001b[0m \u001b[32m95.1/95.1 kB\u001b[0m \u001b[31m5.9 MB/s\u001b[0m eta \u001b[36m0:00:00\u001b[0m\n",
            "\u001b[?25hDownloading xmltodict-0.14.2-py2.py3-none-any.whl (10.0 kB)\n",
            "Downloading pycryptodome-3.23.0-cp37-abi3-manylinux_2_17_x86_64.manylinux2014_x86_64.whl (2.3 MB)\n",
            "\u001b[2K   \u001b[90m━━━━━━━━━━━━━━━━━━━━━━━━━━━━━━━━━━━━━━━━\u001b[0m \u001b[32m2.3/2.3 MB\u001b[0m \u001b[31m34.3 MB/s\u001b[0m eta \u001b[36m0:00:00\u001b[0m\n",
            "\u001b[?25hBuilding wheels for collected packages: liac-arff\n",
            "  Building wheel for liac-arff (setup.py) ... \u001b[?25l\u001b[?25hdone\n",
            "  Created wheel for liac-arff: filename=liac_arff-2.5.0-py3-none-any.whl size=11717 sha256=37dfd422a73a1be412be4cd2a08295c4abeb278d6d92f0d1e7df2281550b6cd1\n",
            "  Stored in directory: /root/.cache/pip/wheels/00/23/31/5e562fce1f95aabe57f2a7320d07433ba1cd152bcde2f6a002\n",
            "Successfully built liac-arff\n",
            "Installing collected packages: xmltodict, pycryptodome, liac-arff, minio, openml\n",
            "Successfully installed liac-arff-2.5.0 minio-7.2.15 openml-0.15.1 pycryptodome-3.23.0 xmltodict-0.14.2\n"
          ]
        }
      ],
      "source": [
        "!pip install openml"
      ]
    },
    {
      "cell_type": "code",
      "source": [
        "from google.colab import drive\n",
        "drive.mount('/content/drive')"
      ],
      "metadata": {
        "colab": {
          "base_uri": "https://localhost:8080/"
        },
        "id": "1nPLisq8D0rO",
        "outputId": "fdae98aa-5f55-4512-acb1-0d7def2ef110"
      },
      "execution_count": 3,
      "outputs": [
        {
          "output_type": "stream",
          "name": "stdout",
          "text": [
            "Mounted at /content/drive\n"
          ]
        }
      ]
    },
    {
      "cell_type": "code",
      "source": [
        "import pandas as pd\n",
        "import os\n",
        "\n",
        "folder_path = '/content/drive/MyDrive/my_csv_files'\n",
        "\n",
        "# لیست تمام فایل‌های CSV و Excel\n",
        "files = os.listdir(folder_path)\n",
        "\n",
        "dataframes = []\n",
        "\n",
        "for file in files:\n",
        "    file_path = os.path.join(folder_path, file)\n",
        "\n",
        "    if file.endswith('.csv'):\n",
        "        df = pd.read_csv(file_path)\n",
        "        print(f\"Loaded CSV: {file}\")\n",
        "\n",
        "    elif file.endswith('.xlsx') or file.endswith('.xls'):\n",
        "        df = pd.read_excel(file_path)\n",
        "        print(f\"Loaded Excel: {file}\")\n",
        "\n",
        "    else:\n",
        "        print(f\"Skipped unsupported file: {file}\")\n",
        "        continue\n",
        "\n",
        "    dataframes.append(df)\n"
      ],
      "metadata": {
        "id": "OdLNxOvS64I4",
        "colab": {
          "base_uri": "https://localhost:8080/"
        },
        "outputId": "03a06bb4-e4dc-48a1-916f-c6937b29bdcc"
      },
      "execution_count": 4,
      "outputs": [
        {
          "output_type": "stream",
          "name": "stdout",
          "text": [
            "Loaded CSV: advertising.csv\n",
            "Loaded CSV: bodyfat.csv\n",
            "Loaded CSV: cookie_recipes.csv\n",
            "Loaded Excel: Pistachio.xlsx\n",
            "Loaded CSV: BostonHousing.csv\n"
          ]
        }
      ]
    },
    {
      "cell_type": "code",
      "execution_count": 5,
      "metadata": {
        "id": "fGcOX11cJA1K"
      },
      "outputs": [],
      "source": [
        "results = []"
      ]
    },
    {
      "cell_type": "code",
      "execution_count": 19,
      "metadata": {
        "colab": {
          "base_uri": "https://localhost:8080/"
        },
        "id": "df8b2N3bu_wG",
        "outputId": "068ece48-8d2c-4dae-a486-9e5b7432945e"
      },
      "outputs": [
        {
          "output_type": "stream",
          "name": "stdout",
          "text": [
            "(250, 14)\n",
            "    Test Size  Repeat    All_R2    All_MSE  BestGroup_R2  BestGroup_MSE\n",
            "0        0.10       1  0.672261  23.932112      0.648736      25.649936\n",
            "1        0.10       2  0.656726  27.487952      0.688599      24.935712\n",
            "2        0.10       3  0.453015  44.851824      0.514638      39.798848\n",
            "3        0.10       4  0.620723  32.257344      0.602108      33.840560\n",
            "4        0.10       5  0.665487  25.714144      0.613394      29.718544\n",
            "..        ...     ...       ...        ...           ...            ...\n",
            "95       0.25      16  0.577758  24.113035      0.556896      25.304425\n",
            "96       0.25      17  0.546715  33.398717      0.610492      28.699524\n",
            "97       0.25      18  0.567203  33.290298      0.610178      29.984667\n",
            "98       0.25      19  0.581678  25.716057      0.627029      22.928190\n",
            "99       0.25      20  0.543140  35.181657      0.601020      30.724502\n",
            "\n",
            "[100 rows x 6 columns]\n"
          ]
        }
      ],
      "source": [
        "import pandas as pd\n",
        "\n",
        "\n",
        "# مسیر فایل در گوگل درایو\n",
        "file_path = '/content/drive/MyDrive/my_csv_files/bodyfat.csv'\n",
        "\n",
        "# بارگذاری فایل\n",
        "data = pd.read_csv(file_path)\n",
        "\n",
        "# جدا کردن ویژگی‌ها و برچسب‌ها\n",
        "X = data.drop('Pct.BF', axis=1)\n",
        "y = data['Pct.BF']\n",
        "\n",
        "print(X.shape)\n",
        "\n",
        "\n",
        "df_Bodyfat_results = knn_auto_evaluator_from_xy(X, y)\n",
        "print(df_Bodyfat_results)\n",
        "\n",
        "results.append({'name': 'Bodyfat', 'type': 'regression', 'table': df_Bodyfat_results})"
      ]
    },
    {
      "cell_type": "code",
      "execution_count": 21,
      "metadata": {
        "colab": {
          "base_uri": "https://localhost:8080/"
        },
        "id": "HWVAXcQb1sPd",
        "outputId": "6b69b60e-756f-4d87-9711-a050213ff5a1"
      },
      "outputs": [
        {
          "output_type": "stream",
          "name": "stdout",
          "text": [
            "(200, 3)\n",
            "    Test Size  Repeat    All_R2   All_MSE  BestGroup_R2  BestGroup_MSE\n",
            "0        0.10       1  0.932083  2.022200      0.958217       1.244060\n",
            "1        0.10       2  0.942352  1.429780      0.972173       0.690160\n",
            "2        0.10       3  0.903030  2.149040      0.940896       1.309860\n",
            "3        0.10       4  0.848911  3.910180      0.957263       1.106040\n",
            "4        0.10       5  0.906568  1.241200      0.935707       0.854100\n",
            "..        ...     ...       ...       ...           ...            ...\n",
            "95       0.25      16  0.912485  2.149544      0.944995       1.351032\n",
            "96       0.25      17  0.932980  1.524952      0.964343       0.811328\n",
            "97       0.25      18  0.915385  2.551760      0.963523       1.100056\n",
            "98       0.25      19  0.909186  2.225424      0.952867       1.155016\n",
            "99       0.25      20  0.915935  2.249944      0.959286       1.089680\n",
            "\n",
            "[100 rows x 6 columns]\n"
          ]
        }
      ],
      "source": [
        "import pandas as pd\n",
        "\n",
        "# بارگذاری فایل\n",
        "data = pd.read_csv('/content/drive/MyDrive/my_csv_files/advertising.csv')\n",
        "\n",
        "# جدا کردن ویژگی‌ها و برچسب‌ها\n",
        "X = data.drop('sales', axis=1)\n",
        "y= data['sales']\n",
        "\n",
        "print(X.shape)\n",
        "\n",
        "df_Advertising_results = knn_auto_evaluator_from_xy(X, y)\n",
        "print(df_Advertising_results)\n",
        "\n",
        "results.append({'name': 'Advertising', 'type': 'regression', 'table': df_Advertising_results})"
      ]
    },
    {
      "cell_type": "code",
      "execution_count": 20,
      "metadata": {
        "colab": {
          "base_uri": "https://localhost:8080/"
        },
        "id": "eks7hrKw2YXc",
        "outputId": "e686a918-296e-48c1-aa05-ca6ea4efa4c8"
      },
      "outputs": [
        {
          "output_type": "stream",
          "name": "stdout",
          "text": [
            "(506, 13)\n",
            "    Test Size  Repeat    All_R2    All_MSE  BestGroup_R2  BestGroup_MSE\n",
            "0        0.10       1  0.595214  39.740518      0.856012      14.136282\n",
            "1        0.10       2  0.456855  28.770471      0.701213      15.826792\n",
            "2        0.10       3  0.460511  40.062149      0.748068      18.708345\n",
            "3        0.10       4  0.636539  39.552557      0.710826      31.468533\n",
            "4        0.10       5  0.617703  22.359553      0.754891      14.335796\n",
            "..        ...     ...       ...        ...           ...            ...\n",
            "95       0.25      16  0.500734  35.536450      0.812201      13.367036\n",
            "96       0.25      17  0.553430  27.674274      0.705900      18.225631\n",
            "97       0.25      18  0.601322  36.390854      0.748085      22.994441\n",
            "98       0.25      19  0.654872  26.228283      0.744245      19.436331\n",
            "99       0.25      20  0.525003  42.503518      0.761243      21.364400\n",
            "\n",
            "[100 rows x 6 columns]\n"
          ]
        }
      ],
      "source": [
        "import pandas as pd\n",
        "\n",
        "# بارگذاری فایل\n",
        "data = pd.read_csv('/content/drive/MyDrive/my_csv_files/BostonHousing.csv')\n",
        "\n",
        "\n",
        "\n",
        "# جدا کردن ویژگی‌ها و برچسب‌ها\n",
        "X = data.drop('medv', axis=1)\n",
        "y= data['medv']\n",
        "\n",
        "print(X.shape)\n",
        "\n",
        "df_BostonHousing_results = knn_auto_evaluator_from_xy(X, y)\n",
        "print(df_BostonHousing_results)\n",
        "results.append({'name': 'BostonHousing', 'type': 'regression', 'table': df_BostonHousing_results})"
      ]
    },
    {
      "cell_type": "code",
      "execution_count": 22,
      "metadata": {
        "colab": {
          "base_uri": "https://localhost:8080/"
        },
        "id": "SAPjw0uj2y3T",
        "outputId": "08c62122-bdaf-46ef-beee-778a4886495e"
      },
      "outputs": [
        {
          "output_type": "stream",
          "name": "stdout",
          "text": [
            "(50, 5)\n",
            "    Test Size  Repeat    All_R2   All_MSE  BestGroup_R2  BestGroup_MSE\n",
            "0        0.10       1  0.699148  0.883000      0.938160       0.181500\n",
            "1        0.10       2 -0.645098  2.097500      0.972157       0.035500\n",
            "2        0.10       3 -0.731579  1.151500      0.950376       0.033000\n",
            "3        0.10       4 -0.589344  0.969500      0.800000       0.122000\n",
            "4        0.10       5  0.059459  1.044000      0.977477       0.025000\n",
            "..        ...     ...       ...       ...           ...            ...\n",
            "95       0.25      16  0.035936  2.263269      0.916528       0.195962\n",
            "96       0.25      17 -0.297138  1.045769      0.926771       0.059038\n",
            "97       0.25      18  0.191768  0.946923      0.966679       0.039038\n",
            "98       0.25      19  0.212676  1.653846      0.940585       0.124808\n",
            "99       0.25      20 -1.098749  1.463846      0.908187       0.064038\n",
            "\n",
            "[100 rows x 6 columns]\n"
          ]
        }
      ],
      "source": [
        "import pandas as pd\n",
        "\n",
        "# بارگذاری فایل\n",
        "data = pd.read_csv('/content/drive/MyDrive/my_csv_files/cookie_recipes.csv')\n",
        "\n",
        "\n",
        "# جدا کردن ویژگی‌ها و برچسب‌ها\n",
        "X = data.drop('rating', axis=1)\n",
        "y= data['rating']\n",
        "\n",
        "print(X.shape)\n",
        "\n",
        "df_Cookie_Recipes_results = knn_auto_evaluator_from_xy(X, y)\n",
        "print(df_Cookie_Recipes_results)\n",
        "\n",
        "results.append({'name': 'Cookie_Recipes', 'type': 'regression', 'table': df_Cookie_Recipes_results})"
      ]
    },
    {
      "cell_type": "code",
      "execution_count": 23,
      "metadata": {
        "colab": {
          "base_uri": "https://localhost:8080/"
        },
        "id": "BPKuFMadwBoP",
        "outputId": "73a09e96-81e0-4ccd-d587-312a82ce9cc9"
      },
      "outputs": [
        {
          "output_type": "stream",
          "name": "stdout",
          "text": [
            "(178, 13)\n",
            "    Test Size  Repeat  All_Accuracy  BestGroup_Accuracy\n",
            "0        0.10       1      0.777778            0.833333\n",
            "1        0.10       2      0.888889            0.944444\n",
            "2        0.10       3      0.777778            0.833333\n",
            "3        0.10       4      0.722222            0.722222\n",
            "4        0.10       5      0.666667            0.944444\n",
            "..        ...     ...           ...                 ...\n",
            "95       0.25      16      0.733333            0.866667\n",
            "96       0.25      17      0.733333            0.977778\n",
            "97       0.25      18      0.688889            0.777778\n",
            "98       0.25      19      0.688889            0.800000\n",
            "99       0.25      20      0.666667            0.866667\n",
            "\n",
            "[100 rows x 4 columns]\n"
          ]
        }
      ],
      "source": [
        "from sklearn.datasets import load_wine\n",
        "data = load_wine(as_frame=True)\n",
        "X = data.data\n",
        "y = data.target\n",
        "print(X.shape)\n",
        "\n",
        "\n",
        "df_wine_results = knn_auto_evaluator_from_xy(X, y)\n",
        "print(df_wine_results)\n",
        "\n",
        "results.append({'name': 'wine', 'type': 'classification', 'table': df_wine_results})"
      ]
    },
    {
      "cell_type": "code",
      "execution_count": 24,
      "metadata": {
        "colab": {
          "base_uri": "https://localhost:8080/"
        },
        "id": "hn6r6r50ztsy",
        "outputId": "6f1fb094-3266-4dc6-8bb9-529289331cb7"
      },
      "outputs": [
        {
          "output_type": "stream",
          "name": "stdout",
          "text": [
            "(2148, 17)\n",
            "    Test Size  Repeat  All_Accuracy  BestGroup_Accuracy\n",
            "0        0.10       1      0.809302            0.800000\n",
            "1        0.10       2      0.730233            0.841860\n",
            "2        0.10       3      0.753488            0.832558\n",
            "3        0.10       4      0.772093            0.823256\n",
            "4        0.10       5      0.748837            0.813953\n",
            "..        ...     ...           ...                 ...\n",
            "95       0.25      16      0.746741            0.806331\n",
            "96       0.25      17      0.748603            0.836127\n",
            "97       0.25      18      0.713222            0.817505\n",
            "98       0.25      19      0.756052            0.813780\n",
            "99       0.25      20      0.739292            0.826816\n",
            "\n",
            "[100 rows x 4 columns]\n"
          ]
        }
      ],
      "source": [
        "import pandas as pd\n",
        "\n",
        "# بارگذاری فایل اکسل\n",
        "data = pd.read_excel('/content/drive/MyDrive/my_csv_files/Pistachio.xlsx')\n",
        "# حذف سطرهای حاوی NaN\n",
        "data = data.dropna()\n",
        "\n",
        "\n",
        "# جدا کردن ویژگی‌ها و برچسب‌ها\n",
        "X = data.drop('Class', axis=1)\n",
        "y = data['Class']\n",
        "\n",
        "print(data.shape)\n",
        "\n",
        "\n",
        "df_Pistachio_results = knn_auto_evaluator_from_xy(X, y)\n",
        "print(df_Pistachio_results)\n",
        "\n",
        "results.append({'name': 'Pistachio', 'type': 'classification', 'table': df_Pistachio_results})"
      ]
    },
    {
      "cell_type": "code",
      "execution_count": null,
      "metadata": {
        "id": "Mr5KtLmsMBBP",
        "colab": {
          "base_uri": "https://localhost:8080/"
        },
        "outputId": "85030c0b-5aba-4110-ffd9-df4d4e56c84d"
      },
      "outputs": [
        {
          "output_type": "stream",
          "name": "stdout",
          "text": [
            "(1080, 78)\n",
            "(552, 78)\n"
          ]
        }
      ],
      "source": [
        "# Climate Model Simulation\n",
        "# شبیه‌سازی آب‌وهوا (دوتایی)\n",
        "import openml\n",
        "import pandas as pd\n",
        "\n",
        "dataset = openml.datasets.get_dataset(40966)\n",
        "data, y_data, _, _ = dataset.get_data(target=dataset.default_target_attribute)\n",
        "\n",
        "# 🔧 افزودن target به dataframe کامل (مثل خواندن فایل CSV)\n",
        "data['rating'] = y_data  # فرض می‌گیریم نام ستون هدف \"rating\" باشه برای یکسان بودن با مثال شما\n",
        "\n",
        "print(data.shape)\n",
        "# حذف سطرهای حاوی NaN\n",
        "data = data.dropna()\n",
        "\n",
        "\n",
        "print(data.shape)\n",
        "\n",
        "# 🎯 جدا کردن ویژگی‌ها و برچسب‌ها (مطابق ساختار شما)\n",
        "X = data.drop('rating', axis=1)\n",
        "y = data['rating']\n",
        "\n",
        "\n",
        "df_Climate_results = knn_auto_evaluator_from_xy(X, y)\n",
        "print(df_Climate_results)\n",
        "\n",
        "results.append({'name': 'Climate Model Simulation', 'type': 'classification', 'table': df_Climate_results})"
      ]
    },
    {
      "cell_type": "code",
      "execution_count": null,
      "metadata": {
        "id": "3uZHR-wuCmea"
      },
      "outputs": [],
      "source": [
        "import pandas as pd\n",
        "\n",
        "def summarize_max_diff_results(dataset_tables):\n",
        "    \"\"\"\n",
        "    dataset_tables: لیستی از دیکشنری‌ها به شکل زیر:\n",
        "    [\n",
        "        {'name': 'Diabetes', 'type': 'regression', 'table': df1},\n",
        "        {'name': 'Wine', 'type': 'classification', 'table': df2},\n",
        "        ...\n",
        "    ]\n",
        "\n",
        "    خروجی: DataFrame خلاصه از بیشترین اختلاف برای هر دیتاست\n",
        "    \"\"\"\n",
        "    summary_rows = []\n",
        "\n",
        "    for item in dataset_tables:\n",
        "        name = item['name']\n",
        "        dtype = item['type']\n",
        "        df = item['table']\n",
        "\n",
        "        if dtype == 'regression':\n",
        "            # محاسبه بیشترین اختلاف MSE\n",
        "            df['MSE_Diff'] = df['All_MSE'] - df['BestGroup_MSE']\n",
        "            best_row = df.loc[df['MSE_Diff'].idxmax()]\n",
        "            summary_rows.append({\n",
        "                'Dataset': name,\n",
        "                'Type': dtype,\n",
        "                'All_Accuracy': None,\n",
        "                'BestGroup_Accuracy': None,\n",
        "                'All_R2': best_row['All_R2'],\n",
        "                'BestGroup_R2': best_row['BestGroup_R2'],\n",
        "                'All_MSE': best_row['All_MSE'],\n",
        "                'BestGroup_MSE': best_row['BestGroup_MSE']\n",
        "            })\n",
        "\n",
        "        elif dtype == 'classification':\n",
        "            # محاسبه بیشترین اختلاف دقت\n",
        "            df['Accuracy_Diff'] = df['BestGroup_Accuracy'] - df['All_Accuracy']\n",
        "            best_row = df.loc[df['Accuracy_Diff'].idxmax()]\n",
        "            summary_rows.append({\n",
        "                'Dataset': name,\n",
        "                'Type': dtype,\n",
        "                'All_Accuracy': best_row['All_Accuracy'],\n",
        "                'BestGroup_Accuracy': best_row['BestGroup_Accuracy'],\n",
        "                'All_R2': None,\n",
        "                'BestGroup_R2': None,\n",
        "                'All_MSE': None,\n",
        "                'BestGroup_MSE': None\n",
        "            })\n",
        "\n",
        "    return pd.DataFrame(summary_rows)\n"
      ]
    },
    {
      "cell_type": "code",
      "execution_count": 15,
      "metadata": {
        "id": "8OILSpVpCpK-",
        "colab": {
          "base_uri": "https://localhost:8080/",
          "height": 547
        },
        "outputId": "822a352d-1176-4058-d166-47a64a4c1383"
      },
      "outputs": [
        {
          "output_type": "error",
          "ename": "KeyError",
          "evalue": "'All_MSE'",
          "traceback": [
            "\u001b[0;31m---------------------------------------------------------------------------\u001b[0m",
            "\u001b[0;31mKeyError\u001b[0m                                  Traceback (most recent call last)",
            "\u001b[0;32m/usr/local/lib/python3.11/dist-packages/pandas/core/indexes/base.py\u001b[0m in \u001b[0;36mget_loc\u001b[0;34m(self, key)\u001b[0m\n\u001b[1;32m   3804\u001b[0m         \u001b[0;32mtry\u001b[0m\u001b[0;34m:\u001b[0m\u001b[0;34m\u001b[0m\u001b[0;34m\u001b[0m\u001b[0m\n\u001b[0;32m-> 3805\u001b[0;31m             \u001b[0;32mreturn\u001b[0m \u001b[0mself\u001b[0m\u001b[0;34m.\u001b[0m\u001b[0m_engine\u001b[0m\u001b[0;34m.\u001b[0m\u001b[0mget_loc\u001b[0m\u001b[0;34m(\u001b[0m\u001b[0mcasted_key\u001b[0m\u001b[0;34m)\u001b[0m\u001b[0;34m\u001b[0m\u001b[0;34m\u001b[0m\u001b[0m\n\u001b[0m\u001b[1;32m   3806\u001b[0m         \u001b[0;32mexcept\u001b[0m \u001b[0mKeyError\u001b[0m \u001b[0;32mas\u001b[0m \u001b[0merr\u001b[0m\u001b[0;34m:\u001b[0m\u001b[0;34m\u001b[0m\u001b[0;34m\u001b[0m\u001b[0m\n",
            "\u001b[0;32mindex.pyx\u001b[0m in \u001b[0;36mpandas._libs.index.IndexEngine.get_loc\u001b[0;34m()\u001b[0m\n",
            "\u001b[0;32mindex.pyx\u001b[0m in \u001b[0;36mpandas._libs.index.IndexEngine.get_loc\u001b[0;34m()\u001b[0m\n",
            "\u001b[0;32mpandas/_libs/hashtable_class_helper.pxi\u001b[0m in \u001b[0;36mpandas._libs.hashtable.PyObjectHashTable.get_item\u001b[0;34m()\u001b[0m\n",
            "\u001b[0;32mpandas/_libs/hashtable_class_helper.pxi\u001b[0m in \u001b[0;36mpandas._libs.hashtable.PyObjectHashTable.get_item\u001b[0;34m()\u001b[0m\n",
            "\u001b[0;31mKeyError\u001b[0m: 'All_MSE'",
            "\nThe above exception was the direct cause of the following exception:\n",
            "\u001b[0;31mKeyError\u001b[0m                                  Traceback (most recent call last)",
            "\u001b[0;32m<ipython-input-15-a84af3c09c4b>\u001b[0m in \u001b[0;36m<cell line: 0>\u001b[0;34m()\u001b[0m\n\u001b[1;32m     14\u001b[0m ]\n\u001b[1;32m     15\u001b[0m \u001b[0;34m\u001b[0m\u001b[0m\n\u001b[0;32m---> 16\u001b[0;31m \u001b[0msummary\u001b[0m \u001b[0;34m=\u001b[0m \u001b[0msummarize_max_diff_results\u001b[0m\u001b[0;34m(\u001b[0m\u001b[0mresults\u001b[0m\u001b[0;34m)\u001b[0m\u001b[0;34m\u001b[0m\u001b[0;34m\u001b[0m\u001b[0m\n\u001b[0m\u001b[1;32m     17\u001b[0m \u001b[0mprint\u001b[0m\u001b[0;34m(\u001b[0m\u001b[0msummary\u001b[0m\u001b[0;34m)\u001b[0m\u001b[0;34m\u001b[0m\u001b[0;34m\u001b[0m\u001b[0m\n",
            "\u001b[0;32m<ipython-input-14-5e5083aa25fc>\u001b[0m in \u001b[0;36msummarize_max_diff_results\u001b[0;34m(dataset_tables)\u001b[0m\n\u001b[1;32m     21\u001b[0m         \u001b[0;32mif\u001b[0m \u001b[0mdtype\u001b[0m \u001b[0;34m==\u001b[0m \u001b[0;34m'regression'\u001b[0m\u001b[0;34m:\u001b[0m\u001b[0;34m\u001b[0m\u001b[0;34m\u001b[0m\u001b[0m\n\u001b[1;32m     22\u001b[0m             \u001b[0;31m# محاسبه بیشترین اختلاف MSE\u001b[0m\u001b[0;34m\u001b[0m\u001b[0;34m\u001b[0m\u001b[0m\n\u001b[0;32m---> 23\u001b[0;31m             \u001b[0mdf\u001b[0m\u001b[0;34m[\u001b[0m\u001b[0;34m'MSE_Diff'\u001b[0m\u001b[0;34m]\u001b[0m \u001b[0;34m=\u001b[0m \u001b[0mdf\u001b[0m\u001b[0;34m[\u001b[0m\u001b[0;34m'All_MSE'\u001b[0m\u001b[0;34m]\u001b[0m \u001b[0;34m-\u001b[0m \u001b[0mdf\u001b[0m\u001b[0;34m[\u001b[0m\u001b[0;34m'BestGroup_MSE'\u001b[0m\u001b[0;34m]\u001b[0m\u001b[0;34m\u001b[0m\u001b[0;34m\u001b[0m\u001b[0m\n\u001b[0m\u001b[1;32m     24\u001b[0m             \u001b[0mbest_row\u001b[0m \u001b[0;34m=\u001b[0m \u001b[0mdf\u001b[0m\u001b[0;34m.\u001b[0m\u001b[0mloc\u001b[0m\u001b[0;34m[\u001b[0m\u001b[0mdf\u001b[0m\u001b[0;34m[\u001b[0m\u001b[0;34m'MSE_Diff'\u001b[0m\u001b[0;34m]\u001b[0m\u001b[0;34m.\u001b[0m\u001b[0midxmax\u001b[0m\u001b[0;34m(\u001b[0m\u001b[0;34m)\u001b[0m\u001b[0;34m]\u001b[0m\u001b[0;34m\u001b[0m\u001b[0;34m\u001b[0m\u001b[0m\n\u001b[1;32m     25\u001b[0m             summary_rows.append({\n",
            "\u001b[0;32m/usr/local/lib/python3.11/dist-packages/pandas/core/frame.py\u001b[0m in \u001b[0;36m__getitem__\u001b[0;34m(self, key)\u001b[0m\n\u001b[1;32m   4100\u001b[0m             \u001b[0;32mif\u001b[0m \u001b[0mself\u001b[0m\u001b[0;34m.\u001b[0m\u001b[0mcolumns\u001b[0m\u001b[0;34m.\u001b[0m\u001b[0mnlevels\u001b[0m \u001b[0;34m>\u001b[0m \u001b[0;36m1\u001b[0m\u001b[0;34m:\u001b[0m\u001b[0;34m\u001b[0m\u001b[0;34m\u001b[0m\u001b[0m\n\u001b[1;32m   4101\u001b[0m                 \u001b[0;32mreturn\u001b[0m \u001b[0mself\u001b[0m\u001b[0;34m.\u001b[0m\u001b[0m_getitem_multilevel\u001b[0m\u001b[0;34m(\u001b[0m\u001b[0mkey\u001b[0m\u001b[0;34m)\u001b[0m\u001b[0;34m\u001b[0m\u001b[0;34m\u001b[0m\u001b[0m\n\u001b[0;32m-> 4102\u001b[0;31m             \u001b[0mindexer\u001b[0m \u001b[0;34m=\u001b[0m \u001b[0mself\u001b[0m\u001b[0;34m.\u001b[0m\u001b[0mcolumns\u001b[0m\u001b[0;34m.\u001b[0m\u001b[0mget_loc\u001b[0m\u001b[0;34m(\u001b[0m\u001b[0mkey\u001b[0m\u001b[0;34m)\u001b[0m\u001b[0;34m\u001b[0m\u001b[0;34m\u001b[0m\u001b[0m\n\u001b[0m\u001b[1;32m   4103\u001b[0m             \u001b[0;32mif\u001b[0m \u001b[0mis_integer\u001b[0m\u001b[0;34m(\u001b[0m\u001b[0mindexer\u001b[0m\u001b[0;34m)\u001b[0m\u001b[0;34m:\u001b[0m\u001b[0;34m\u001b[0m\u001b[0;34m\u001b[0m\u001b[0m\n\u001b[1;32m   4104\u001b[0m                 \u001b[0mindexer\u001b[0m \u001b[0;34m=\u001b[0m \u001b[0;34m[\u001b[0m\u001b[0mindexer\u001b[0m\u001b[0;34m]\u001b[0m\u001b[0;34m\u001b[0m\u001b[0;34m\u001b[0m\u001b[0m\n",
            "\u001b[0;32m/usr/local/lib/python3.11/dist-packages/pandas/core/indexes/base.py\u001b[0m in \u001b[0;36mget_loc\u001b[0;34m(self, key)\u001b[0m\n\u001b[1;32m   3810\u001b[0m             ):\n\u001b[1;32m   3811\u001b[0m                 \u001b[0;32mraise\u001b[0m \u001b[0mInvalidIndexError\u001b[0m\u001b[0;34m(\u001b[0m\u001b[0mkey\u001b[0m\u001b[0;34m)\u001b[0m\u001b[0;34m\u001b[0m\u001b[0;34m\u001b[0m\u001b[0m\n\u001b[0;32m-> 3812\u001b[0;31m             \u001b[0;32mraise\u001b[0m \u001b[0mKeyError\u001b[0m\u001b[0;34m(\u001b[0m\u001b[0mkey\u001b[0m\u001b[0;34m)\u001b[0m \u001b[0;32mfrom\u001b[0m \u001b[0merr\u001b[0m\u001b[0;34m\u001b[0m\u001b[0;34m\u001b[0m\u001b[0m\n\u001b[0m\u001b[1;32m   3813\u001b[0m         \u001b[0;32mexcept\u001b[0m \u001b[0mTypeError\u001b[0m\u001b[0;34m:\u001b[0m\u001b[0;34m\u001b[0m\u001b[0;34m\u001b[0m\u001b[0m\n\u001b[1;32m   3814\u001b[0m             \u001b[0;31m# If we have a listlike key, _check_indexing_error will raise\u001b[0m\u001b[0;34m\u001b[0m\u001b[0;34m\u001b[0m\u001b[0m\n",
            "\u001b[0;31mKeyError\u001b[0m: 'All_MSE'"
          ]
        }
      ],
      "source": [
        "results = [\n",
        "    {'name': 'Bodyfat', 'type': 'regression', 'table': df_Bodyfat_results},\n",
        "    {'name': 'Advertising', 'type': 'regression', 'table': df_Advertising_results},\n",
        "    {'name': 'BostonHousing', 'type': 'regression', 'table': df_BostonHousing_results},\n",
        "    {'name': 'Cookie_Recipes', 'type': 'regression', 'table': df_Cookie_Recipes_results},\n",
        "    #{'name': 'California_Housing', 'type': 'regression', 'table': df_California_Housing_results},\n",
        "    {'name': 'wine', 'type': 'classification', 'table': df_wine_results},\n",
        "    #{'name': 'Jannis(43977)', 'type': 'classification', 'table': df_Jannis_results},\n",
        "    {'name': 'Pistachio', 'type': 'classification', 'table': df_Pistachio_results},\n",
        "    #{'name': 'MagicTelescope(43971)', 'type': 'classification', 'table': df_MagicTelescope_results},\n",
        "    #{'name': 'Hill_Valley_with_Noise(1046)', 'type': 'classification', 'table': df_Noise_results},\n",
        "    {'name': 'Climate Model Simulation', 'type': 'classification', 'table': df_Climate_results}\n",
        "\n",
        "]\n",
        "\n",
        "summary = summarize_max_diff_results(results)\n",
        "print(summary)\n"
      ]
    },
    {
      "cell_type": "code",
      "source": [],
      "metadata": {
        "id": "CGbFSCJ4T2xL"
      },
      "execution_count": null,
      "outputs": []
    }
  ],
  "metadata": {
    "colab": {
      "provenance": [],
      "authorship_tag": "ABX9TyOjwt6iiBPbGA+Lz2/RKiN0",
      "include_colab_link": true
    },
    "kernelspec": {
      "display_name": "Python 3",
      "name": "python3"
    },
    "language_info": {
      "name": "python"
    }
  },
  "nbformat": 4,
  "nbformat_minor": 0
}