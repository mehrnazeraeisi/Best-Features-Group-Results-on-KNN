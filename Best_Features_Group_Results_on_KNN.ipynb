{
  "nbformat": 4,
  "nbformat_minor": 0,
  "metadata": {
    "colab": {
      "provenance": [],
      "authorship_tag": "ABX9TyNWDaY9y6Lih/8pGmlORfWw",
      "include_colab_link": true
    },
    "kernelspec": {
      "name": "python3",
      "display_name": "Python 3"
    },
    "language_info": {
      "name": "python"
    }
  },
  "cells": [
    {
      "cell_type": "markdown",
      "metadata": {
        "id": "view-in-github",
        "colab_type": "text"
      },
      "source": [
        "<a href=\"https://colab.research.google.com/github/mehrnazeraeisi/Best-Features-Group-Results-on-KNN/blob/main/Best_Features_Group_Results_on_KNN.ipynb\" target=\"_parent\"><img src=\"https://colab.research.google.com/assets/colab-badge.svg\" alt=\"Open In Colab\"/></a>"
      ]
    },
    {
      "cell_type": "code",
      "execution_count": 38,
      "metadata": {
        "id": "X9QOsMKlug0B"
      },
      "outputs": [],
      "source": [
        "def knn_auto_evaluator_from_xy(X_data, y_data, test_sizes=[0.1, 0.13, 0.16 , 0.19, 0.25], n_repeats=20):\n",
        "    import numpy as np\n",
        "    import pandas as pd\n",
        "    from sklearn.model_selection import train_test_split\n",
        "    from sklearn.neighbors import KNeighborsRegressor, KNeighborsClassifier\n",
        "    from sklearn.metrics import r2_score, mean_squared_error, accuracy_score\n",
        "    import warnings\n",
        "    warnings.filterwarnings(\"ignore\")\n",
        "\n",
        "    # تشخیص نوع تارگت\n",
        "    if pd.api.types.is_numeric_dtype(y_data):\n",
        "        target_type = 'regression' if len(np.unique(y_data)) > 10 else 'classification'\n",
        "    else:\n",
        "        target_type = 'classification'\n",
        "\n",
        "    feature_names = X_data.columns.tolist()\n",
        "    results = []\n",
        "\n",
        "    for ts in test_sizes:\n",
        "        for repeat in range(1, n_repeats+1):\n",
        "            X_train, X_test, y_train, y_test = train_test_split(X_data, y_data, test_size=ts)\n",
        "\n",
        "            scores = []\n",
        "            for feature in feature_names:\n",
        "                model = KNeighborsRegressor() if target_type == 'regression' else KNeighborsClassifier()\n",
        "                model.fit(X_train[[feature]], y_train)\n",
        "                y_pred = model.predict(X_train[[feature]])\n",
        "                score = r2_score(y_train, y_pred) if target_type == 'regression' else accuracy_score(y_train, y_pred)\n",
        "                scores.append((feature, score))\n",
        "\n",
        "            df_scores = pd.DataFrame(scores, columns=['Feature', 'Score']).sort_values(by='Score', ascending=False)\n",
        "\n",
        "            best_score = -np.inf\n",
        "            best_group = []\n",
        "            for k in range(1, len(df_scores)+1):\n",
        "                group = df_scores['Feature'][:k].tolist()\n",
        "                model = KNeighborsRegressor() if target_type == 'regression' else KNeighborsClassifier()\n",
        "                model.fit(X_train[group], y_train)\n",
        "                y_pred = model.predict(X_train[group])\n",
        "                score = r2_score(y_train, y_pred) if target_type == 'regression' else accuracy_score(y_train, y_pred)\n",
        "                if score > best_score:\n",
        "                    best_score = score\n",
        "                    best_group = group\n",
        "\n",
        "            model_all = KNeighborsRegressor() if target_type == 'regression' else KNeighborsClassifier()\n",
        "            model_best = KNeighborsRegressor() if target_type == 'regression' else KNeighborsClassifier()\n",
        "            model_all.fit(X_train, y_train)\n",
        "            model_best.fit(X_train[best_group], y_train)\n",
        "            y_pred_all = model_all.predict(X_test)\n",
        "            y_pred_best = model_best.predict(X_test[best_group])\n",
        "\n",
        "            if target_type == 'regression':\n",
        "                result_row = {\n",
        "                    'Test Size': ts,\n",
        "                    'Repeat': repeat,\n",
        "                    'All_R2': r2_score(y_test, y_pred_all),\n",
        "                    'All_MSE': mean_squared_error(y_test, y_pred_all),\n",
        "                    'BestGroup_R2': r2_score(y_test, y_pred_best),\n",
        "                    'BestGroup_MSE': mean_squared_error(y_test, y_pred_best),\n",
        "                    'BestGroup Size': len(best_group)\n",
        "                }\n",
        "                column_order = ['Test Size', 'Repeat', 'All_R2', 'All_MSE', 'BestGroup_R2', 'BestGroup_MSE', 'BestGroup Size']\n",
        "            else:\n",
        "                result_row = {\n",
        "                    'Test Size': ts,\n",
        "                    'Repeat': repeat,\n",
        "                    'All_Accuracy': accuracy_score(y_test, y_pred_all),\n",
        "                    'BestGroup_Accuracy': accuracy_score(y_test, y_pred_best),\n",
        "                    'BestGroup Size': len(best_group)\n",
        "                }\n",
        "                column_order = ['Test Size', 'Repeat', 'All_Accuracy', 'BestGroup_Accuracy', 'BestGroup Size']\n",
        "\n",
        "            results.append(result_row)\n",
        "\n",
        "    # ساخت DataFrame نهایی با ترتیب دقیق ستون‌ها\n",
        "    return pd.DataFrame(results)[column_order]\n"
      ]
    },
    {
      "cell_type": "code",
      "source": [
        "!pip install openml"
      ],
      "metadata": {
        "colab": {
          "base_uri": "https://localhost:8080/"
        },
        "id": "vbTlItGrDze8",
        "outputId": "16e8a785-79a3-4c5a-f394-ae987b1c69a5"
      },
      "execution_count": 39,
      "outputs": [
        {
          "output_type": "stream",
          "name": "stdout",
          "text": [
            "Requirement already satisfied: openml in /usr/local/lib/python3.11/dist-packages (0.15.1)\n",
            "Requirement already satisfied: liac-arff>=2.4.0 in /usr/local/lib/python3.11/dist-packages (from openml) (2.5.0)\n",
            "Requirement already satisfied: xmltodict in /usr/local/lib/python3.11/dist-packages (from openml) (0.14.2)\n",
            "Requirement already satisfied: requests in /usr/local/lib/python3.11/dist-packages (from openml) (2.32.3)\n",
            "Requirement already satisfied: scikit-learn>=0.18 in /usr/local/lib/python3.11/dist-packages (from openml) (1.6.1)\n",
            "Requirement already satisfied: python-dateutil in /usr/local/lib/python3.11/dist-packages (from openml) (2.9.0.post0)\n",
            "Requirement already satisfied: pandas>=1.0.0 in /usr/local/lib/python3.11/dist-packages (from openml) (2.2.2)\n",
            "Requirement already satisfied: scipy>=0.13.3 in /usr/local/lib/python3.11/dist-packages (from openml) (1.15.3)\n",
            "Requirement already satisfied: numpy>=1.6.2 in /usr/local/lib/python3.11/dist-packages (from openml) (2.0.2)\n",
            "Requirement already satisfied: minio in /usr/local/lib/python3.11/dist-packages (from openml) (7.2.15)\n",
            "Requirement already satisfied: pyarrow in /usr/local/lib/python3.11/dist-packages (from openml) (18.1.0)\n",
            "Requirement already satisfied: tqdm in /usr/local/lib/python3.11/dist-packages (from openml) (4.67.1)\n",
            "Requirement already satisfied: packaging in /usr/local/lib/python3.11/dist-packages (from openml) (24.2)\n",
            "Requirement already satisfied: pytz>=2020.1 in /usr/local/lib/python3.11/dist-packages (from pandas>=1.0.0->openml) (2025.2)\n",
            "Requirement already satisfied: tzdata>=2022.7 in /usr/local/lib/python3.11/dist-packages (from pandas>=1.0.0->openml) (2025.2)\n",
            "Requirement already satisfied: six>=1.5 in /usr/local/lib/python3.11/dist-packages (from python-dateutil->openml) (1.17.0)\n",
            "Requirement already satisfied: joblib>=1.2.0 in /usr/local/lib/python3.11/dist-packages (from scikit-learn>=0.18->openml) (1.5.0)\n",
            "Requirement already satisfied: threadpoolctl>=3.1.0 in /usr/local/lib/python3.11/dist-packages (from scikit-learn>=0.18->openml) (3.6.0)\n",
            "Requirement already satisfied: certifi in /usr/local/lib/python3.11/dist-packages (from minio->openml) (2025.4.26)\n",
            "Requirement already satisfied: urllib3 in /usr/local/lib/python3.11/dist-packages (from minio->openml) (2.4.0)\n",
            "Requirement already satisfied: argon2-cffi in /usr/local/lib/python3.11/dist-packages (from minio->openml) (23.1.0)\n",
            "Requirement already satisfied: pycryptodome in /usr/local/lib/python3.11/dist-packages (from minio->openml) (3.23.0)\n",
            "Requirement already satisfied: typing-extensions in /usr/local/lib/python3.11/dist-packages (from minio->openml) (4.13.2)\n",
            "Requirement already satisfied: charset-normalizer<4,>=2 in /usr/local/lib/python3.11/dist-packages (from requests->openml) (3.4.2)\n",
            "Requirement already satisfied: idna<4,>=2.5 in /usr/local/lib/python3.11/dist-packages (from requests->openml) (3.10)\n",
            "Requirement already satisfied: argon2-cffi-bindings in /usr/local/lib/python3.11/dist-packages (from argon2-cffi->minio->openml) (21.2.0)\n",
            "Requirement already satisfied: cffi>=1.0.1 in /usr/local/lib/python3.11/dist-packages (from argon2-cffi-bindings->argon2-cffi->minio->openml) (1.17.1)\n",
            "Requirement already satisfied: pycparser in /usr/local/lib/python3.11/dist-packages (from cffi>=1.0.1->argon2-cffi-bindings->argon2-cffi->minio->openml) (2.22)\n"
          ]
        }
      ]
    },
    {
      "cell_type": "code",
      "source": [
        "results = []"
      ],
      "metadata": {
        "id": "fGcOX11cJA1K"
      },
      "execution_count": 40,
      "outputs": []
    },
    {
      "cell_type": "code",
      "source": [
        "import pandas as pd\n",
        "\n",
        "# بارگذاری فایل\n",
        "data = pd.read_csv('bodyfat.csv')\n",
        "\n",
        "\n",
        "# جدا کردن ویژگی‌ها و برچسب‌ها\n",
        "X = data.drop('Pct.BF', axis=1)\n",
        "y= data['Pct.BF']\n",
        "\n",
        "\n",
        "print(X.shape)\n",
        "\n",
        "\n",
        "df_results = knn_auto_evaluator_from_xy(X, y)\n",
        "print(df_results)\n",
        "\n",
        "results.append({'name': 'Bodyfat', 'type': 'regression', 'table': df_results})"
      ],
      "metadata": {
        "colab": {
          "base_uri": "https://localhost:8080/"
        },
        "id": "df8b2N3bu_wG",
        "outputId": "3b70c9eb-3cde-4111-dae9-96da8d1b567c"
      },
      "execution_count": 41,
      "outputs": [
        {
          "output_type": "stream",
          "name": "stdout",
          "text": [
            "(250, 14)\n",
            "    Test Size  Repeat    All_R2    All_MSE  BestGroup_R2  BestGroup_MSE  \\\n",
            "0        0.10       1  0.605321  29.571680      0.677308      24.178000   \n",
            "1        0.10       2  0.723277  18.092944      0.789383      13.770752   \n",
            "2        0.10       3  0.372797  28.006224      0.220051      34.826752   \n",
            "3        0.10       4  0.275963  34.090944      0.431441      26.770336   \n",
            "4        0.10       5  0.609246  26.262864      0.726025      18.414064   \n",
            "..        ...     ...       ...        ...           ...            ...   \n",
            "95       0.25      16  0.534107  31.918794      0.595406      27.719181   \n",
            "96       0.25      17  0.507036  40.709016      0.577582      34.883321   \n",
            "97       0.25      18  0.465182  35.135886      0.517647      31.689105   \n",
            "98       0.25      19  0.553975  35.035689      0.553175      35.098502   \n",
            "99       0.25      20  0.489560  32.558343      0.572325      27.279194   \n",
            "\n",
            "    BestGroup Size  \n",
            "0                6  \n",
            "1                7  \n",
            "2                4  \n",
            "3                4  \n",
            "4                7  \n",
            "..             ...  \n",
            "95               3  \n",
            "96               3  \n",
            "97               3  \n",
            "98               7  \n",
            "99               5  \n",
            "\n",
            "[100 rows x 7 columns]\n"
          ]
        }
      ]
    },
    {
      "cell_type": "code",
      "source": [
        "import pandas as pd\n",
        "\n",
        "# بارگذاری فایل\n",
        "data = pd.read_csv('advertising.csv')\n",
        "\n",
        "\n",
        "\n",
        "# جدا کردن ویژگی‌ها و برچسب‌ها\n",
        "X = data.drop('sales', axis=1)\n",
        "y= data['sales']\n",
        "\n",
        "print(X.shape)\n",
        "\n",
        "df_results = knn_auto_evaluator_from_xy(X, y)\n",
        "print(df_results)\n",
        "\n",
        "results.append({'name': 'Advertising', 'type': 'regression', 'table': df_results})"
      ],
      "metadata": {
        "colab": {
          "base_uri": "https://localhost:8080/"
        },
        "id": "HWVAXcQb1sPd",
        "outputId": "21dc3448-a57f-44cf-d4db-b7c86d7deef7"
      },
      "execution_count": 42,
      "outputs": [
        {
          "output_type": "stream",
          "name": "stdout",
          "text": [
            "(200, 3)\n",
            "    Test Size  Repeat    All_R2   All_MSE  BestGroup_R2  BestGroup_MSE  \\\n",
            "0        0.10       1  0.853259  2.519700      0.959226       0.700140   \n",
            "1        0.10       2  0.877551  2.588140      0.951972       1.015140   \n",
            "2        0.10       3  0.926652  2.314680      0.959724       1.271000   \n",
            "3        0.10       4  0.880115  3.078340      0.961445       0.990000   \n",
            "4        0.10       5  0.971056  0.596560      0.979042       0.431960   \n",
            "..        ...     ...       ...       ...           ...            ...   \n",
            "95       0.25      16  0.914089  2.139632      0.950383       1.235712   \n",
            "96       0.25      17  0.907451  2.740576      0.962306       1.116184   \n",
            "97       0.25      18  0.946659  1.328456      0.970453       0.735864   \n",
            "98       0.25      19  0.946201  1.479504      0.963709       0.998016   \n",
            "99       0.25      20  0.907645  3.060128      0.941008       1.954672   \n",
            "\n",
            "    BestGroup Size  \n",
            "0                2  \n",
            "1                2  \n",
            "2                2  \n",
            "3                2  \n",
            "4                2  \n",
            "..             ...  \n",
            "95               2  \n",
            "96               2  \n",
            "97               2  \n",
            "98               2  \n",
            "99               2  \n",
            "\n",
            "[100 rows x 7 columns]\n"
          ]
        }
      ]
    },
    {
      "cell_type": "code",
      "source": [
        "import pandas as pd\n",
        "\n",
        "# بارگذاری فایل\n",
        "data = pd.read_csv('BostonHousing.csv')\n",
        "\n",
        "\n",
        "\n",
        "# جدا کردن ویژگی‌ها و برچسب‌ها\n",
        "X = data.drop('medv', axis=1)\n",
        "y= data['medv']\n",
        "\n",
        "print(X.shape)\n",
        "\n",
        "df_results = knn_auto_evaluator_from_xy(X, y)\n",
        "print(df_results)\n",
        "results.append({'name': 'BostonHousing', 'type': 'regression', 'table': df_results})"
      ],
      "metadata": {
        "colab": {
          "base_uri": "https://localhost:8080/"
        },
        "id": "eks7hrKw2YXc",
        "outputId": "d858f386-2463-46e6-9ab6-22122bd0a958"
      },
      "execution_count": 43,
      "outputs": [
        {
          "output_type": "stream",
          "name": "stdout",
          "text": [
            "(506, 13)\n",
            "    Test Size  Repeat    All_R2    All_MSE  BestGroup_R2  BestGroup_MSE  \\\n",
            "0        0.10       1  0.698922  26.041898      0.875070      10.805898   \n",
            "1        0.10       2  0.287161  34.704722      0.685654      15.304024   \n",
            "2        0.10       3  0.659594  27.636149      0.756643      19.757106   \n",
            "3        0.10       4  0.670401  29.268486      0.859472      12.478918   \n",
            "4        0.10       5  0.486180  48.488204      0.737875      24.736196   \n",
            "..        ...     ...       ...        ...           ...            ...   \n",
            "95       0.25      16  0.549483  34.474217      0.782469      16.645824   \n",
            "96       0.25      17  0.295023  60.866236      0.780882      18.918142   \n",
            "97       0.25      18  0.608110  37.891430      0.806545      18.704929   \n",
            "98       0.25      19  0.532905  44.259616      0.826658      16.425068   \n",
            "99       0.25      20  0.527611  44.348724      0.850005      14.081786   \n",
            "\n",
            "    BestGroup Size  \n",
            "0                4  \n",
            "1                4  \n",
            "2                6  \n",
            "3                7  \n",
            "4                5  \n",
            "..             ...  \n",
            "95               4  \n",
            "96               4  \n",
            "97               4  \n",
            "98               4  \n",
            "99               4  \n",
            "\n",
            "[100 rows x 7 columns]\n"
          ]
        }
      ]
    },
    {
      "cell_type": "code",
      "source": [
        "import pandas as pd\n",
        "\n",
        "# بارگذاری فایل\n",
        "data = pd.read_csv('cookie_recipes.csv')\n",
        "\n",
        "\n",
        "# جدا کردن ویژگی‌ها و برچسب‌ها\n",
        "X = data.drop('rating', axis=1)\n",
        "y= data['rating']\n",
        "\n",
        "print(X.shape)\n",
        "\n",
        "df_results = knn_auto_evaluator_from_xy(X, y)\n",
        "print(df_results)\n",
        "\n",
        "results.append({'name': 'Cookie_Recipes', 'type': 'regression', 'table': df_results})"
      ],
      "metadata": {
        "colab": {
          "base_uri": "https://localhost:8080/"
        },
        "id": "SAPjw0uj2y3T",
        "outputId": "910cce6e-2dde-45d3-ac79-8e13e353f8f3"
      },
      "execution_count": 44,
      "outputs": [
        {
          "output_type": "stream",
          "name": "stdout",
          "text": [
            "(50, 5)\n",
            "    Test Size  Repeat    All_R2   All_MSE  BestGroup_R2  BestGroup_MSE  \\\n",
            "0        0.10       1  0.604494  0.528000      0.845318       0.206500   \n",
            "1        0.10       2 -0.350952  1.418500      0.890000       0.115500   \n",
            "2        0.10       3 -1.325532  0.546500      0.708511       0.068500   \n",
            "3        0.10       4  0.518103  0.559000      0.976293       0.027500   \n",
            "4        0.10       5  0.334824  1.041000      0.946965       0.083000   \n",
            "..        ...     ...       ...       ...           ...            ...   \n",
            "95       0.25      16 -0.013787  1.554423      0.972533       0.042115   \n",
            "96       0.25      17 -0.215294  1.390577      0.963866       0.041346   \n",
            "97       0.25      18 -0.125806  1.677885      0.964645       0.052692   \n",
            "98       0.25      19  0.020483  1.230192      0.937067       0.079038   \n",
            "99       0.25      20 -0.261176  1.586731      0.891476       0.136538   \n",
            "\n",
            "    BestGroup Size  \n",
            "0                2  \n",
            "1                2  \n",
            "2                2  \n",
            "3                2  \n",
            "4                2  \n",
            "..             ...  \n",
            "95               2  \n",
            "96               2  \n",
            "97               2  \n",
            "98               2  \n",
            "99               2  \n",
            "\n",
            "[100 rows x 7 columns]\n"
          ]
        }
      ]
    },
    {
      "cell_type": "code",
      "source": [
        "from sklearn.datasets import fetch_california_housing\n",
        "import pandas as pd\n",
        "\n",
        "\n",
        "# بارگذاری داده‌های قیمت خانه‌های کالیفرنیا\n",
        "data =  fetch_california_housing()\n",
        "X = pd.DataFrame(data.data, columns=data.feature_names)\n",
        "y= data.target\n",
        "\n",
        "print(X.shape)\n",
        "\n",
        "X = pd.DataFrame(data.data, columns=data.feature_names)\n",
        "y = pd.Series(data.target)\n",
        "\n",
        "df_results = knn_auto_evaluator_from_xy(X, y)\n",
        "print(df_results)\n",
        "\n",
        "results.append({'name': 'California_Housing', 'type': 'regression', 'table': df_results})"
      ],
      "metadata": {
        "colab": {
          "base_uri": "https://localhost:8080/"
        },
        "id": "3N879vAh3RhL",
        "outputId": "29666575-ac44-4562-85cf-1eadb14f775a"
      },
      "execution_count": 45,
      "outputs": [
        {
          "output_type": "stream",
          "name": "stdout",
          "text": [
            "(20640, 8)\n",
            "    Test Size  Repeat    All_R2   All_MSE  BestGroup_R2  BestGroup_MSE  \\\n",
            "0        0.10       1  0.189981  1.104182      0.763497       0.322390   \n",
            "1        0.10       2  0.131980  1.144015      0.755058       0.322824   \n",
            "2        0.10       3  0.143528  1.118629      0.735296       0.345727   \n",
            "3        0.10       4  0.153098  1.142771      0.764340       0.317989   \n",
            "4        0.10       5  0.187486  1.112069      0.767564       0.318130   \n",
            "..        ...     ...       ...       ...           ...            ...   \n",
            "95       0.25      16  0.137947  1.123397      0.761978       0.310181   \n",
            "96       0.25      17  0.149222  1.126264      0.756173       0.322780   \n",
            "97       0.25      18  0.149472  1.139188      0.751869       0.332344   \n",
            "98       0.25      19  0.173378  1.071361      0.754148       0.318641   \n",
            "99       0.25      20  0.135865  1.175535      0.761521       0.324417   \n",
            "\n",
            "    BestGroup Size  \n",
            "0                6  \n",
            "1                6  \n",
            "2                6  \n",
            "3                6  \n",
            "4                6  \n",
            "..             ...  \n",
            "95               6  \n",
            "96               6  \n",
            "97               6  \n",
            "98               6  \n",
            "99               6  \n",
            "\n",
            "[100 rows x 7 columns]\n"
          ]
        }
      ]
    },
    {
      "cell_type": "code",
      "source": [
        "from sklearn.datasets import load_wine\n",
        "data = load_wine(as_frame=True)\n",
        "X = data.data\n",
        "y = data.target\n",
        "\n",
        "df_results = knn_auto_evaluator_from_xy(X, y)\n",
        "print(df_results)\n",
        "\n",
        "results.append({'name': 'wine', 'type': 'classification', 'table': df_results})"
      ],
      "metadata": {
        "colab": {
          "base_uri": "https://localhost:8080/"
        },
        "id": "BPKuFMadwBoP",
        "outputId": "5790799d-5f61-4706-b3b1-3c3e21124a4b"
      },
      "execution_count": 33,
      "outputs": [
        {
          "output_type": "stream",
          "name": "stdout",
          "text": [
            "    Test Size  Repeat  All_Accuracy  BestGroup_Accuracy  BestGroup Size\n",
            "0        0.10       1      0.777778            0.944444               4\n",
            "1        0.10       2      0.777778            0.833333               2\n",
            "2        0.10       3      0.444444            0.666667               1\n",
            "3        0.10       4      0.611111            0.944444               3\n",
            "4        0.10       5      0.555556            0.666667               1\n",
            "..        ...     ...           ...                 ...             ...\n",
            "95       0.25      16      0.711111            0.844444               2\n",
            "96       0.25      17      0.688889            0.933333               2\n",
            "97       0.25      18      0.600000            0.800000               1\n",
            "98       0.25      19      0.711111            0.755556               2\n",
            "99       0.25      20      0.733333            0.955556               2\n",
            "\n",
            "[100 rows x 5 columns]\n"
          ]
        }
      ]
    },
    {
      "cell_type": "code",
      "source": [
        "import pandas as pd\n",
        "\n",
        "# بارگذاری فایل اکسل\n",
        "data = pd.read_excel('Pistachio.xlsx')\n",
        "# حذف سطرهای حاوی NaN\n",
        "data = data.dropna()\n",
        "\n",
        "\n",
        "# جدا کردن ویژگی‌ها و برچسب‌ها\n",
        "X = data.drop('Class', axis=1)\n",
        "y = data['Class']\n",
        "\n",
        "print(data.shape)\n",
        "\n",
        "\n",
        "df_results = knn_auto_evaluator_from_xy(X, y)\n",
        "print(df_results)\n",
        "\n",
        "results.append({'name': 'Pistachio', 'type': 'classification', 'table': df_results})"
      ],
      "metadata": {
        "colab": {
          "base_uri": "https://localhost:8080/"
        },
        "id": "hn6r6r50ztsy",
        "outputId": "77cd680b-8d5c-469c-bcae-393c3d408d39"
      },
      "execution_count": 34,
      "outputs": [
        {
          "output_type": "stream",
          "name": "stdout",
          "text": [
            "(2148, 17)\n",
            "    Test Size  Repeat  All_Accuracy  BestGroup_Accuracy  BestGroup Size\n",
            "0        0.10       1      0.790698            0.855814               7\n",
            "1        0.10       2      0.748837            0.832558               4\n",
            "2        0.10       3      0.795349            0.795349               7\n",
            "3        0.10       4      0.730233            0.809302               7\n",
            "4        0.10       5      0.739535            0.832558               5\n",
            "..        ...     ...           ...                 ...             ...\n",
            "95       0.25      16      0.743017            0.832402               5\n",
            "96       0.25      17      0.733706            0.806331               4\n",
            "97       0.25      18      0.770950            0.834264               3\n",
            "98       0.25      19      0.748603            0.821229               6\n",
            "99       0.25      20      0.765363            0.839851               3\n",
            "\n",
            "[100 rows x 5 columns]\n"
          ]
        }
      ]
    },
    {
      "cell_type": "code",
      "source": [
        "#\n",
        "import openml\n",
        "import pandas as pd\n",
        "\n",
        "# دانلود دیتاست\n",
        "dataset = openml.datasets.get_dataset(43971)\n",
        "data, y_data, _, _ = dataset.get_data(target=dataset.default_target_attribute)\n",
        "print(data.shape)\n",
        "# افزودن ستون هدف به دیتافریم کامل\n",
        "data['rating'] = y_data  # فرض بر این است که ستون هدف، rating است\n",
        "\n",
        "\n",
        "# جدا کردن ویژگی‌ها و برچسب‌ها\n",
        "X= data.drop('rating', axis=1)\n",
        "y= data['rating']\n",
        "\n",
        "print(X.shape)\n",
        "\n",
        "\n",
        "df_results = knn_auto_evaluator_from_xy(X, y)\n",
        "print(df_results)\n",
        "\n",
        "results.append({'name': 'MagicTelescope(43971)', 'type': 'classification', 'table': df_results})"
      ],
      "metadata": {
        "colab": {
          "base_uri": "https://localhost:8080/"
        },
        "id": "5Reb_-BTCJjO",
        "outputId": "fe5080a0-9698-4ab4-c4be-3b03e5bd7950"
      },
      "execution_count": 36,
      "outputs": [
        {
          "output_type": "stream",
          "name": "stdout",
          "text": [
            "(13376, 10)\n",
            "قبل از حذف NaN و ستون: (13376, 11)\n",
            "Index(['fLength:', 'fWidth:', 'fSize:', 'fConc:', 'fConc1:', 'fAsym:',\n",
            "       'fM3Long:', 'fM3Trans:', 'fAlpha:', 'fDist:', 'rating'],\n",
            "      dtype='object')\n",
            "   fLength:  fWidth:  fSize:  fConc:  fConc1:   fAsym:  fM3Long:  fM3Trans:  \\\n",
            "0   69.2979  26.8809  3.1930  0.2065   0.1074  39.6296   44.3457   -23.0604   \n",
            "1   24.5939  10.1418  2.5676  0.5007   0.2693  -8.4503   15.2452    -7.0283   \n",
            "2   55.4800  27.1606  3.1826  0.2299   0.1225  43.1016   54.2556    13.7406   \n",
            "3   12.6594  11.7413  2.1351  0.7033   0.3846 -15.8596    9.4522    -8.7126   \n",
            "4   38.6204  20.5632  2.9770  0.2478   0.1270 -13.8229  -31.3983   -13.1337   \n",
            "\n",
            "   fAlpha:   fDist: rating  \n",
            "0   9.3234  248.750      g  \n",
            "1  17.0056  173.288      g  \n",
            "2  32.2220  262.181      g  \n",
            "3  43.5434  227.711      g  \n",
            "4   5.8671  192.467      g  \n",
            "بعد از حذف: (13376, 11)\n",
            "(13376, 10)\n",
            "    Test Size  Repeat  All_Accuracy  BestGroup_Accuracy  BestGroup Size\n",
            "0        0.10       1      0.765321            0.769806               4\n",
            "1        0.10       2      0.763827            0.790732               4\n",
            "2        0.10       3      0.782511            0.793722               5\n",
            "3        0.10       4      0.760837            0.789238               4\n",
            "4        0.10       5      0.772048            0.765321               4\n",
            "..        ...     ...           ...                 ...             ...\n",
            "95       0.25      16      0.771232            0.784689               4\n",
            "96       0.25      17      0.784390            0.798744               4\n",
            "97       0.25      18      0.754486            0.777811               5\n",
            "98       0.25      19      0.779007            0.798445               4\n",
            "99       0.25      20      0.773923            0.786782               4\n",
            "\n",
            "[100 rows x 5 columns]\n"
          ]
        }
      ]
    },
    {
      "cell_type": "code",
      "source": [
        "\n",
        "import openml\n",
        "import pandas as pd\n",
        "\n",
        "dataset = openml.datasets.get_dataset(1046)\n",
        "data, y_data, _, _ = dataset.get_data(target=dataset.default_target_attribute)\n",
        "\n",
        "# 🔧 افزودن target به dataframe کامل (مثل خواندن فایل CSV)\n",
        "data['rating'] = y_data  # فرض می‌گیریم نام ستون هدف \"rating\" باشه برای یکسان بودن با مثال شما\n",
        "\n",
        "print(data.shape)\n",
        "# حذف سطرهای حاوی NaN\n",
        "data = data.dropna()\n",
        "\n",
        "print(data.shape)\n",
        "\n",
        "# 🎯 جدا کردن ویژگی‌ها و برچسب‌ها (مطابق ساختار شما)\n",
        "X = data.drop('rating', axis=1)\n",
        "y = data['rating']\n",
        "data_features = X.columns\n",
        "\n",
        "\n",
        "df_results = knn_auto_evaluator_from_xy(X, y)\n",
        "print(df_results)\n",
        "\n",
        "results.append({'name': 'Hill_Valley_with_Noise(1046)', 'type': 'classification', 'table': df_results})"
      ],
      "metadata": {
        "id": "TP2eEQxKKU0g"
      },
      "execution_count": null,
      "outputs": []
    },
    {
      "cell_type": "code",
      "source": [
        "# Climate Model Simulation\n",
        "# شبیه‌سازی آب‌وهوا (دوتایی)\n",
        "import openml\n",
        "import pandas as pd\n",
        "\n",
        "dataset = openml.datasets.get_dataset(40966)\n",
        "data, y_data, _, _ = dataset.get_data(target=dataset.default_target_attribute)\n",
        "\n",
        "# 🔧 افزودن target به dataframe کامل (مثل خواندن فایل CSV)\n",
        "data['rating'] = y_data  # فرض می‌گیریم نام ستون هدف \"rating\" باشه برای یکسان بودن با مثال شما\n",
        "\n",
        "print(data.shape)\n",
        "# حذف سطرهای حاوی NaN\n",
        "data = data.dropna()\n",
        "\n",
        "\n",
        "print(data.shape)\n",
        "\n",
        "# 🎯 جدا کردن ویژگی‌ها و برچسب‌ها (مطابق ساختار شما)\n",
        "X = data.drop('rating', axis=1)\n",
        "y = data['rating']\n",
        "\n",
        "\n",
        "df_results = knn_auto_evaluator_from_xy(X, y)\n",
        "print(df_results)\n",
        "\n",
        "results.append({'name': 'Climate Model Simulation', 'type': 'classification', 'table': df_results})"
      ],
      "metadata": {
        "id": "Mr5KtLmsMBBP"
      },
      "execution_count": null,
      "outputs": []
    },
    {
      "cell_type": "code",
      "source": [
        "import pandas as pd\n",
        "\n",
        "def summarize_max_diff_results(dataset_tables):\n",
        "    \"\"\"\n",
        "    dataset_tables: لیستی از دیکشنری‌ها به شکل زیر:\n",
        "    [\n",
        "        {'name': 'Diabetes', 'type': 'regression', 'table': df1},\n",
        "        {'name': 'Wine', 'type': 'classification', 'table': df2},\n",
        "        ...\n",
        "    ]\n",
        "\n",
        "    خروجی: DataFrame خلاصه از بیشترین اختلاف برای هر دیتاست\n",
        "    \"\"\"\n",
        "    summary_rows = []\n",
        "\n",
        "    for item in dataset_tables:\n",
        "        name = item['name']\n",
        "        dtype = item['type']\n",
        "        df = item['table']\n",
        "\n",
        "        if dtype == 'regression':\n",
        "            # محاسبه بیشترین اختلاف MSE\n",
        "            df['MSE_Diff'] = df['All_MSE'] - df['BestGroup_MSE']\n",
        "            best_row = df.loc[df['MSE_Diff'].idxmax()]\n",
        "            summary_rows.append({\n",
        "                'Dataset': name,\n",
        "                'Type': dtype,\n",
        "                'All_Accuracy': None,\n",
        "                'BestGroup_Accuracy': None,\n",
        "                'All_R2': best_row['All_R2'],\n",
        "                'BestGroup_R2': best_row['BestGroup_R2'],\n",
        "                'All_MSE': best_row['All_MSE'],\n",
        "                'BestGroup_MSE': best_row['BestGroup_MSE']\n",
        "            })\n",
        "\n",
        "        elif dtype == 'classification':\n",
        "            # محاسبه بیشترین اختلاف دقت\n",
        "            df['Accuracy_Diff'] = df['BestGroup_Accuracy'] - df['All_Accuracy']\n",
        "            best_row = df.loc[df['Accuracy_Diff'].idxmax()]\n",
        "            summary_rows.append({\n",
        "                'Dataset': name,\n",
        "                'Type': dtype,\n",
        "                'All_Accuracy': best_row['All_Accuracy'],\n",
        "                'BestGroup_Accuracy': best_row['BestGroup_Accuracy'],\n",
        "                'All_R2': None,\n",
        "                'BestGroup_R2': None,\n",
        "                'All_MSE': None,\n",
        "                'BestGroup_MSE': None\n",
        "            })\n",
        "\n",
        "    return pd.DataFrame(summary_rows)\n"
      ],
      "metadata": {
        "id": "3uZHR-wuCmea"
      },
      "execution_count": null,
      "outputs": []
    },
    {
      "cell_type": "code",
      "source": [
        "results = [\n",
        "    {'name': 'Diabetes', 'type': 'regression', 'table': df_diabetes},\n",
        "    {'name': 'BodyFat', 'type': 'regression', 'table': df_bodyfat},\n",
        "    {'name': 'Wine', 'type': 'classification', 'table': df_wine},\n",
        "    {'name': 'Cancer', 'type': 'classification', 'table': df_cancer},\n",
        "]\n",
        "\n",
        "summary = summarize_max_diff_results(results)\n",
        "print(summary)\n"
      ],
      "metadata": {
        "id": "8OILSpVpCpK-"
      },
      "execution_count": null,
      "outputs": []
    }
  ]
}