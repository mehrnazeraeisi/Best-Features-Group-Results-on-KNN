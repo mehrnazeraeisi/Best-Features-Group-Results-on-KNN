{
  "cells": [
    {
      "cell_type": "markdown",
      "metadata": {
        "id": "view-in-github",
        "colab_type": "text"
      },
      "source": [
        "<a href=\"https://colab.research.google.com/github/mehrnazeraeisi/Best-Features-Group-Results-on-KNN/blob/main/Best_Features_Group_Results_on_KNN.ipynb\" target=\"_parent\"><img src=\"https://colab.research.google.com/assets/colab-badge.svg\" alt=\"Open In Colab\"/></a>"
      ]
    },
    {
      "cell_type": "code",
      "execution_count": null,
      "metadata": {
        "id": "X9QOsMKlug0B"
      },
      "outputs": [],
      "source": [
        "def knn_auto_evaluator_from_xy(X_data, y_data, test_sizes=[0.1, 0.13, 0.16 , 0.19, 0.25], n_repeats=20):\n",
        "    import numpy as np\n",
        "    import pandas as pd\n",
        "    from sklearn.model_selection import train_test_split\n",
        "    from sklearn.neighbors import KNeighborsRegressor, KNeighborsClassifier\n",
        "    from sklearn.metrics import r2_score, mean_squared_error, accuracy_score\n",
        "    import warnings\n",
        "    warnings.filterwarnings(\"ignore\")\n",
        "\n",
        "    # تشخیص نوع تارگت\n",
        "    if pd.api.types.is_numeric_dtype(y_data):\n",
        "        target_type = 'regression' if len(np.unique(y_data)) > 10 else 'classification'\n",
        "    else:\n",
        "        target_type = 'classification'\n",
        "\n",
        "    feature_names = X_data.columns.tolist()\n",
        "    results = []\n",
        "\n",
        "    for ts in test_sizes:\n",
        "        for repeat in range(1, n_repeats+1):\n",
        "            X_train, X_test, y_train, y_test = train_test_split(X_data, y_data, test_size=ts)\n",
        "\n",
        "            scores = []\n",
        "            for feature in feature_names:\n",
        "                model = KNeighborsRegressor() if target_type == 'regression' else KNeighborsClassifier()\n",
        "                model.fit(X_train[[feature]], y_train)\n",
        "                y_pred = model.predict(X_train[[feature]])\n",
        "                score = r2_score(y_train, y_pred) if target_type == 'regression' else accuracy_score(y_train, y_pred)\n",
        "                scores.append((feature, score))\n",
        "\n",
        "            df_scores = pd.DataFrame(scores, columns=['Feature', 'Score']).sort_values(by='Score', ascending=False)\n",
        "\n",
        "            best_score = -np.inf\n",
        "            best_group = []\n",
        "            for k in range(1, len(df_scores)+1):\n",
        "                group = df_scores['Feature'][:k].tolist()\n",
        "                model = KNeighborsRegressor() if target_type == 'regression' else KNeighborsClassifier()\n",
        "                model.fit(X_train[group], y_train)\n",
        "                y_pred = model.predict(X_train[group])\n",
        "                score = r2_score(y_train, y_pred) if target_type == 'regression' else accuracy_score(y_train, y_pred)\n",
        "                if score > best_score:\n",
        "                    best_score = score\n",
        "                    best_group = group\n",
        "\n",
        "            model_all = KNeighborsRegressor() if target_type == 'regression' else KNeighborsClassifier()\n",
        "            model_best = KNeighborsRegressor() if target_type == 'regression' else KNeighborsClassifier()\n",
        "            model_all.fit(X_train, y_train)\n",
        "            model_best.fit(X_train[best_group], y_train)\n",
        "            y_pred_all = model_all.predict(X_test)\n",
        "            y_pred_best = model_best.predict(X_test[best_group])\n",
        "\n",
        "            if target_type == 'regression':\n",
        "                result_row = {\n",
        "                    'Test Size': ts,\n",
        "                    'Repeat': repeat,\n",
        "                    'All_R2': r2_score(y_test, y_pred_all),\n",
        "                    'All_MSE': mean_squared_error(y_test, y_pred_all),\n",
        "                    'BestGroup_R2': r2_score(y_test, y_pred_best),\n",
        "                    'BestGroup_MSE': mean_squared_error(y_test, y_pred_best),\n",
        "\n",
        "                }\n",
        "                column_order = ['Test Size', 'Repeat', 'All_R2', 'All_MSE', 'BestGroup_R2', 'BestGroup_MSE']\n",
        "            else:\n",
        "                result_row = {\n",
        "                    'Test Size': ts,\n",
        "                    'Repeat': repeat,\n",
        "                    'All_Accuracy': accuracy_score(y_test, y_pred_all),\n",
        "                    'BestGroup_Accuracy': accuracy_score(y_test, y_pred_best),\n",
        "\n",
        "                }\n",
        "                column_order = ['Test Size', 'Repeat', 'All_Accuracy', 'BestGroup_Accuracy']\n",
        "\n",
        "            results.append(result_row)\n",
        "\n",
        "    # ساخت DataFrame نهایی با ترتیب دقیق ستون‌ها\n",
        "    return pd.DataFrame(results)[column_order]\n"
      ]
    },
    {
      "cell_type": "code",
      "execution_count": null,
      "metadata": {
        "colab": {
          "base_uri": "https://localhost:8080/"
        },
        "id": "vbTlItGrDze8",
        "outputId": "df627884-9d97-4d6f-d753-e2ef123cb2a4"
      },
      "outputs": [
        {
          "output_type": "stream",
          "name": "stdout",
          "text": [
            "Collecting openml\n",
            "  Downloading openml-0.15.1-py3-none-any.whl.metadata (10 kB)\n",
            "Collecting liac-arff>=2.4.0 (from openml)\n",
            "  Downloading liac-arff-2.5.0.tar.gz (13 kB)\n",
            "  Preparing metadata (setup.py) ... \u001b[?25l\u001b[?25hdone\n",
            "Collecting xmltodict (from openml)\n",
            "  Downloading xmltodict-0.14.2-py2.py3-none-any.whl.metadata (8.0 kB)\n",
            "Requirement already satisfied: requests in /usr/local/lib/python3.11/dist-packages (from openml) (2.32.3)\n",
            "Requirement already satisfied: scikit-learn>=0.18 in /usr/local/lib/python3.11/dist-packages (from openml) (1.6.1)\n",
            "Requirement already satisfied: python-dateutil in /usr/local/lib/python3.11/dist-packages (from openml) (2.9.0.post0)\n",
            "Requirement already satisfied: pandas>=1.0.0 in /usr/local/lib/python3.11/dist-packages (from openml) (2.2.2)\n",
            "Requirement already satisfied: scipy>=0.13.3 in /usr/local/lib/python3.11/dist-packages (from openml) (1.15.3)\n",
            "Requirement already satisfied: numpy>=1.6.2 in /usr/local/lib/python3.11/dist-packages (from openml) (2.0.2)\n",
            "Collecting minio (from openml)\n",
            "  Downloading minio-7.2.15-py3-none-any.whl.metadata (6.7 kB)\n",
            "Requirement already satisfied: pyarrow in /usr/local/lib/python3.11/dist-packages (from openml) (18.1.0)\n",
            "Requirement already satisfied: tqdm in /usr/local/lib/python3.11/dist-packages (from openml) (4.67.1)\n",
            "Requirement already satisfied: packaging in /usr/local/lib/python3.11/dist-packages (from openml) (24.2)\n",
            "Requirement already satisfied: pytz>=2020.1 in /usr/local/lib/python3.11/dist-packages (from pandas>=1.0.0->openml) (2025.2)\n",
            "Requirement already satisfied: tzdata>=2022.7 in /usr/local/lib/python3.11/dist-packages (from pandas>=1.0.0->openml) (2025.2)\n",
            "Requirement already satisfied: six>=1.5 in /usr/local/lib/python3.11/dist-packages (from python-dateutil->openml) (1.17.0)\n",
            "Requirement already satisfied: joblib>=1.2.0 in /usr/local/lib/python3.11/dist-packages (from scikit-learn>=0.18->openml) (1.5.0)\n",
            "Requirement already satisfied: threadpoolctl>=3.1.0 in /usr/local/lib/python3.11/dist-packages (from scikit-learn>=0.18->openml) (3.6.0)\n",
            "Requirement already satisfied: certifi in /usr/local/lib/python3.11/dist-packages (from minio->openml) (2025.4.26)\n",
            "Requirement already satisfied: urllib3 in /usr/local/lib/python3.11/dist-packages (from minio->openml) (2.4.0)\n",
            "Requirement already satisfied: argon2-cffi in /usr/local/lib/python3.11/dist-packages (from minio->openml) (23.1.0)\n",
            "Collecting pycryptodome (from minio->openml)\n",
            "  Downloading pycryptodome-3.23.0-cp37-abi3-manylinux_2_17_x86_64.manylinux2014_x86_64.whl.metadata (3.4 kB)\n",
            "Requirement already satisfied: typing-extensions in /usr/local/lib/python3.11/dist-packages (from minio->openml) (4.13.2)\n",
            "Requirement already satisfied: charset-normalizer<4,>=2 in /usr/local/lib/python3.11/dist-packages (from requests->openml) (3.4.2)\n",
            "Requirement already satisfied: idna<4,>=2.5 in /usr/local/lib/python3.11/dist-packages (from requests->openml) (3.10)\n",
            "Requirement already satisfied: argon2-cffi-bindings in /usr/local/lib/python3.11/dist-packages (from argon2-cffi->minio->openml) (21.2.0)\n",
            "Requirement already satisfied: cffi>=1.0.1 in /usr/local/lib/python3.11/dist-packages (from argon2-cffi-bindings->argon2-cffi->minio->openml) (1.17.1)\n",
            "Requirement already satisfied: pycparser in /usr/local/lib/python3.11/dist-packages (from cffi>=1.0.1->argon2-cffi-bindings->argon2-cffi->minio->openml) (2.22)\n",
            "Downloading openml-0.15.1-py3-none-any.whl (160 kB)\n",
            "\u001b[2K   \u001b[90m━━━━━━━━━━━━━━━━━━━━━━━━━━━━━━━━━━━━━━━━\u001b[0m \u001b[32m160.4/160.4 kB\u001b[0m \u001b[31m2.6 MB/s\u001b[0m eta \u001b[36m0:00:00\u001b[0m\n",
            "\u001b[?25hDownloading minio-7.2.15-py3-none-any.whl (95 kB)\n",
            "\u001b[2K   \u001b[90m━━━━━━━━━━━━━━━━━━━━━━━━━━━━━━━━━━━━━━━━\u001b[0m \u001b[32m95.1/95.1 kB\u001b[0m \u001b[31m4.8 MB/s\u001b[0m eta \u001b[36m0:00:00\u001b[0m\n",
            "\u001b[?25hDownloading xmltodict-0.14.2-py2.py3-none-any.whl (10.0 kB)\n",
            "Downloading pycryptodome-3.23.0-cp37-abi3-manylinux_2_17_x86_64.manylinux2014_x86_64.whl (2.3 MB)\n",
            "\u001b[2K   \u001b[90m━━━━━━━━━━━━━━━━━━━━━━━━━━━━━━━━━━━━━━━━\u001b[0m \u001b[32m2.3/2.3 MB\u001b[0m \u001b[31m32.7 MB/s\u001b[0m eta \u001b[36m0:00:00\u001b[0m\n",
            "\u001b[?25hBuilding wheels for collected packages: liac-arff\n",
            "  Building wheel for liac-arff (setup.py) ... \u001b[?25l\u001b[?25hdone\n",
            "  Created wheel for liac-arff: filename=liac_arff-2.5.0-py3-none-any.whl size=11717 sha256=884a7f31569ec0fadb3b4f967a375d7a4ab522ffc13a65d064e1f3a8b07ce611\n",
            "  Stored in directory: /root/.cache/pip/wheels/00/23/31/5e562fce1f95aabe57f2a7320d07433ba1cd152bcde2f6a002\n",
            "Successfully built liac-arff\n",
            "Installing collected packages: xmltodict, pycryptodome, liac-arff, minio, openml\n",
            "Successfully installed liac-arff-2.5.0 minio-7.2.15 openml-0.15.1 pycryptodome-3.23.0 xmltodict-0.14.2\n"
          ]
        }
      ],
      "source": [
        "!pip install openml"
      ]
    },
    {
      "cell_type": "code",
      "source": [
        "import pandas as pd\n",
        "import os\n",
        "\n",
        "folder_path = '/content/drive/MyDrive/my_csv_files'\n",
        "\n",
        "# لیست تمام فایل‌های CSV و Excel\n",
        "files = os.listdir(folder_path)\n",
        "\n",
        "dataframes = []\n",
        "\n",
        "for file in files:\n",
        "    file_path = os.path.join(folder_path, file)\n",
        "\n",
        "    if file.endswith('.csv'):\n",
        "        df = pd.read_csv(file_path)\n",
        "        print(f\"Loaded CSV: {file}\")\n",
        "\n",
        "    elif file.endswith('.xlsx') or file.endswith('.xls'):\n",
        "        df = pd.read_excel(file_path)\n",
        "        print(f\"Loaded Excel: {file}\")\n",
        "\n",
        "    else:\n",
        "        print(f\"Skipped unsupported file: {file}\")\n",
        "        continue\n",
        "\n",
        "    dataframes.append(df)\n"
      ],
      "metadata": {
        "id": "OdLNxOvS64I4"
      },
      "execution_count": null,
      "outputs": []
    },
    {
      "cell_type": "code",
      "execution_count": null,
      "metadata": {
        "id": "fGcOX11cJA1K"
      },
      "outputs": [],
      "source": [
        "results = []"
      ]
    },
    {
      "cell_type": "code",
      "execution_count": null,
      "metadata": {
        "colab": {
          "base_uri": "https://localhost:8080/"
        },
        "id": "df8b2N3bu_wG",
        "outputId": "51b45db0-0202-41ac-e996-ea6b6986c079"
      },
      "outputs": [
        {
          "output_type": "stream",
          "name": "stdout",
          "text": [
            "(250, 14)\n",
            "    Test Size  Repeat    All_R2    All_MSE  BestGroup_R2  BestGroup_MSE  \\\n",
            "0        0.10       1  0.681876  18.391184      0.658823      19.723904   \n",
            "1        0.10       2  0.672007  30.814640      0.684761      29.616400   \n",
            "2        0.10       3  0.725342  18.687792      0.777707      15.124880   \n",
            "3        0.10       4  0.560290  26.714800      0.404347      36.189152   \n",
            "4        0.10       5  0.632024  29.812416      0.731632      21.742496   \n",
            "..        ...     ...       ...        ...           ...            ...   \n",
            "95       0.25      16  0.640825  29.548102      0.622324      31.070152   \n",
            "96       0.25      17  0.643078  27.752254      0.668668      25.762571   \n",
            "97       0.25      18  0.501166  28.379441      0.429264      32.470070   \n",
            "98       0.25      19  0.543435  34.613130      0.610796      29.506394   \n",
            "99       0.25      20  0.647670  21.445308      0.625781      22.777619   \n",
            "\n",
            "    BestGroup Size  \n",
            "0                9  \n",
            "1                4  \n",
            "2               12  \n",
            "3                3  \n",
            "4                4  \n",
            "..             ...  \n",
            "95               3  \n",
            "96               3  \n",
            "97               2  \n",
            "98               6  \n",
            "99               5  \n",
            "\n",
            "[100 rows x 7 columns]\n"
          ]
        }
      ],
      "source": [
        "import pandas as pd\n",
        "\n",
        "\n",
        "# مسیر فایل در گوگل درایو\n",
        "file_path = '/content/drive/MyDrive/my_csv_files/bodyfat.csv'\n",
        "\n",
        "# بارگذاری فایل\n",
        "data = pd.read_csv(file_path)\n",
        "\n",
        "# جدا کردن ویژگی‌ها و برچسب‌ها\n",
        "X = data.drop('Pct.BF', axis=1)\n",
        "y = data['Pct.BF']\n",
        "\n",
        "print(X.shape)\n",
        "\n",
        "\n",
        "df_results = knn_auto_evaluator_from_xy(X, y)\n",
        "print(df_results)\n",
        "\n",
        "results.append({'name': 'Bodyfat', 'type': 'regression', 'table': df_results})"
      ]
    },
    {
      "cell_type": "code",
      "execution_count": null,
      "metadata": {
        "colab": {
          "base_uri": "https://localhost:8080/"
        },
        "id": "HWVAXcQb1sPd",
        "outputId": "4d0eb488-cec7-4848-aa41-18afa8c8d37b"
      },
      "outputs": [
        {
          "output_type": "stream",
          "name": "stdout",
          "text": [
            "(200, 3)\n",
            "    Test Size  Repeat    All_R2   All_MSE  BestGroup_R2  BestGroup_MSE  \\\n",
            "0        0.10       1  0.964943  0.954440      0.984500       0.422000   \n",
            "1        0.10       2  0.969972  0.887780      0.980583       0.574060   \n",
            "2        0.10       3  0.872489  2.564180      0.967207       0.659460   \n",
            "3        0.10       4  0.917554  2.991300      0.931708       2.477780   \n",
            "4        0.10       5  0.929257  1.491680      0.973599       0.556680   \n",
            "..        ...     ...       ...       ...           ...            ...   \n",
            "95       0.25      16  0.922305  2.560896      0.961670       1.263384   \n",
            "96       0.25      17  0.918546  2.407288      0.953062       1.387200   \n",
            "97       0.25      18  0.913628  2.247872      0.966034       0.883968   \n",
            "98       0.25      19  0.922666  1.413320      0.937424       1.143608   \n",
            "99       0.25      20  0.933725  1.842632      0.971975       0.779192   \n",
            "\n",
            "    BestGroup Size  \n",
            "0                2  \n",
            "1                2  \n",
            "2                2  \n",
            "3                2  \n",
            "4                2  \n",
            "..             ...  \n",
            "95               2  \n",
            "96               2  \n",
            "97               2  \n",
            "98               2  \n",
            "99               2  \n",
            "\n",
            "[100 rows x 7 columns]\n"
          ]
        }
      ],
      "source": [
        "import pandas as pd\n",
        "\n",
        "# بارگذاری فایل\n",
        "data = pd.read_csv('/content/drive/MyDrive/my_csv_files/advertising.csv')\n",
        "\n",
        "# جدا کردن ویژگی‌ها و برچسب‌ها\n",
        "X = data.drop('Pct.BF', axis=1)\n",
        "y = data['Pct.BF']\n",
        "\n",
        "# جدا کردن ویژگی‌ها و برچسب‌ها\n",
        "X = data.drop('sales', axis=1)\n",
        "y= data['sales']\n",
        "\n",
        "print(X.shape)\n",
        "\n",
        "df_results = knn_auto_evaluator_from_xy(X, y)\n",
        "print(df_results)\n",
        "\n",
        "results.append({'name': 'Advertising', 'type': 'regression', 'table': df_results})"
      ]
    },
    {
      "cell_type": "code",
      "execution_count": null,
      "metadata": {
        "colab": {
          "base_uri": "https://localhost:8080/"
        },
        "id": "eks7hrKw2YXc",
        "outputId": "925530b8-e4c6-4e55-911d-0a0578be8db0"
      },
      "outputs": [
        {
          "output_type": "stream",
          "name": "stdout",
          "text": [
            "(506, 13)\n",
            "    Test Size  Repeat    All_R2    All_MSE  BestGroup_R2  BestGroup_MSE  \\\n",
            "0        0.10       1  0.461981  37.868329      0.828331      12.082847   \n",
            "1        0.10       2  0.462183  34.197420      0.724891      17.492980   \n",
            "2        0.10       3  0.626196  17.912149      0.827907       8.246463   \n",
            "3        0.10       4  0.499698  44.915553      0.787902      19.041522   \n",
            "4        0.10       5  0.594493  45.088227      0.904275      10.643647   \n",
            "..        ...     ...       ...        ...           ...            ...   \n",
            "95       0.25      16  0.652965  34.740602      0.826463      17.372205   \n",
            "96       0.25      17  0.522003  40.931685      0.713643      24.521175   \n",
            "97       0.25      18  0.399042  56.572135      0.700057      28.235657   \n",
            "98       0.25      19  0.500818  39.576211      0.740000      20.613332   \n",
            "99       0.25      20  0.562341  31.271373      0.776025      16.003329   \n",
            "\n",
            "    BestGroup Size  \n",
            "0                4  \n",
            "1                5  \n",
            "2                4  \n",
            "3                4  \n",
            "4                4  \n",
            "..             ...  \n",
            "95               4  \n",
            "96               4  \n",
            "97               6  \n",
            "98               4  \n",
            "99               7  \n",
            "\n",
            "[100 rows x 7 columns]\n"
          ]
        }
      ],
      "source": [
        "import pandas as pd\n",
        "\n",
        "# بارگذاری فایل\n",
        "data = pd.read_csv('/content/drive/MyDrive/my_csv_files/BostonHousing.csv')\n",
        "\n",
        "\n",
        "\n",
        "# جدا کردن ویژگی‌ها و برچسب‌ها\n",
        "X = data.drop('medv', axis=1)\n",
        "y= data['medv']\n",
        "\n",
        "print(X.shape)\n",
        "\n",
        "df_results = knn_auto_evaluator_from_xy(X, y)\n",
        "print(df_results)\n",
        "results.append({'name': 'BostonHousing', 'type': 'regression', 'table': df_results})"
      ]
    },
    {
      "cell_type": "code",
      "execution_count": null,
      "metadata": {
        "colab": {
          "base_uri": "https://localhost:8080/"
        },
        "id": "SAPjw0uj2y3T",
        "outputId": "b94d30de-7838-4813-fe76-004aca88290a"
      },
      "outputs": [
        {
          "output_type": "stream",
          "name": "stdout",
          "text": [
            "(50, 5)\n",
            "    Test Size  Repeat    All_R2   All_MSE  BestGroup_R2  BestGroup_MSE  \\\n",
            "0        0.10       1 -0.066933  2.000500      0.981867       0.034000   \n",
            "1        0.10       2  0.191483  1.281500      0.981703       0.029000   \n",
            "2        0.10       3 -0.517293  1.009000      0.922556       0.051500   \n",
            "3        0.10       4  0.250492  1.143000      0.983607       0.025000   \n",
            "4        0.10       5 -0.745062  1.413500      0.972222       0.022500   \n",
            "..        ...     ...       ...       ...           ...            ...   \n",
            "95       0.25      16 -0.156218  1.193846      0.903711       0.099423   \n",
            "96       0.25      17  0.189206  0.936731      0.920102       0.092308   \n",
            "97       0.25      18 -0.152684  1.312115      0.868057       0.150192   \n",
            "98       0.25      19 -0.279788  1.607308      0.961720       0.048077   \n",
            "99       0.25      20 -0.023022  1.587500      0.888837       0.172500   \n",
            "\n",
            "    BestGroup Size  \n",
            "0                2  \n",
            "1                2  \n",
            "2                2  \n",
            "3                2  \n",
            "4                2  \n",
            "..             ...  \n",
            "95               2  \n",
            "96               2  \n",
            "97               2  \n",
            "98               2  \n",
            "99               2  \n",
            "\n",
            "[100 rows x 7 columns]\n"
          ]
        }
      ],
      "source": [
        "import pandas as pd\n",
        "\n",
        "# بارگذاری فایل\n",
        "data = pd.read_csv('/content/drive/MyDrive/my_csv_files/cookie_recipes.csv')\n",
        "\n",
        "\n",
        "# جدا کردن ویژگی‌ها و برچسب‌ها\n",
        "X = data.drop('rating', axis=1)\n",
        "y= data['rating']\n",
        "\n",
        "print(X.shape)\n",
        "\n",
        "df_results = knn_auto_evaluator_from_xy(X, y)\n",
        "print(df_results)\n",
        "\n",
        "results.append({'name': 'Cookie_Recipes', 'type': 'regression', 'table': df_results})"
      ]
    },
    {
      "cell_type": "code",
      "execution_count": null,
      "metadata": {
        "colab": {
          "base_uri": "https://localhost:8080/"
        },
        "id": "3N879vAh3RhL",
        "outputId": "55259d6c-6782-4106-9962-90238fbd6e07"
      },
      "outputs": [
        {
          "output_type": "stream",
          "name": "stdout",
          "text": [
            "(20640, 8)\n",
            "    Test Size  Repeat    All_R2   All_MSE  BestGroup_R2  BestGroup_MSE  \\\n",
            "0        0.10       1  0.142189  1.113761      0.752107       0.321858   \n",
            "1        0.10       2  0.161395  1.119952      0.753139       0.329682   \n",
            "2        0.10       3  0.158542  1.154931      0.771324       0.313866   \n",
            "3        0.10       4  0.182538  1.078940      0.752998       0.326009   \n",
            "4        0.10       5  0.180928  1.073027      0.766139       0.306370   \n",
            "..        ...     ...       ...       ...           ...            ...   \n",
            "95       0.25      16  0.137955  1.168975      0.759572       0.326032   \n",
            "96       0.25      17  0.137816  1.147727      0.751359       0.330987   \n",
            "97       0.25      18  0.153993  1.098401      0.758202       0.313936   \n",
            "98       0.25      19  0.158825  1.133839      0.749905       0.337109   \n",
            "99       0.25      20  0.160110  1.113141      0.746891       0.335456   \n",
            "\n",
            "    BestGroup Size  \n",
            "0                6  \n",
            "1                6  \n",
            "2                6  \n",
            "3                6  \n",
            "4                6  \n",
            "..             ...  \n",
            "95               6  \n",
            "96               6  \n",
            "97               6  \n",
            "98               6  \n",
            "99               6  \n",
            "\n",
            "[100 rows x 7 columns]\n"
          ]
        }
      ],
      "source": [
        "from sklearn.datasets import fetch_california_housing\n",
        "import pandas as pd\n",
        "\n",
        "\n",
        "# بارگذاری داده‌های قیمت خانه‌های کالیفرنیا\n",
        "data =  fetch_california_housing()\n",
        "X = pd.DataFrame(data.data, columns=data.feature_names)\n",
        "y= data.target\n",
        "\n",
        "print(X.shape)\n",
        "\n",
        "X = pd.DataFrame(data.data, columns=data.feature_names)\n",
        "y = pd.Series(data.target)\n",
        "\n",
        "df_results = knn_auto_evaluator_from_xy(X, y)\n",
        "print(df_results)\n",
        "\n",
        "results.append({'name': 'California_Housing', 'type': 'regression', 'table': df_results})"
      ]
    },
    {
      "cell_type": "code",
      "execution_count": null,
      "metadata": {
        "colab": {
          "base_uri": "https://localhost:8080/"
        },
        "id": "BPKuFMadwBoP",
        "outputId": "89dc680d-1741-42a0-d320-21d7f7df0265"
      },
      "outputs": [
        {
          "output_type": "stream",
          "name": "stdout",
          "text": [
            "    Test Size  Repeat  All_Accuracy  BestGroup_Accuracy  BestGroup Size\n",
            "0        0.10       1      0.611111            0.888889               2\n",
            "1        0.10       2      0.833333            0.888889               4\n",
            "2        0.10       3      0.611111            0.833333               2\n",
            "3        0.10       4      0.666667            0.555556               8\n",
            "4        0.10       5      0.666667            0.833333               1\n",
            "..        ...     ...           ...                 ...             ...\n",
            "95       0.25      16      0.733333            0.977778               4\n",
            "96       0.25      17      0.577778            0.755556               1\n",
            "97       0.25      18      0.777778            0.911111               2\n",
            "98       0.25      19      0.533333            0.911111               2\n",
            "99       0.25      20      0.711111            0.933333               2\n",
            "\n",
            "[100 rows x 5 columns]\n"
          ]
        }
      ],
      "source": [
        "from sklearn.datasets import load_wine\n",
        "data = load_wine(as_frame=True)\n",
        "X = data.data\n",
        "y = data.target\n",
        "\n",
        "df_results = knn_auto_evaluator_from_xy(X, y)\n",
        "print(df_results)\n",
        "\n",
        "results.append({'name': 'wine', 'type': 'classification', 'table': df_results})"
      ]
    },
    {
      "cell_type": "code",
      "execution_count": null,
      "metadata": {
        "colab": {
          "background_save": true,
          "base_uri": "https://localhost:8080/"
        },
        "id": "K3LLeip6tPNz",
        "outputId": "68c8f7d7-f791-4cdd-849c-e93ed633ce2b"
      },
      "outputs": [
        {
          "metadata": {
            "tags": null
          },
          "name": "stdout",
          "output_type": "stream",
          "text": [
            "(57580, 54)\n"
          ]
        }
      ],
      "source": [
        "import openml\n",
        "import pandas as pd\n",
        "\n",
        "# دانلود دیتاست\n",
        "dataset = openml.datasets.get_dataset(43977)\n",
        "data, y_data, _, _ = dataset.get_data(target=dataset.default_target_attribute)\n",
        "\n",
        "# افزودن ستون هدف به دیتافریم کامل\n",
        "data['rating'] = y_data  # فرض بر این است که ستون هدف، rating است\n",
        "\n",
        "# جدا کردن ویژگی‌ها و برچسب‌ها\n",
        "X = data.drop('rating', axis=1)\n",
        "y = data['rating']\n",
        "\n",
        "print(X.shape)\n",
        "\n",
        "df_results = knn_auto_evaluator_from_xy(X, y)\n",
        "print(df_results)\n",
        "\n",
        "results.append({'name': 'Jannis(43977)', 'type': 'classification', 'table': df_results})"
      ]
    },
    {
      "cell_type": "code",
      "execution_count": null,
      "metadata": {
        "colab": {
          "base_uri": "https://localhost:8080/"
        },
        "id": "hn6r6r50ztsy",
        "outputId": "5976355c-0a82-4923-f891-8f6c101a6dfc"
      },
      "outputs": [
        {
          "name": "stdout",
          "output_type": "stream",
          "text": [
            "(2148, 17)\n",
            "    Test Size  Repeat  All_Accuracy  BestGroup_Accuracy  BestGroup Size\n",
            "0        0.10       1      0.790698            0.823256               2\n",
            "1        0.10       2      0.800000            0.865116               5\n",
            "2        0.10       3      0.725581            0.837209               4\n",
            "3        0.10       4      0.706977            0.837209               6\n",
            "4        0.10       5      0.800000            0.888372               7\n",
            "..        ...     ...           ...                 ...             ...\n",
            "95       0.25      16      0.739292            0.841713               5\n",
            "96       0.25      17      0.756052            0.826816               3\n",
            "97       0.25      18      0.728119            0.811918               2\n",
            "98       0.25      19      0.729981            0.821229               4\n",
            "99       0.25      20      0.765363            0.834264               4\n",
            "\n",
            "[100 rows x 5 columns]\n"
          ]
        }
      ],
      "source": [
        "import pandas as pd\n",
        "\n",
        "# بارگذاری فایل اکسل\n",
        "data = pd.read_excel('/content/drive/MyDrive/my_csv_files/Pistachio.xlsx')\n",
        "# حذف سطرهای حاوی NaN\n",
        "data = data.dropna()\n",
        "\n",
        "\n",
        "# جدا کردن ویژگی‌ها و برچسب‌ها\n",
        "X = data.drop('Class', axis=1)\n",
        "y = data['Class']\n",
        "\n",
        "print(data.shape)\n",
        "\n",
        "\n",
        "df_results = knn_auto_evaluator_from_xy(X, y)\n",
        "print(df_results)\n",
        "\n",
        "results.append({'name': 'Pistachio', 'type': 'classification', 'table': df_results})"
      ]
    },
    {
      "cell_type": "code",
      "execution_count": null,
      "metadata": {
        "colab": {
          "base_uri": "https://localhost:8080/"
        },
        "id": "5Reb_-BTCJjO",
        "outputId": "fe5080a0-9698-4ab4-c4be-3b03e5bd7950"
      },
      "outputs": [
        {
          "name": "stdout",
          "output_type": "stream",
          "text": [
            "(13376, 10)\n",
            "قبل از حذف NaN و ستون: (13376, 11)\n",
            "Index(['fLength:', 'fWidth:', 'fSize:', 'fConc:', 'fConc1:', 'fAsym:',\n",
            "       'fM3Long:', 'fM3Trans:', 'fAlpha:', 'fDist:', 'rating'],\n",
            "      dtype='object')\n",
            "   fLength:  fWidth:  fSize:  fConc:  fConc1:   fAsym:  fM3Long:  fM3Trans:  \\\n",
            "0   69.2979  26.8809  3.1930  0.2065   0.1074  39.6296   44.3457   -23.0604   \n",
            "1   24.5939  10.1418  2.5676  0.5007   0.2693  -8.4503   15.2452    -7.0283   \n",
            "2   55.4800  27.1606  3.1826  0.2299   0.1225  43.1016   54.2556    13.7406   \n",
            "3   12.6594  11.7413  2.1351  0.7033   0.3846 -15.8596    9.4522    -8.7126   \n",
            "4   38.6204  20.5632  2.9770  0.2478   0.1270 -13.8229  -31.3983   -13.1337   \n",
            "\n",
            "   fAlpha:   fDist: rating  \n",
            "0   9.3234  248.750      g  \n",
            "1  17.0056  173.288      g  \n",
            "2  32.2220  262.181      g  \n",
            "3  43.5434  227.711      g  \n",
            "4   5.8671  192.467      g  \n",
            "بعد از حذف: (13376, 11)\n",
            "(13376, 10)\n",
            "    Test Size  Repeat  All_Accuracy  BestGroup_Accuracy  BestGroup Size\n",
            "0        0.10       1      0.765321            0.769806               4\n",
            "1        0.10       2      0.763827            0.790732               4\n",
            "2        0.10       3      0.782511            0.793722               5\n",
            "3        0.10       4      0.760837            0.789238               4\n",
            "4        0.10       5      0.772048            0.765321               4\n",
            "..        ...     ...           ...                 ...             ...\n",
            "95       0.25      16      0.771232            0.784689               4\n",
            "96       0.25      17      0.784390            0.798744               4\n",
            "97       0.25      18      0.754486            0.777811               5\n",
            "98       0.25      19      0.779007            0.798445               4\n",
            "99       0.25      20      0.773923            0.786782               4\n",
            "\n",
            "[100 rows x 5 columns]\n"
          ]
        }
      ],
      "source": [
        "#\n",
        "import openml\n",
        "import pandas as pd\n",
        "\n",
        "# دانلود دیتاست\n",
        "dataset = openml.datasets.get_dataset(43971)\n",
        "data, y_data, _, _ = dataset.get_data(target=dataset.default_target_attribute)\n",
        "print(data.shape)\n",
        "# افزودن ستون هدف به دیتافریم کامل\n",
        "data['rating'] = y_data  # فرض بر این است که ستون هدف، rating است\n",
        "\n",
        "\n",
        "# جدا کردن ویژگی‌ها و برچسب‌ها\n",
        "X= data.drop('rating', axis=1)\n",
        "y= data['rating']\n",
        "\n",
        "print(X.shape)\n",
        "\n",
        "\n",
        "df_results = knn_auto_evaluator_from_xy(X, y)\n",
        "print(df_results)\n",
        "\n",
        "results.append({'name': 'MagicTelescope(43971)', 'type': 'classification', 'table': df_results})"
      ]
    },
    {
      "cell_type": "code",
      "execution_count": null,
      "metadata": {
        "id": "TP2eEQxKKU0g"
      },
      "outputs": [],
      "source": [
        "\n",
        "import openml\n",
        "import pandas as pd\n",
        "\n",
        "dataset = openml.datasets.get_dataset(1046)\n",
        "data, y_data, _, _ = dataset.get_data(target=dataset.default_target_attribute)\n",
        "\n",
        "# 🔧 افزودن target به dataframe کامل (مثل خواندن فایل CSV)\n",
        "data['rating'] = y_data  # فرض می‌گیریم نام ستون هدف \"rating\" باشه برای یکسان بودن با مثال شما\n",
        "\n",
        "print(data.shape)\n",
        "# حذف سطرهای حاوی NaN\n",
        "data = data.dropna()\n",
        "\n",
        "print(data.shape)\n",
        "\n",
        "# 🎯 جدا کردن ویژگی‌ها و برچسب‌ها (مطابق ساختار شما)\n",
        "X = data.drop('rating', axis=1)\n",
        "y = data['rating']\n",
        "data_features = X.columns\n",
        "\n",
        "\n",
        "df_results = knn_auto_evaluator_from_xy(X, y)\n",
        "print(df_results)\n",
        "\n",
        "results.append({'name': 'Hill_Valley_with_Noise(1046)', 'type': 'classification', 'table': df_results})"
      ]
    },
    {
      "cell_type": "code",
      "execution_count": null,
      "metadata": {
        "id": "Mr5KtLmsMBBP"
      },
      "outputs": [],
      "source": [
        "# Climate Model Simulation\n",
        "# شبیه‌سازی آب‌وهوا (دوتایی)\n",
        "import openml\n",
        "import pandas as pd\n",
        "\n",
        "dataset = openml.datasets.get_dataset(40966)\n",
        "data, y_data, _, _ = dataset.get_data(target=dataset.default_target_attribute)\n",
        "\n",
        "# 🔧 افزودن target به dataframe کامل (مثل خواندن فایل CSV)\n",
        "data['rating'] = y_data  # فرض می‌گیریم نام ستون هدف \"rating\" باشه برای یکسان بودن با مثال شما\n",
        "\n",
        "print(data.shape)\n",
        "# حذف سطرهای حاوی NaN\n",
        "data = data.dropna()\n",
        "\n",
        "\n",
        "print(data.shape)\n",
        "\n",
        "# 🎯 جدا کردن ویژگی‌ها و برچسب‌ها (مطابق ساختار شما)\n",
        "X = data.drop('rating', axis=1)\n",
        "y = data['rating']\n",
        "\n",
        "\n",
        "df_results = knn_auto_evaluator_from_xy(X, y)\n",
        "print(df_results)\n",
        "\n",
        "results.append({'name': 'Climate Model Simulation', 'type': 'classification', 'table': df_results})"
      ]
    },
    {
      "cell_type": "code",
      "execution_count": null,
      "metadata": {
        "id": "3uZHR-wuCmea"
      },
      "outputs": [],
      "source": [
        "import pandas as pd\n",
        "\n",
        "def summarize_max_diff_results(dataset_tables):\n",
        "    \"\"\"\n",
        "    dataset_tables: لیستی از دیکشنری‌ها به شکل زیر:\n",
        "    [\n",
        "        {'name': 'Diabetes', 'type': 'regression', 'table': df1},\n",
        "        {'name': 'Wine', 'type': 'classification', 'table': df2},\n",
        "        ...\n",
        "    ]\n",
        "\n",
        "    خروجی: DataFrame خلاصه از بیشترین اختلاف برای هر دیتاست\n",
        "    \"\"\"\n",
        "    summary_rows = []\n",
        "\n",
        "    for item in dataset_tables:\n",
        "        name = item['name']\n",
        "        dtype = item['type']\n",
        "        df = item['table']\n",
        "\n",
        "        if dtype == 'regression':\n",
        "            # محاسبه بیشترین اختلاف MSE\n",
        "            df['MSE_Diff'] = df['All_MSE'] - df['BestGroup_MSE']\n",
        "            best_row = df.loc[df['MSE_Diff'].idxmax()]\n",
        "            summary_rows.append({\n",
        "                'Dataset': name,\n",
        "                'Type': dtype,\n",
        "                'All_Accuracy': None,\n",
        "                'BestGroup_Accuracy': None,\n",
        "                'All_R2': best_row['All_R2'],\n",
        "                'BestGroup_R2': best_row['BestGroup_R2'],\n",
        "                'All_MSE': best_row['All_MSE'],\n",
        "                'BestGroup_MSE': best_row['BestGroup_MSE']\n",
        "            })\n",
        "\n",
        "        elif dtype == 'classification':\n",
        "            # محاسبه بیشترین اختلاف دقت\n",
        "            df['Accuracy_Diff'] = df['BestGroup_Accuracy'] - df['All_Accuracy']\n",
        "            best_row = df.loc[df['Accuracy_Diff'].idxmax()]\n",
        "            summary_rows.append({\n",
        "                'Dataset': name,\n",
        "                'Type': dtype,\n",
        "                'All_Accuracy': best_row['All_Accuracy'],\n",
        "                'BestGroup_Accuracy': best_row['BestGroup_Accuracy'],\n",
        "                'All_R2': None,\n",
        "                'BestGroup_R2': None,\n",
        "                'All_MSE': None,\n",
        "                'BestGroup_MSE': None\n",
        "            })\n",
        "\n",
        "    return pd.DataFrame(summary_rows)\n"
      ]
    },
    {
      "cell_type": "code",
      "execution_count": null,
      "metadata": {
        "id": "8OILSpVpCpK-"
      },
      "outputs": [],
      "source": [
        "results = [\n",
        "    {'name': 'Bodyfat', 'type': 'regression', 'table': df_results},\n",
        "    {'name': 'Advertising', 'type': 'regression', 'table': df_results},\n",
        "    {'name': 'BostonHousing', 'type': 'regression', 'table': df_results},\n",
        "    {'name': 'Cookie_Recipes', 'type': 'regression', 'table': df_results},\n",
        "    {'name': 'California_Housing', 'type': 'regression', 'table': df_results},\n",
        "    {'name': 'wine', 'type': 'classification', 'table': df_results},\n",
        "    {'name': 'Jannis(43977)', 'type': 'classification', 'table': df_results},\n",
        "    {'name': 'Pistachio', 'type': 'classification', 'table': df_results},\n",
        "    {'name': 'MagicTelescope(43971)', 'type': 'classification', 'table': df_results},\n",
        "    {'name': 'Hill_Valley_with_Noise(1046)', 'type': 'classification', 'table': df_results},\n",
        "    {'name': 'Climate Model Simulation', 'type': 'classification', 'table': df_results}\n",
        "\n",
        "]\n",
        "\n",
        "summary = summarize_max_diff_results(results)\n",
        "print(summary)\n"
      ]
    }
  ],
  "metadata": {
    "colab": {
      "provenance": [],
      "authorship_tag": "ABX9TyNkh0abkxqsSXcrCL5Rv4Kl",
      "include_colab_link": true
    },
    "kernelspec": {
      "display_name": "Python 3",
      "name": "python3"
    },
    "language_info": {
      "name": "python"
    }
  },
  "nbformat": 4,
  "nbformat_minor": 0
}