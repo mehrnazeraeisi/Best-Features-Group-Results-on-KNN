{
  "cells": [
    {
      "cell_type": "markdown",
      "metadata": {
        "id": "view-in-github",
        "colab_type": "text"
      },
      "source": [
        "<a href=\"https://colab.research.google.com/github/mehrnazeraeisi/Best-Features-Group-Results-on-KNN/blob/main/Best_Features_Group_Results_on_KNN.ipynb\" target=\"_parent\"><img src=\"https://colab.research.google.com/assets/colab-badge.svg\" alt=\"Open In Colab\"/></a>"
      ]
    },
    {
      "cell_type": "code",
      "execution_count": null,
      "metadata": {
        "id": "X9QOsMKlug0B"
      },
      "outputs": [],
      "source": [
        "def knn_auto_evaluator_from_xy(X_data, y_data, test_sizes=[0.1, 0.13, 0.16 , 0.19, 0.25], n_repeats=20):\n",
        "    import numpy as np\n",
        "    import pandas as pd\n",
        "    from sklearn.model_selection import train_test_split\n",
        "    from sklearn.neighbors import KNeighborsRegressor, KNeighborsClassifier\n",
        "    from sklearn.metrics import r2_score, mean_squared_error, accuracy_score\n",
        "    import warnings\n",
        "    warnings.filterwarnings(\"ignore\")\n",
        "\n",
        "    # تشخیص نوع تارگت\n",
        "    if pd.api.types.is_numeric_dtype(y_data):\n",
        "        target_type = 'regression' if len(np.unique(y_data)) > 10 else 'classification'\n",
        "    else:\n",
        "        target_type = 'classification'\n",
        "\n",
        "    feature_names = X_data.columns.tolist()\n",
        "    results = []\n",
        "\n",
        "    for ts in test_sizes:\n",
        "        for repeat in range(1, n_repeats+1):\n",
        "            X_train, X_test, y_train, y_test = train_test_split(X_data, y_data, test_size=ts)\n",
        "\n",
        "            scores = []\n",
        "            for feature in feature_names:\n",
        "                model = KNeighborsRegressor() if target_type == 'regression' else KNeighborsClassifier()\n",
        "                model.fit(X_train[[feature]], y_train)\n",
        "                y_pred = model.predict(X_train[[feature]])\n",
        "                score = r2_score(y_train, y_pred) if target_type == 'regression' else accuracy_score(y_train, y_pred)\n",
        "                scores.append((feature, score))\n",
        "\n",
        "            df_scores = pd.DataFrame(scores, columns=['Feature', 'Score']).sort_values(by='Score', ascending=False)\n",
        "\n",
        "            best_score = -np.inf\n",
        "            best_group = []\n",
        "            for k in range(1, len(df_scores)+1):\n",
        "                group = df_scores['Feature'][:k].tolist()\n",
        "                model = KNeighborsRegressor() if target_type == 'regression' else KNeighborsClassifier()\n",
        "                model.fit(X_train[group], y_train)\n",
        "                y_pred = model.predict(X_train[group])\n",
        "                score = r2_score(y_train, y_pred) if target_type == 'regression' else accuracy_score(y_train, y_pred)\n",
        "                if score > best_score:\n",
        "                    best_score = score\n",
        "                    best_group = group\n",
        "\n",
        "            model_all = KNeighborsRegressor() if target_type == 'regression' else KNeighborsClassifier()\n",
        "            model_best = KNeighborsRegressor() if target_type == 'regression' else KNeighborsClassifier()\n",
        "            model_all.fit(X_train, y_train)\n",
        "            model_best.fit(X_train[best_group], y_train)\n",
        "            y_pred_all = model_all.predict(X_test)\n",
        "            y_pred_best = model_best.predict(X_test[best_group])\n",
        "\n",
        "            if target_type == 'regression':\n",
        "                result_row = {\n",
        "                    'Test Size': ts,\n",
        "                    'Repeat': repeat,\n",
        "                    'All_R2': r2_score(y_test, y_pred_all),\n",
        "                    'All_MSE': mean_squared_error(y_test, y_pred_all),\n",
        "                    'BestGroup_R2': r2_score(y_test, y_pred_best),\n",
        "                    'BestGroup_MSE': mean_squared_error(y_test, y_pred_best),\n",
        "                    'BestGroup Size': len(best_group)\n",
        "                }\n",
        "                column_order = ['Test Size', 'Repeat', 'All_R2', 'All_MSE', 'BestGroup_R2', 'BestGroup_MSE', 'BestGroup Size']\n",
        "            else:\n",
        "                result_row = {\n",
        "                    'Test Size': ts,\n",
        "                    'Repeat': repeat,\n",
        "                    'All_Accuracy': accuracy_score(y_test, y_pred_all),\n",
        "                    'BestGroup_Accuracy': accuracy_score(y_test, y_pred_best),\n",
        "                    'BestGroup Size': len(best_group)\n",
        "                }\n",
        "                column_order = ['Test Size', 'Repeat', 'All_Accuracy', 'BestGroup_Accuracy', 'BestGroup Size']\n",
        "\n",
        "            results.append(result_row)\n",
        "\n",
        "    # ساخت DataFrame نهایی با ترتیب دقیق ستون‌ها\n",
        "    return pd.DataFrame(results)[column_order]\n"
      ]
    },
    {
      "cell_type": "code",
      "execution_count": null,
      "metadata": {
        "colab": {
          "base_uri": "https://localhost:8080/"
        },
        "id": "vbTlItGrDze8",
        "outputId": "6e360bd7-2abe-41c5-a824-47ce383453d8"
      },
      "outputs": [
        {
          "name": "stdout",
          "output_type": "stream",
          "text": [
            "Collecting openml\n",
            "  Downloading openml-0.15.1-py3-none-any.whl.metadata (10 kB)\n",
            "Collecting liac-arff>=2.4.0 (from openml)\n",
            "  Downloading liac-arff-2.5.0.tar.gz (13 kB)\n",
            "  Preparing metadata (setup.py) ... \u001b[?25l\u001b[?25hdone\n",
            "Collecting xmltodict (from openml)\n",
            "  Downloading xmltodict-0.14.2-py2.py3-none-any.whl.metadata (8.0 kB)\n",
            "Requirement already satisfied: requests in /usr/local/lib/python3.11/dist-packages (from openml) (2.32.3)\n",
            "Requirement already satisfied: scikit-learn>=0.18 in /usr/local/lib/python3.11/dist-packages (from openml) (1.6.1)\n",
            "Requirement already satisfied: python-dateutil in /usr/local/lib/python3.11/dist-packages (from openml) (2.9.0.post0)\n",
            "Requirement already satisfied: pandas>=1.0.0 in /usr/local/lib/python3.11/dist-packages (from openml) (2.2.2)\n",
            "Requirement already satisfied: scipy>=0.13.3 in /usr/local/lib/python3.11/dist-packages (from openml) (1.15.3)\n",
            "Requirement already satisfied: numpy>=1.6.2 in /usr/local/lib/python3.11/dist-packages (from openml) (2.0.2)\n",
            "Collecting minio (from openml)\n",
            "  Downloading minio-7.2.15-py3-none-any.whl.metadata (6.7 kB)\n",
            "Requirement already satisfied: pyarrow in /usr/local/lib/python3.11/dist-packages (from openml) (18.1.0)\n",
            "Requirement already satisfied: tqdm in /usr/local/lib/python3.11/dist-packages (from openml) (4.67.1)\n",
            "Requirement already satisfied: packaging in /usr/local/lib/python3.11/dist-packages (from openml) (24.2)\n",
            "Requirement already satisfied: pytz>=2020.1 in /usr/local/lib/python3.11/dist-packages (from pandas>=1.0.0->openml) (2025.2)\n",
            "Requirement already satisfied: tzdata>=2022.7 in /usr/local/lib/python3.11/dist-packages (from pandas>=1.0.0->openml) (2025.2)\n",
            "Requirement already satisfied: six>=1.5 in /usr/local/lib/python3.11/dist-packages (from python-dateutil->openml) (1.17.0)\n",
            "Requirement already satisfied: joblib>=1.2.0 in /usr/local/lib/python3.11/dist-packages (from scikit-learn>=0.18->openml) (1.5.0)\n",
            "Requirement already satisfied: threadpoolctl>=3.1.0 in /usr/local/lib/python3.11/dist-packages (from scikit-learn>=0.18->openml) (3.6.0)\n",
            "Requirement already satisfied: certifi in /usr/local/lib/python3.11/dist-packages (from minio->openml) (2025.4.26)\n",
            "Requirement already satisfied: urllib3 in /usr/local/lib/python3.11/dist-packages (from minio->openml) (2.4.0)\n",
            "Requirement already satisfied: argon2-cffi in /usr/local/lib/python3.11/dist-packages (from minio->openml) (23.1.0)\n",
            "Collecting pycryptodome (from minio->openml)\n",
            "  Downloading pycryptodome-3.23.0-cp37-abi3-manylinux_2_17_x86_64.manylinux2014_x86_64.whl.metadata (3.4 kB)\n",
            "Requirement already satisfied: typing-extensions in /usr/local/lib/python3.11/dist-packages (from minio->openml) (4.13.2)\n",
            "Requirement already satisfied: charset-normalizer<4,>=2 in /usr/local/lib/python3.11/dist-packages (from requests->openml) (3.4.2)\n",
            "Requirement already satisfied: idna<4,>=2.5 in /usr/local/lib/python3.11/dist-packages (from requests->openml) (3.10)\n",
            "Requirement already satisfied: argon2-cffi-bindings in /usr/local/lib/python3.11/dist-packages (from argon2-cffi->minio->openml) (21.2.0)\n",
            "Requirement already satisfied: cffi>=1.0.1 in /usr/local/lib/python3.11/dist-packages (from argon2-cffi-bindings->argon2-cffi->minio->openml) (1.17.1)\n",
            "Requirement already satisfied: pycparser in /usr/local/lib/python3.11/dist-packages (from cffi>=1.0.1->argon2-cffi-bindings->argon2-cffi->minio->openml) (2.22)\n",
            "Downloading openml-0.15.1-py3-none-any.whl (160 kB)\n",
            "\u001b[2K   \u001b[90m━━━━━━━━━━━━━━━━━━━━━━━━━━━━━━━━━━━━━━━━\u001b[0m \u001b[32m160.4/160.4 kB\u001b[0m \u001b[31m5.0 MB/s\u001b[0m eta \u001b[36m0:00:00\u001b[0m\n",
            "\u001b[?25hDownloading minio-7.2.15-py3-none-any.whl (95 kB)\n",
            "\u001b[2K   \u001b[90m━━━━━━━━━━━━━━━━━━━━━━━━━━━━━━━━━━━━━━━━\u001b[0m \u001b[32m95.1/95.1 kB\u001b[0m \u001b[31m7.1 MB/s\u001b[0m eta \u001b[36m0:00:00\u001b[0m\n",
            "\u001b[?25hDownloading xmltodict-0.14.2-py2.py3-none-any.whl (10.0 kB)\n",
            "Downloading pycryptodome-3.23.0-cp37-abi3-manylinux_2_17_x86_64.manylinux2014_x86_64.whl (2.3 MB)\n",
            "\u001b[2K   \u001b[90m━━━━━━━━━━━━━━━━━━━━━━━━━━━━━━━━━━━━━━━━\u001b[0m \u001b[32m2.3/2.3 MB\u001b[0m \u001b[31m34.8 MB/s\u001b[0m eta \u001b[36m0:00:00\u001b[0m\n",
            "\u001b[?25hBuilding wheels for collected packages: liac-arff\n",
            "  Building wheel for liac-arff (setup.py) ... \u001b[?25l\u001b[?25hdone\n",
            "  Created wheel for liac-arff: filename=liac_arff-2.5.0-py3-none-any.whl size=11717 sha256=899adbd6ff59ef362097b34bb0817c46f55001f663eee41aa0a9b0d2e009a12b\n",
            "  Stored in directory: /root/.cache/pip/wheels/00/23/31/5e562fce1f95aabe57f2a7320d07433ba1cd152bcde2f6a002\n",
            "Successfully built liac-arff\n",
            "Installing collected packages: xmltodict, pycryptodome, liac-arff, minio, openml\n",
            "Successfully installed liac-arff-2.5.0 minio-7.2.15 openml-0.15.1 pycryptodome-3.23.0 xmltodict-0.14.2\n"
          ]
        }
      ],
      "source": [
        "!pip install openml"
      ]
    },
    {
      "cell_type": "code",
      "execution_count": null,
      "metadata": {
        "id": "fGcOX11cJA1K"
      },
      "outputs": [],
      "source": [
        "results = []"
      ]
    },
    {
      "cell_type": "code",
      "execution_count": null,
      "metadata": {
        "colab": {
          "base_uri": "https://localhost:8080/"
        },
        "id": "df8b2N3bu_wG",
        "outputId": "314a1f4a-d50a-446f-9c7e-e63c7a932646"
      },
      "outputs": [
        {
          "name": "stdout",
          "output_type": "stream",
          "text": [
            "(250, 14)\n",
            "    Test Size  Repeat    All_R2    All_MSE  BestGroup_R2  BestGroup_MSE  \\\n",
            "0        0.10       1  0.555352  23.137072      0.670260      17.157888   \n",
            "1        0.10       2  0.536302  46.193088      0.619361      37.918896   \n",
            "2        0.10       3  0.490499  24.796928      0.570165      20.919664   \n",
            "3        0.10       4  0.527760  45.250720      0.501917      47.727088   \n",
            "4        0.10       5  0.275914  38.084192      0.435546      29.688160   \n",
            "..        ...     ...       ...        ...           ...            ...   \n",
            "95       0.25      16  0.586683  27.870819      0.646345      23.847651   \n",
            "96       0.25      17  0.389786  34.570083      0.531327      26.551441   \n",
            "97       0.25      18  0.524661  35.620508      0.607891      29.383530   \n",
            "98       0.25      19  0.677172  25.357016      0.682847      24.911244   \n",
            "99       0.25      20  0.533545  29.795054      0.554464      28.458851   \n",
            "\n",
            "    BestGroup Size  \n",
            "0                7  \n",
            "1                6  \n",
            "2                8  \n",
            "3                6  \n",
            "4                7  \n",
            "..             ...  \n",
            "95               6  \n",
            "96               5  \n",
            "97               3  \n",
            "98               7  \n",
            "99               3  \n",
            "\n",
            "[100 rows x 7 columns]\n"
          ]
        }
      ],
      "source": [
        "import pandas as pd\n",
        "\n",
        "# بارگذاری فایل\n",
        "data = pd.read_csv('bodyfat.csv')\n",
        "\n",
        "\n",
        "# جدا کردن ویژگی‌ها و برچسب‌ها\n",
        "X = data.drop('Pct.BF', axis=1)\n",
        "y= data['Pct.BF']\n",
        "\n",
        "\n",
        "print(X.shape)\n",
        "\n",
        "\n",
        "df_results = knn_auto_evaluator_from_xy(X, y)\n",
        "print(df_results)\n",
        "\n",
        "results.append({'name': 'Bodyfat', 'type': 'regression', 'table': df_results})"
      ]
    },
    {
      "cell_type": "code",
      "execution_count": null,
      "metadata": {
        "colab": {
          "base_uri": "https://localhost:8080/"
        },
        "id": "HWVAXcQb1sPd",
        "outputId": "b15cdeea-f775-4af0-90f1-535ebf005054"
      },
      "outputs": [
        {
          "name": "stdout",
          "output_type": "stream",
          "text": [
            "(200, 3)\n",
            "    Test Size  Repeat    All_R2   All_MSE  BestGroup_R2  BestGroup_MSE  \\\n",
            "0        0.10       1  0.914370  2.634060      0.957630       1.303340   \n",
            "1        0.10       2  0.930709  2.666880      0.937787       2.394460   \n",
            "2        0.10       3  0.926909  1.908440      0.956694       1.130740   \n",
            "3        0.10       4  0.884607  2.480520      0.952983       1.010680   \n",
            "4        0.10       5  0.844926  3.043920      0.946899       1.042320   \n",
            "..        ...     ...       ...       ...           ...            ...   \n",
            "95       0.25      16  0.898815  2.737536      0.934784       1.764392   \n",
            "96       0.25      17  0.917961  2.512840      0.962533       1.147608   \n",
            "97       0.25      18  0.842689  4.116392      0.914633       2.233808   \n",
            "98       0.25      19  0.946872  1.421024      0.966895       0.885464   \n",
            "99       0.25      20  0.925384  2.280056      0.971703       0.864680   \n",
            "\n",
            "    BestGroup Size  \n",
            "0                2  \n",
            "1                2  \n",
            "2                2  \n",
            "3                2  \n",
            "4                2  \n",
            "..             ...  \n",
            "95               2  \n",
            "96               2  \n",
            "97               2  \n",
            "98               2  \n",
            "99               2  \n",
            "\n",
            "[100 rows x 7 columns]\n"
          ]
        }
      ],
      "source": [
        "import pandas as pd\n",
        "\n",
        "# بارگذاری فایل\n",
        "data = pd.read_csv('advertising.csv')\n",
        "\n",
        "\n",
        "\n",
        "# جدا کردن ویژگی‌ها و برچسب‌ها\n",
        "X = data.drop('sales', axis=1)\n",
        "y= data['sales']\n",
        "\n",
        "print(X.shape)\n",
        "\n",
        "df_results = knn_auto_evaluator_from_xy(X, y)\n",
        "print(df_results)\n",
        "\n",
        "results.append({'name': 'Advertising', 'type': 'regression', 'table': df_results})"
      ]
    },
    {
      "cell_type": "code",
      "execution_count": null,
      "metadata": {
        "colab": {
          "base_uri": "https://localhost:8080/"
        },
        "id": "eks7hrKw2YXc",
        "outputId": "d175b449-66c3-4af3-d2f7-d2c382e9105a"
      },
      "outputs": [
        {
          "name": "stdout",
          "output_type": "stream",
          "text": [
            "(506, 13)\n",
            "    Test Size  Repeat    All_R2    All_MSE  BestGroup_R2  BestGroup_MSE  \\\n",
            "0        0.10       1  0.554713  40.346408      0.658481      30.944220   \n",
            "1        0.10       2  0.471320  31.458329      0.784518      12.821961   \n",
            "2        0.10       3  0.599887  37.111780      0.773419      21.016157   \n",
            "3        0.10       4  0.416010  52.796204      0.874818      11.317208   \n",
            "4        0.10       5  0.664370  32.808400      0.870985      12.611412   \n",
            "..        ...     ...       ...        ...           ...            ...   \n",
            "95       0.25      16  0.422403  43.199291      0.827206      12.923546   \n",
            "96       0.25      17  0.575663  44.787874      0.724967      29.029162   \n",
            "97       0.25      18  0.477836  47.456302      0.664525      30.489276   \n",
            "98       0.25      19  0.407476  60.848082      0.748888      25.787455   \n",
            "99       0.25      20  0.474259  41.126293      0.794722      16.057950   \n",
            "\n",
            "    BestGroup Size  \n",
            "0                4  \n",
            "1                5  \n",
            "2                4  \n",
            "3                4  \n",
            "4                7  \n",
            "..             ...  \n",
            "95               4  \n",
            "96               5  \n",
            "97               4  \n",
            "98               5  \n",
            "99               5  \n",
            "\n",
            "[100 rows x 7 columns]\n"
          ]
        }
      ],
      "source": [
        "import pandas as pd\n",
        "\n",
        "# بارگذاری فایل\n",
        "data = pd.read_csv('BostonHousing.csv')\n",
        "\n",
        "\n",
        "\n",
        "# جدا کردن ویژگی‌ها و برچسب‌ها\n",
        "X = data.drop('medv', axis=1)\n",
        "y= data['medv']\n",
        "\n",
        "print(X.shape)\n",
        "\n",
        "df_results = knn_auto_evaluator_from_xy(X, y)\n",
        "print(df_results)\n",
        "results.append({'name': 'BostonHousing', 'type': 'regression', 'table': df_results})"
      ]
    },
    {
      "cell_type": "code",
      "execution_count": null,
      "metadata": {
        "colab": {
          "base_uri": "https://localhost:8080/"
        },
        "id": "SAPjw0uj2y3T",
        "outputId": "96b42b3d-62b5-4639-f447-b450a848195d"
      },
      "outputs": [
        {
          "name": "stdout",
          "output_type": "stream",
          "text": [
            "(50, 5)\n",
            "    Test Size  Repeat    All_R2   All_MSE  BestGroup_R2  BestGroup_MSE  \\\n",
            "0        0.10       1 -0.392690  2.381500      0.959357       0.069500   \n",
            "1        0.10       2  0.117323  0.560500      0.925984       0.047000   \n",
            "2        0.10       3 -1.144186  0.461000      0.846512       0.033000   \n",
            "3        0.10       4 -0.076582  0.850500      0.996835       0.002500   \n",
            "4        0.10       5  0.190000  0.243000      0.831667       0.050500   \n",
            "..        ...     ...       ...       ...           ...            ...   \n",
            "95       0.25      16 -0.055835  1.436154      0.853812       0.198846   \n",
            "96       0.25      17 -0.137970  2.271731      0.945572       0.108654   \n",
            "97       0.25      18  0.179133  0.714615      0.915395       0.073654   \n",
            "98       0.25      19 -0.238179  2.172308      0.932369       0.118654   \n",
            "99       0.25      20  0.047668  0.975577      0.906137       0.096154   \n",
            "\n",
            "    BestGroup Size  \n",
            "0                2  \n",
            "1                2  \n",
            "2                2  \n",
            "3                2  \n",
            "4                2  \n",
            "..             ...  \n",
            "95               2  \n",
            "96               2  \n",
            "97               2  \n",
            "98               2  \n",
            "99               2  \n",
            "\n",
            "[100 rows x 7 columns]\n"
          ]
        }
      ],
      "source": [
        "import pandas as pd\n",
        "\n",
        "# بارگذاری فایل\n",
        "data = pd.read_csv('cookie_recipes.csv')\n",
        "\n",
        "\n",
        "# جدا کردن ویژگی‌ها و برچسب‌ها\n",
        "X = data.drop('rating', axis=1)\n",
        "y= data['rating']\n",
        "\n",
        "print(X.shape)\n",
        "\n",
        "df_results = knn_auto_evaluator_from_xy(X, y)\n",
        "print(df_results)\n",
        "\n",
        "results.append({'name': 'Cookie_Recipes', 'type': 'regression', 'table': df_results})"
      ]
    },
    {
      "cell_type": "code",
      "execution_count": null,
      "metadata": {
        "colab": {
          "base_uri": "https://localhost:8080/"
        },
        "id": "3N879vAh3RhL",
        "outputId": "aa677e32-876a-4880-ba96-1e764d987e99"
      },
      "outputs": [
        {
          "name": "stdout",
          "output_type": "stream",
          "text": [
            "(20640, 8)\n",
            "    Test Size  Repeat    All_R2   All_MSE  BestGroup_R2  BestGroup_MSE  \\\n",
            "0        0.10       1  0.163020  1.095677      0.743952       0.335188   \n",
            "1        0.10       2  0.171633  1.028354      0.757905       0.300542   \n",
            "2        0.10       3  0.135847  1.126090      0.778945       0.288060   \n",
            "3        0.10       4  0.167912  1.122969      0.762963       0.319900   \n",
            "4        0.10       5  0.149857  1.120573      0.749294       0.330455   \n",
            "..        ...     ...       ...       ...           ...            ...   \n",
            "95       0.25      16  0.116332  1.155728      0.758040       0.316454   \n",
            "96       0.25      17  0.168299  1.111167      0.762850       0.316837   \n",
            "97       0.25      18  0.141340  1.122581      0.752954       0.322978   \n",
            "98       0.25      19  0.151238  1.125774      0.742814       0.341124   \n",
            "99       0.25      20  0.150537  1.157078      0.752526       0.337092   \n",
            "\n",
            "    BestGroup Size  \n",
            "0                6  \n",
            "1                6  \n",
            "2                6  \n",
            "3                6  \n",
            "4                6  \n",
            "..             ...  \n",
            "95               6  \n",
            "96               6  \n",
            "97               6  \n",
            "98               6  \n",
            "99               6  \n",
            "\n",
            "[100 rows x 7 columns]\n"
          ]
        }
      ],
      "source": [
        "from sklearn.datasets import fetch_california_housing\n",
        "import pandas as pd\n",
        "\n",
        "\n",
        "# بارگذاری داده‌های قیمت خانه‌های کالیفرنیا\n",
        "data =  fetch_california_housing()\n",
        "X = pd.DataFrame(data.data, columns=data.feature_names)\n",
        "y= data.target\n",
        "\n",
        "print(X.shape)\n",
        "\n",
        "X = pd.DataFrame(data.data, columns=data.feature_names)\n",
        "y = pd.Series(data.target)\n",
        "\n",
        "df_results = knn_auto_evaluator_from_xy(X, y)\n",
        "print(df_results)\n",
        "\n",
        "results.append({'name': 'California_Housing', 'type': 'regression', 'table': df_results})"
      ]
    },
    {
      "cell_type": "code",
      "execution_count": null,
      "metadata": {
        "colab": {
          "base_uri": "https://localhost:8080/"
        },
        "id": "BPKuFMadwBoP",
        "outputId": "2f7b63e0-ada3-42ad-b845-20992dde5c42"
      },
      "outputs": [
        {
          "name": "stdout",
          "output_type": "stream",
          "text": [
            "    Test Size  Repeat  All_Accuracy  BestGroup_Accuracy  BestGroup Size\n",
            "0        0.10       1      0.777778            1.000000               2\n",
            "1        0.10       2      0.666667            0.888889               3\n",
            "2        0.10       3      0.888889            0.833333               1\n",
            "3        0.10       4      0.666667            0.888889               3\n",
            "4        0.10       5      0.500000            0.722222               1\n",
            "..        ...     ...           ...                 ...             ...\n",
            "95       0.25      16      0.711111            0.955556               2\n",
            "96       0.25      17      0.733333            0.933333               5\n",
            "97       0.25      18      0.644444            0.844444               2\n",
            "98       0.25      19      0.666667            0.733333               1\n",
            "99       0.25      20      0.666667            0.800000               2\n",
            "\n",
            "[100 rows x 5 columns]\n"
          ]
        }
      ],
      "source": [
        "from sklearn.datasets import load_wine\n",
        "data = load_wine(as_frame=True)\n",
        "X = data.data\n",
        "y = data.target\n",
        "\n",
        "df_results = knn_auto_evaluator_from_xy(X, y)\n",
        "print(df_results)\n",
        "\n",
        "results.append({'name': 'wine', 'type': 'classification', 'table': df_results})"
      ]
    },
    {
      "cell_type": "code",
      "execution_count": null,
      "metadata": {
        "colab": {
          "background_save": true,
          "base_uri": "https://localhost:8080/"
        },
        "id": "K3LLeip6tPNz",
        "outputId": "330328d8-cae1-4a7f-cfe6-2b3eca74611a"
      },
      "outputs": [
        {
          "metadata": {
            "tags": null
          },
          "name": "stdout",
          "output_type": "stream",
          "text": [
            "(57580, 54)\n"
          ]
        }
      ],
      "source": [
        "import openml\n",
        "import pandas as pd\n",
        "\n",
        "# دانلود دیتاست\n",
        "dataset = openml.datasets.get_dataset(43977)\n",
        "data, y_data, _, _ = dataset.get_data(target=dataset.default_target_attribute)\n",
        "\n",
        "# افزودن ستون هدف به دیتافریم کامل\n",
        "data['rating'] = y_data  # فرض بر این است که ستون هدف، rating است\n",
        "\n",
        "# جدا کردن ویژگی‌ها و برچسب‌ها\n",
        "X = data.drop('rating', axis=1)\n",
        "y = data['rating']\n",
        "\n",
        "print(X.shape)\n",
        "\n",
        "df_results = knn_auto_evaluator_from_xy(X, y)\n",
        "print(df_results)\n",
        "\n",
        "results.append({'name': 'Jannis(43977)', 'type': 'classification', 'table': df_results})"
      ]
    },
    {
      "cell_type": "code",
      "execution_count": null,
      "metadata": {
        "colab": {
          "base_uri": "https://localhost:8080/"
        },
        "id": "hn6r6r50ztsy",
        "outputId": "5976355c-0a82-4923-f891-8f6c101a6dfc"
      },
      "outputs": [
        {
          "name": "stdout",
          "output_type": "stream",
          "text": [
            "(2148, 17)\n",
            "    Test Size  Repeat  All_Accuracy  BestGroup_Accuracy  BestGroup Size\n",
            "0        0.10       1      0.790698            0.823256               2\n",
            "1        0.10       2      0.800000            0.865116               5\n",
            "2        0.10       3      0.725581            0.837209               4\n",
            "3        0.10       4      0.706977            0.837209               6\n",
            "4        0.10       5      0.800000            0.888372               7\n",
            "..        ...     ...           ...                 ...             ...\n",
            "95       0.25      16      0.739292            0.841713               5\n",
            "96       0.25      17      0.756052            0.826816               3\n",
            "97       0.25      18      0.728119            0.811918               2\n",
            "98       0.25      19      0.729981            0.821229               4\n",
            "99       0.25      20      0.765363            0.834264               4\n",
            "\n",
            "[100 rows x 5 columns]\n"
          ]
        }
      ],
      "source": [
        "import pandas as pd\n",
        "\n",
        "# بارگذاری فایل اکسل\n",
        "data = pd.read_excel('Pistachio.xlsx')\n",
        "# حذف سطرهای حاوی NaN\n",
        "data = data.dropna()\n",
        "\n",
        "\n",
        "# جدا کردن ویژگی‌ها و برچسب‌ها\n",
        "X = data.drop('Class', axis=1)\n",
        "y = data['Class']\n",
        "\n",
        "print(data.shape)\n",
        "\n",
        "\n",
        "df_results = knn_auto_evaluator_from_xy(X, y)\n",
        "print(df_results)\n",
        "\n",
        "results.append({'name': 'Pistachio', 'type': 'classification', 'table': df_results})"
      ]
    },
    {
      "cell_type": "code",
      "execution_count": null,
      "metadata": {
        "colab": {
          "base_uri": "https://localhost:8080/"
        },
        "id": "5Reb_-BTCJjO",
        "outputId": "fe5080a0-9698-4ab4-c4be-3b03e5bd7950"
      },
      "outputs": [
        {
          "name": "stdout",
          "output_type": "stream",
          "text": [
            "(13376, 10)\n",
            "قبل از حذف NaN و ستون: (13376, 11)\n",
            "Index(['fLength:', 'fWidth:', 'fSize:', 'fConc:', 'fConc1:', 'fAsym:',\n",
            "       'fM3Long:', 'fM3Trans:', 'fAlpha:', 'fDist:', 'rating'],\n",
            "      dtype='object')\n",
            "   fLength:  fWidth:  fSize:  fConc:  fConc1:   fAsym:  fM3Long:  fM3Trans:  \\\n",
            "0   69.2979  26.8809  3.1930  0.2065   0.1074  39.6296   44.3457   -23.0604   \n",
            "1   24.5939  10.1418  2.5676  0.5007   0.2693  -8.4503   15.2452    -7.0283   \n",
            "2   55.4800  27.1606  3.1826  0.2299   0.1225  43.1016   54.2556    13.7406   \n",
            "3   12.6594  11.7413  2.1351  0.7033   0.3846 -15.8596    9.4522    -8.7126   \n",
            "4   38.6204  20.5632  2.9770  0.2478   0.1270 -13.8229  -31.3983   -13.1337   \n",
            "\n",
            "   fAlpha:   fDist: rating  \n",
            "0   9.3234  248.750      g  \n",
            "1  17.0056  173.288      g  \n",
            "2  32.2220  262.181      g  \n",
            "3  43.5434  227.711      g  \n",
            "4   5.8671  192.467      g  \n",
            "بعد از حذف: (13376, 11)\n",
            "(13376, 10)\n",
            "    Test Size  Repeat  All_Accuracy  BestGroup_Accuracy  BestGroup Size\n",
            "0        0.10       1      0.765321            0.769806               4\n",
            "1        0.10       2      0.763827            0.790732               4\n",
            "2        0.10       3      0.782511            0.793722               5\n",
            "3        0.10       4      0.760837            0.789238               4\n",
            "4        0.10       5      0.772048            0.765321               4\n",
            "..        ...     ...           ...                 ...             ...\n",
            "95       0.25      16      0.771232            0.784689               4\n",
            "96       0.25      17      0.784390            0.798744               4\n",
            "97       0.25      18      0.754486            0.777811               5\n",
            "98       0.25      19      0.779007            0.798445               4\n",
            "99       0.25      20      0.773923            0.786782               4\n",
            "\n",
            "[100 rows x 5 columns]\n"
          ]
        }
      ],
      "source": [
        "#\n",
        "import openml\n",
        "import pandas as pd\n",
        "\n",
        "# دانلود دیتاست\n",
        "dataset = openml.datasets.get_dataset(43971)\n",
        "data, y_data, _, _ = dataset.get_data(target=dataset.default_target_attribute)\n",
        "print(data.shape)\n",
        "# افزودن ستون هدف به دیتافریم کامل\n",
        "data['rating'] = y_data  # فرض بر این است که ستون هدف، rating است\n",
        "\n",
        "\n",
        "# جدا کردن ویژگی‌ها و برچسب‌ها\n",
        "X= data.drop('rating', axis=1)\n",
        "y= data['rating']\n",
        "\n",
        "print(X.shape)\n",
        "\n",
        "\n",
        "df_results = knn_auto_evaluator_from_xy(X, y)\n",
        "print(df_results)\n",
        "\n",
        "results.append({'name': 'MagicTelescope(43971)', 'type': 'classification', 'table': df_results})"
      ]
    },
    {
      "cell_type": "code",
      "execution_count": null,
      "metadata": {
        "id": "TP2eEQxKKU0g"
      },
      "outputs": [],
      "source": [
        "\n",
        "import openml\n",
        "import pandas as pd\n",
        "\n",
        "dataset = openml.datasets.get_dataset(1046)\n",
        "data, y_data, _, _ = dataset.get_data(target=dataset.default_target_attribute)\n",
        "\n",
        "# 🔧 افزودن target به dataframe کامل (مثل خواندن فایل CSV)\n",
        "data['rating'] = y_data  # فرض می‌گیریم نام ستون هدف \"rating\" باشه برای یکسان بودن با مثال شما\n",
        "\n",
        "print(data.shape)\n",
        "# حذف سطرهای حاوی NaN\n",
        "data = data.dropna()\n",
        "\n",
        "print(data.shape)\n",
        "\n",
        "# 🎯 جدا کردن ویژگی‌ها و برچسب‌ها (مطابق ساختار شما)\n",
        "X = data.drop('rating', axis=1)\n",
        "y = data['rating']\n",
        "data_features = X.columns\n",
        "\n",
        "\n",
        "df_results = knn_auto_evaluator_from_xy(X, y)\n",
        "print(df_results)\n",
        "\n",
        "results.append({'name': 'Hill_Valley_with_Noise(1046)', 'type': 'classification', 'table': df_results})"
      ]
    },
    {
      "cell_type": "code",
      "execution_count": null,
      "metadata": {
        "id": "Mr5KtLmsMBBP"
      },
      "outputs": [],
      "source": [
        "# Climate Model Simulation\n",
        "# شبیه‌سازی آب‌وهوا (دوتایی)\n",
        "import openml\n",
        "import pandas as pd\n",
        "\n",
        "dataset = openml.datasets.get_dataset(40966)\n",
        "data, y_data, _, _ = dataset.get_data(target=dataset.default_target_attribute)\n",
        "\n",
        "# 🔧 افزودن target به dataframe کامل (مثل خواندن فایل CSV)\n",
        "data['rating'] = y_data  # فرض می‌گیریم نام ستون هدف \"rating\" باشه برای یکسان بودن با مثال شما\n",
        "\n",
        "print(data.shape)\n",
        "# حذف سطرهای حاوی NaN\n",
        "data = data.dropna()\n",
        "\n",
        "\n",
        "print(data.shape)\n",
        "\n",
        "# 🎯 جدا کردن ویژگی‌ها و برچسب‌ها (مطابق ساختار شما)\n",
        "X = data.drop('rating', axis=1)\n",
        "y = data['rating']\n",
        "\n",
        "\n",
        "df_results = knn_auto_evaluator_from_xy(X, y)\n",
        "print(df_results)\n",
        "\n",
        "results.append({'name': 'Climate Model Simulation', 'type': 'classification', 'table': df_results})"
      ]
    },
    {
      "cell_type": "code",
      "execution_count": null,
      "metadata": {
        "id": "3uZHR-wuCmea"
      },
      "outputs": [],
      "source": [
        "import pandas as pd\n",
        "\n",
        "def summarize_max_diff_results(dataset_tables):\n",
        "    \"\"\"\n",
        "    dataset_tables: لیستی از دیکشنری‌ها به شکل زیر:\n",
        "    [\n",
        "        {'name': 'Diabetes', 'type': 'regression', 'table': df1},\n",
        "        {'name': 'Wine', 'type': 'classification', 'table': df2},\n",
        "        ...\n",
        "    ]\n",
        "\n",
        "    خروجی: DataFrame خلاصه از بیشترین اختلاف برای هر دیتاست\n",
        "    \"\"\"\n",
        "    summary_rows = []\n",
        "\n",
        "    for item in dataset_tables:\n",
        "        name = item['name']\n",
        "        dtype = item['type']\n",
        "        df = item['table']\n",
        "\n",
        "        if dtype == 'regression':\n",
        "            # محاسبه بیشترین اختلاف MSE\n",
        "            df['MSE_Diff'] = df['All_MSE'] - df['BestGroup_MSE']\n",
        "            best_row = df.loc[df['MSE_Diff'].idxmax()]\n",
        "            summary_rows.append({\n",
        "                'Dataset': name,\n",
        "                'Type': dtype,\n",
        "                'All_Accuracy': None,\n",
        "                'BestGroup_Accuracy': None,\n",
        "                'All_R2': best_row['All_R2'],\n",
        "                'BestGroup_R2': best_row['BestGroup_R2'],\n",
        "                'All_MSE': best_row['All_MSE'],\n",
        "                'BestGroup_MSE': best_row['BestGroup_MSE']\n",
        "            })\n",
        "\n",
        "        elif dtype == 'classification':\n",
        "            # محاسبه بیشترین اختلاف دقت\n",
        "            df['Accuracy_Diff'] = df['BestGroup_Accuracy'] - df['All_Accuracy']\n",
        "            best_row = df.loc[df['Accuracy_Diff'].idxmax()]\n",
        "            summary_rows.append({\n",
        "                'Dataset': name,\n",
        "                'Type': dtype,\n",
        "                'All_Accuracy': best_row['All_Accuracy'],\n",
        "                'BestGroup_Accuracy': best_row['BestGroup_Accuracy'],\n",
        "                'All_R2': None,\n",
        "                'BestGroup_R2': None,\n",
        "                'All_MSE': None,\n",
        "                'BestGroup_MSE': None\n",
        "            })\n",
        "\n",
        "    return pd.DataFrame(summary_rows)\n"
      ]
    },
    {
      "cell_type": "code",
      "execution_count": null,
      "metadata": {
        "id": "8OILSpVpCpK-"
      },
      "outputs": [],
      "source": [
        "results = [\n",
        "    {'name': 'Diabetes', 'type': 'regression', 'table': df_diabetes},\n",
        "    {'name': 'BodyFat', 'type': 'regression', 'table': df_bodyfat},\n",
        "    {'name': 'Wine', 'type': 'classification', 'table': df_wine},\n",
        "    {'name': 'Cancer', 'type': 'classification', 'table': df_cancer},\n",
        "]\n",
        "\n",
        "summary = summarize_max_diff_results(results)\n",
        "print(summary)\n"
      ]
    }
  ],
  "metadata": {
    "colab": {
      "provenance": [],
      "authorship_tag": "ABX9TyNDaBQ2Fhf9feqLSORzg9zA",
      "include_colab_link": true
    },
    "kernelspec": {
      "display_name": "Python 3",
      "name": "python3"
    },
    "language_info": {
      "name": "python"
    }
  },
  "nbformat": 4,
  "nbformat_minor": 0
}