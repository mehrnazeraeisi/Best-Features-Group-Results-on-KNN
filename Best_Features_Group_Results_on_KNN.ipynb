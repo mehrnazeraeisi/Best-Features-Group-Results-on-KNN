{
  "cells": [
    {
      "cell_type": "markdown",
      "metadata": {
        "id": "view-in-github",
        "colab_type": "text"
      },
      "source": [
        "<a href=\"https://colab.research.google.com/github/mehrnazeraeisi/Best-Features-Group-Results-on-KNN/blob/main/Best_Features_Group_Results_on_KNN.ipynb\" target=\"_parent\"><img src=\"https://colab.research.google.com/assets/colab-badge.svg\" alt=\"Open In Colab\"/></a>"
      ]
    },
    {
      "cell_type": "code",
      "execution_count": 1,
      "metadata": {
        "id": "X9QOsMKlug0B"
      },
      "outputs": [],
      "source": [
        "def knn_auto_evaluator_from_xy(X_data, y_data, test_sizes=[0.1, 0.13, 0.16 , 0.19, 0.25], n_repeats=20):\n",
        "    import numpy as np\n",
        "    import pandas as pd\n",
        "    from sklearn.model_selection import train_test_split\n",
        "    from sklearn.neighbors import KNeighborsRegressor, KNeighborsClassifier\n",
        "    from sklearn.metrics import r2_score, mean_squared_error, accuracy_score\n",
        "    import warnings\n",
        "    warnings.filterwarnings(\"ignore\")\n",
        "\n",
        "    # تشخیص نوع تارگت\n",
        "    if pd.api.types.is_numeric_dtype(y_data):\n",
        "        target_type = 'regression' if len(np.unique(y_data)) > 10 else 'classification'\n",
        "    else:\n",
        "        target_type = 'classification'\n",
        "\n",
        "    feature_names = X_data.columns.tolist()\n",
        "    results = []\n",
        "\n",
        "    for ts in test_sizes:\n",
        "        for repeat in range(1, n_repeats+1):\n",
        "            X_train, X_test, y_train, y_test = train_test_split(X_data, y_data, test_size=ts)\n",
        "\n",
        "            scores = []\n",
        "            for feature in feature_names:\n",
        "                model = KNeighborsRegressor() if target_type == 'regression' else KNeighborsClassifier()\n",
        "                model.fit(X_train[[feature]], y_train)\n",
        "                y_pred = model.predict(X_train[[feature]])\n",
        "                score = r2_score(y_train, y_pred) if target_type == 'regression' else accuracy_score(y_train, y_pred)\n",
        "                scores.append((feature, score))\n",
        "\n",
        "            df_scores = pd.DataFrame(scores, columns=['Feature', 'Score']).sort_values(by='Score', ascending=False)\n",
        "\n",
        "            best_score = -np.inf\n",
        "            best_group = []\n",
        "            for k in range(1, len(df_scores)+1):\n",
        "                group = df_scores['Feature'][:k].tolist()\n",
        "                model = KNeighborsRegressor() if target_type == 'regression' else KNeighborsClassifier()\n",
        "                model.fit(X_train[group], y_train)\n",
        "                y_pred = model.predict(X_train[group])\n",
        "                score = r2_score(y_train, y_pred) if target_type == 'regression' else accuracy_score(y_train, y_pred)\n",
        "                if score > best_score:\n",
        "                    best_score = score\n",
        "                    best_group = group\n",
        "\n",
        "            model_all = KNeighborsRegressor() if target_type == 'regression' else KNeighborsClassifier()\n",
        "            model_best = KNeighborsRegressor() if target_type == 'regression' else KNeighborsClassifier()\n",
        "            model_all.fit(X_train, y_train)\n",
        "            model_best.fit(X_train[best_group], y_train)\n",
        "            y_pred_all = model_all.predict(X_test)\n",
        "            y_pred_best = model_best.predict(X_test[best_group])\n",
        "\n",
        "            if target_type == 'regression':\n",
        "                result_row = {\n",
        "                    'Test Size': ts,\n",
        "                    'Repeat': repeat,\n",
        "                    'All_R2': r2_score(y_test, y_pred_all),\n",
        "                    'All_MSE': mean_squared_error(y_test, y_pred_all),\n",
        "                    'BestGroup_R2': r2_score(y_test, y_pred_best),\n",
        "                    'BestGroup_MSE': mean_squared_error(y_test, y_pred_best),\n",
        "\n",
        "                }\n",
        "                column_order = ['Test Size', 'Repeat', 'All_R2', 'All_MSE', 'BestGroup_R2', 'BestGroup_MSE']\n",
        "            else:\n",
        "                result_row = {\n",
        "                    'Test Size': ts,\n",
        "                    'Repeat': repeat,\n",
        "                    'All_Accuracy': accuracy_score(y_test, y_pred_all),\n",
        "                    'BestGroup_Accuracy': accuracy_score(y_test, y_pred_best),\n",
        "\n",
        "                }\n",
        "                column_order = ['Test Size', 'Repeat', 'All_Accuracy', 'BestGroup_Accuracy']\n",
        "\n",
        "            results.append(result_row)\n",
        "\n",
        "    # ساخت DataFrame نهایی با ترتیب دقیق ستون‌ها\n",
        "    return pd.DataFrame(results)[column_order]\n"
      ]
    },
    {
      "cell_type": "code",
      "execution_count": 2,
      "metadata": {
        "colab": {
          "base_uri": "https://localhost:8080/"
        },
        "id": "vbTlItGrDze8",
        "outputId": "f1073d03-afe7-4173-bbce-f35f00b076e6"
      },
      "outputs": [
        {
          "output_type": "stream",
          "name": "stdout",
          "text": [
            "Collecting openml\n",
            "  Downloading openml-0.15.1-py3-none-any.whl.metadata (10 kB)\n",
            "Collecting liac-arff>=2.4.0 (from openml)\n",
            "  Downloading liac-arff-2.5.0.tar.gz (13 kB)\n",
            "  Preparing metadata (setup.py) ... \u001b[?25l\u001b[?25hdone\n",
            "Collecting xmltodict (from openml)\n",
            "  Downloading xmltodict-0.14.2-py2.py3-none-any.whl.metadata (8.0 kB)\n",
            "Requirement already satisfied: requests in /usr/local/lib/python3.11/dist-packages (from openml) (2.32.3)\n",
            "Requirement already satisfied: scikit-learn>=0.18 in /usr/local/lib/python3.11/dist-packages (from openml) (1.6.1)\n",
            "Requirement already satisfied: python-dateutil in /usr/local/lib/python3.11/dist-packages (from openml) (2.9.0.post0)\n",
            "Requirement already satisfied: pandas>=1.0.0 in /usr/local/lib/python3.11/dist-packages (from openml) (2.2.2)\n",
            "Requirement already satisfied: scipy>=0.13.3 in /usr/local/lib/python3.11/dist-packages (from openml) (1.15.3)\n",
            "Requirement already satisfied: numpy>=1.6.2 in /usr/local/lib/python3.11/dist-packages (from openml) (2.0.2)\n",
            "Collecting minio (from openml)\n",
            "  Downloading minio-7.2.15-py3-none-any.whl.metadata (6.7 kB)\n",
            "Requirement already satisfied: pyarrow in /usr/local/lib/python3.11/dist-packages (from openml) (18.1.0)\n",
            "Requirement already satisfied: tqdm in /usr/local/lib/python3.11/dist-packages (from openml) (4.67.1)\n",
            "Requirement already satisfied: packaging in /usr/local/lib/python3.11/dist-packages (from openml) (24.2)\n",
            "Requirement already satisfied: pytz>=2020.1 in /usr/local/lib/python3.11/dist-packages (from pandas>=1.0.0->openml) (2025.2)\n",
            "Requirement already satisfied: tzdata>=2022.7 in /usr/local/lib/python3.11/dist-packages (from pandas>=1.0.0->openml) (2025.2)\n",
            "Requirement already satisfied: six>=1.5 in /usr/local/lib/python3.11/dist-packages (from python-dateutil->openml) (1.17.0)\n",
            "Requirement already satisfied: joblib>=1.2.0 in /usr/local/lib/python3.11/dist-packages (from scikit-learn>=0.18->openml) (1.5.0)\n",
            "Requirement already satisfied: threadpoolctl>=3.1.0 in /usr/local/lib/python3.11/dist-packages (from scikit-learn>=0.18->openml) (3.6.0)\n",
            "Requirement already satisfied: certifi in /usr/local/lib/python3.11/dist-packages (from minio->openml) (2025.4.26)\n",
            "Requirement already satisfied: urllib3 in /usr/local/lib/python3.11/dist-packages (from minio->openml) (2.4.0)\n",
            "Requirement already satisfied: argon2-cffi in /usr/local/lib/python3.11/dist-packages (from minio->openml) (23.1.0)\n",
            "Collecting pycryptodome (from minio->openml)\n",
            "  Downloading pycryptodome-3.23.0-cp37-abi3-manylinux_2_17_x86_64.manylinux2014_x86_64.whl.metadata (3.4 kB)\n",
            "Requirement already satisfied: typing-extensions in /usr/local/lib/python3.11/dist-packages (from minio->openml) (4.13.2)\n",
            "Requirement already satisfied: charset-normalizer<4,>=2 in /usr/local/lib/python3.11/dist-packages (from requests->openml) (3.4.2)\n",
            "Requirement already satisfied: idna<4,>=2.5 in /usr/local/lib/python3.11/dist-packages (from requests->openml) (3.10)\n",
            "Requirement already satisfied: argon2-cffi-bindings in /usr/local/lib/python3.11/dist-packages (from argon2-cffi->minio->openml) (21.2.0)\n",
            "Requirement already satisfied: cffi>=1.0.1 in /usr/local/lib/python3.11/dist-packages (from argon2-cffi-bindings->argon2-cffi->minio->openml) (1.17.1)\n",
            "Requirement already satisfied: pycparser in /usr/local/lib/python3.11/dist-packages (from cffi>=1.0.1->argon2-cffi-bindings->argon2-cffi->minio->openml) (2.22)\n",
            "Downloading openml-0.15.1-py3-none-any.whl (160 kB)\n",
            "\u001b[2K   \u001b[90m━━━━━━━━━━━━━━━━━━━━━━━━━━━━━━━━━━━━━━━━\u001b[0m \u001b[32m160.4/160.4 kB\u001b[0m \u001b[31m2.6 MB/s\u001b[0m eta \u001b[36m0:00:00\u001b[0m\n",
            "\u001b[?25hDownloading minio-7.2.15-py3-none-any.whl (95 kB)\n",
            "\u001b[2K   \u001b[90m━━━━━━━━━━━━━━━━━━━━━━━━━━━━━━━━━━━━━━━━\u001b[0m \u001b[32m95.1/95.1 kB\u001b[0m \u001b[31m2.9 MB/s\u001b[0m eta \u001b[36m0:00:00\u001b[0m\n",
            "\u001b[?25hDownloading xmltodict-0.14.2-py2.py3-none-any.whl (10.0 kB)\n",
            "Downloading pycryptodome-3.23.0-cp37-abi3-manylinux_2_17_x86_64.manylinux2014_x86_64.whl (2.3 MB)\n",
            "\u001b[2K   \u001b[90m━━━━━━━━━━━━━━━━━━━━━━━━━━━━━━━━━━━━━━━━\u001b[0m \u001b[32m2.3/2.3 MB\u001b[0m \u001b[31m15.3 MB/s\u001b[0m eta \u001b[36m0:00:00\u001b[0m\n",
            "\u001b[?25hBuilding wheels for collected packages: liac-arff\n",
            "  Building wheel for liac-arff (setup.py) ... \u001b[?25l\u001b[?25hdone\n",
            "  Created wheel for liac-arff: filename=liac_arff-2.5.0-py3-none-any.whl size=11717 sha256=f690d6113d7e93e0ec7f468d5d1a4de1cab2fed90481afa4691f96424867c97d\n",
            "  Stored in directory: /root/.cache/pip/wheels/00/23/31/5e562fce1f95aabe57f2a7320d07433ba1cd152bcde2f6a002\n",
            "Successfully built liac-arff\n",
            "Installing collected packages: xmltodict, pycryptodome, liac-arff, minio, openml\n",
            "Successfully installed liac-arff-2.5.0 minio-7.2.15 openml-0.15.1 pycryptodome-3.23.0 xmltodict-0.14.2\n"
          ]
        }
      ],
      "source": [
        "!pip install openml"
      ]
    },
    {
      "cell_type": "code",
      "source": [
        "from google.colab import drive\n",
        "drive.mount('/content/drive')"
      ],
      "metadata": {
        "colab": {
          "base_uri": "https://localhost:8080/"
        },
        "id": "1nPLisq8D0rO",
        "outputId": "d1eaeb93-30ce-478d-e993-a66f688d6e3a"
      },
      "execution_count": 4,
      "outputs": [
        {
          "output_type": "stream",
          "name": "stdout",
          "text": [
            "Mounted at /content/drive\n"
          ]
        }
      ]
    },
    {
      "cell_type": "code",
      "source": [
        "import pandas as pd\n",
        "import os\n",
        "\n",
        "folder_path = '/content/drive/MyDrive/my_csv_files'\n",
        "\n",
        "# لیست تمام فایل‌های CSV و Excel\n",
        "files = os.listdir(folder_path)\n",
        "\n",
        "dataframes = []\n",
        "\n",
        "for file in files:\n",
        "    file_path = os.path.join(folder_path, file)\n",
        "\n",
        "    if file.endswith('.csv'):\n",
        "        df = pd.read_csv(file_path)\n",
        "        print(f\"Loaded CSV: {file}\")\n",
        "\n",
        "    elif file.endswith('.xlsx') or file.endswith('.xls'):\n",
        "        df = pd.read_excel(file_path)\n",
        "        print(f\"Loaded Excel: {file}\")\n",
        "\n",
        "    else:\n",
        "        print(f\"Skipped unsupported file: {file}\")\n",
        "        continue\n",
        "\n",
        "    dataframes.append(df)\n"
      ],
      "metadata": {
        "id": "OdLNxOvS64I4",
        "colab": {
          "base_uri": "https://localhost:8080/"
        },
        "outputId": "3dcc0ff6-453b-4d28-cf72-fe38f1ad9236"
      },
      "execution_count": 5,
      "outputs": [
        {
          "output_type": "stream",
          "name": "stdout",
          "text": [
            "Loaded CSV: advertising.csv\n",
            "Loaded CSV: bodyfat.csv\n",
            "Loaded CSV: cookie_recipes.csv\n",
            "Loaded Excel: Pistachio.xlsx\n",
            "Loaded CSV: BostonHousing.csv\n"
          ]
        }
      ]
    },
    {
      "cell_type": "code",
      "execution_count": 6,
      "metadata": {
        "id": "fGcOX11cJA1K"
      },
      "outputs": [],
      "source": [
        "results = []"
      ]
    },
    {
      "cell_type": "code",
      "execution_count": 7,
      "metadata": {
        "colab": {
          "base_uri": "https://localhost:8080/"
        },
        "id": "df8b2N3bu_wG",
        "outputId": "76c47e4e-6f7f-41c0-c73b-799aa8ae75cb"
      },
      "outputs": [
        {
          "output_type": "stream",
          "name": "stdout",
          "text": [
            "(250, 14)\n",
            "    Test Size  Repeat    All_R2    All_MSE  BestGroup_R2  BestGroup_MSE\n",
            "0        0.10       1  0.419217  29.486432      0.408658      30.022544\n",
            "1        0.10       2  0.110041  41.196352      0.281145      33.275904\n",
            "2        0.10       3  0.584576  26.284272      0.609465      24.709536\n",
            "3        0.10       4  0.540317  34.161632      0.708230      21.683040\n",
            "4        0.10       5  0.498518  29.937648      0.478922      31.107536\n",
            "..        ...     ...       ...        ...           ...            ...\n",
            "95       0.25      16  0.501854  31.450203      0.559539      27.808292\n",
            "96       0.25      17  0.533641  29.547454      0.607994      24.836584\n",
            "97       0.25      18  0.569441  29.288083      0.711113      19.651054\n",
            "98       0.25      19  0.456579  37.367765      0.599993      27.506083\n",
            "99       0.25      20  0.581122  29.877549      0.606551      28.063784\n",
            "\n",
            "[100 rows x 6 columns]\n"
          ]
        }
      ],
      "source": [
        "import pandas as pd\n",
        "\n",
        "\n",
        "# مسیر فایل در گوگل درایو\n",
        "file_path = '/content/drive/MyDrive/my_csv_files/bodyfat.csv'\n",
        "\n",
        "# بارگذاری فایل\n",
        "data = pd.read_csv(file_path)\n",
        "\n",
        "# جدا کردن ویژگی‌ها و برچسب‌ها\n",
        "X = data.drop('Pct.BF', axis=1)\n",
        "y = data['Pct.BF']\n",
        "\n",
        "print(X.shape)\n",
        "\n",
        "\n",
        "df_results = knn_auto_evaluator_from_xy(X, y)\n",
        "print(df_results)\n",
        "\n",
        "results.append({'name': 'Bodyfat', 'type': 'regression', 'table': df_results})"
      ]
    },
    {
      "cell_type": "code",
      "execution_count": 9,
      "metadata": {
        "colab": {
          "base_uri": "https://localhost:8080/"
        },
        "id": "HWVAXcQb1sPd",
        "outputId": "ddacce40-8083-415c-c372-5ec7b93ff286"
      },
      "outputs": [
        {
          "output_type": "stream",
          "name": "stdout",
          "text": [
            "(200, 3)\n",
            "    Test Size  Repeat    All_R2   All_MSE  BestGroup_R2  BestGroup_MSE\n",
            "0        0.10       1  0.963853  0.920060      0.980365       0.499780\n",
            "1        0.10       2  0.911186  2.930440      0.961060       1.284820\n",
            "2        0.10       3  0.888333  1.955000      0.945588       0.952620\n",
            "3        0.10       4  0.918486  1.799300      0.967152       0.725080\n",
            "4        0.10       5  0.857805  4.874300      0.976684       0.799240\n",
            "..        ...     ...       ...       ...           ...            ...\n",
            "95       0.25      16  0.927579  2.045296      0.969825       0.852192\n",
            "96       0.25      17  0.890672  2.751120      0.958717       1.038840\n",
            "97       0.25      18  0.941213  1.438080      0.954808       1.105512\n",
            "98       0.25      19  0.902074  2.697560      0.956414       1.200672\n",
            "99       0.25      20  0.901444  2.126680      0.965186       0.751232\n",
            "\n",
            "[100 rows x 6 columns]\n"
          ]
        }
      ],
      "source": [
        "import pandas as pd\n",
        "\n",
        "# بارگذاری فایل\n",
        "data = pd.read_csv('/content/drive/MyDrive/my_csv_files/advertising.csv')\n",
        "\n",
        "# جدا کردن ویژگی‌ها و برچسب‌ها\n",
        "X = data.drop('sales', axis=1)\n",
        "y= data['sales']\n",
        "\n",
        "print(X.shape)\n",
        "\n",
        "df_results = knn_auto_evaluator_from_xy(X, y)\n",
        "print(df_results)\n",
        "\n",
        "results.append({'name': 'Advertising', 'type': 'regression', 'table': df_results})"
      ]
    },
    {
      "cell_type": "code",
      "execution_count": 10,
      "metadata": {
        "colab": {
          "base_uri": "https://localhost:8080/"
        },
        "id": "eks7hrKw2YXc",
        "outputId": "0bf49e00-c22c-4a3b-ed08-fd1a17baac6c"
      },
      "outputs": [
        {
          "output_type": "stream",
          "name": "stdout",
          "text": [
            "(506, 13)\n",
            "    Test Size  Repeat    All_R2    All_MSE  BestGroup_R2  BestGroup_MSE\n",
            "0        0.10       1  0.423836  46.079231      0.792009      16.634275\n",
            "1        0.10       2  0.593323  26.253176      0.836560      10.550965\n",
            "2        0.10       3  0.361409  60.552392      0.891857      10.254290\n",
            "3        0.10       4  0.642928  31.563843      0.836270      14.473106\n",
            "4        0.10       5  0.502460  57.086337      0.801282      22.800329\n",
            "..        ...     ...       ...        ...           ...            ...\n",
            "95       0.25      16  0.536880  32.279052      0.832627      11.665735\n",
            "96       0.25      17  0.555729  41.893367      0.809430      17.970154\n",
            "97       0.25      18  0.530929  38.339553      0.813719      15.225657\n",
            "98       0.25      19  0.475967  49.620986      0.738532      24.758567\n",
            "99       0.25      20  0.458869  44.220929      0.773410      18.516850\n",
            "\n",
            "[100 rows x 6 columns]\n"
          ]
        }
      ],
      "source": [
        "import pandas as pd\n",
        "\n",
        "# بارگذاری فایل\n",
        "data = pd.read_csv('/content/drive/MyDrive/my_csv_files/BostonHousing.csv')\n",
        "\n",
        "\n",
        "\n",
        "# جدا کردن ویژگی‌ها و برچسب‌ها\n",
        "X = data.drop('medv', axis=1)\n",
        "y= data['medv']\n",
        "\n",
        "print(X.shape)\n",
        "\n",
        "df_results = knn_auto_evaluator_from_xy(X, y)\n",
        "print(df_results)\n",
        "results.append({'name': 'BostonHousing', 'type': 'regression', 'table': df_results})"
      ]
    },
    {
      "cell_type": "code",
      "execution_count": 11,
      "metadata": {
        "colab": {
          "base_uri": "https://localhost:8080/"
        },
        "id": "SAPjw0uj2y3T",
        "outputId": "c050a0cf-8067-4e1c-9238-f1cbe1ee439a"
      },
      "outputs": [
        {
          "output_type": "stream",
          "name": "stdout",
          "text": [
            "(50, 5)\n",
            "    Test Size  Repeat    All_R2   All_MSE  BestGroup_R2  BestGroup_MSE\n",
            "0        0.10       1 -0.721831  1.222500      0.973239       0.019000\n",
            "1        0.10       2  0.424190  1.333000      0.936285       0.147500\n",
            "2        0.10       3  0.497619  0.422000      0.988095       0.010000\n",
            "3        0.10       4  0.241689  1.391500      0.965940       0.062500\n",
            "4        0.10       5 -2.870588  0.329000     -0.088235       0.092500\n",
            "..        ...     ...       ...       ...           ...            ...\n",
            "95       0.25      16 -0.041073  1.305962      0.942512       0.072115\n",
            "96       0.25      17 -0.456259  1.514423      0.826174       0.180769\n",
            "97       0.25      18  0.104751  1.062115      0.937918       0.073654\n",
            "98       0.25      19  0.074099  1.019038      0.853401       0.161346\n",
            "99       0.25      20 -0.298036  1.779038      0.841025       0.217885\n",
            "\n",
            "[100 rows x 6 columns]\n"
          ]
        }
      ],
      "source": [
        "import pandas as pd\n",
        "\n",
        "# بارگذاری فایل\n",
        "data = pd.read_csv('/content/drive/MyDrive/my_csv_files/cookie_recipes.csv')\n",
        "\n",
        "\n",
        "# جدا کردن ویژگی‌ها و برچسب‌ها\n",
        "X = data.drop('rating', axis=1)\n",
        "y= data['rating']\n",
        "\n",
        "print(X.shape)\n",
        "\n",
        "df_results = knn_auto_evaluator_from_xy(X, y)\n",
        "print(df_results)\n",
        "\n",
        "results.append({'name': 'Cookie_Recipes', 'type': 'regression', 'table': df_results})"
      ]
    },
    {
      "cell_type": "code",
      "execution_count": 12,
      "metadata": {
        "colab": {
          "base_uri": "https://localhost:8080/"
        },
        "id": "3N879vAh3RhL",
        "outputId": "2ea8ff06-d7e9-4df1-877b-660c749c0d4a"
      },
      "outputs": [
        {
          "output_type": "stream",
          "name": "stdout",
          "text": [
            "(20640, 8)\n",
            "    Test Size  Repeat    All_R2   All_MSE  BestGroup_R2  BestGroup_MSE\n",
            "0        0.10       1  0.187966  1.064107      0.755844       0.319947\n",
            "1        0.10       2  0.162775  1.078757      0.746426       0.326728\n",
            "2        0.10       3  0.182270  1.069149      0.756413       0.318480\n",
            "3        0.10       4  0.153402  1.096748      0.750532       0.323180\n",
            "4        0.10       5  0.176171  1.083092      0.758227       0.317861\n",
            "..        ...     ...       ...       ...           ...            ...\n",
            "95       0.25      16  0.152718  1.136790      0.762162       0.319105\n",
            "96       0.25      17  0.141095  1.110259      0.762341       0.307209\n",
            "97       0.25      18  0.149980  1.161571      0.751551       0.339511\n",
            "98       0.25      19  0.159897  1.166262      0.755512       0.339408\n",
            "99       0.25      20  0.158440  1.138586      0.741514       0.349719\n",
            "\n",
            "[100 rows x 6 columns]\n"
          ]
        }
      ],
      "source": [
        "from sklearn.datasets import fetch_california_housing\n",
        "import pandas as pd\n",
        "\n",
        "\n",
        "# بارگذاری داده‌های قیمت خانه‌های کالیفرنیا\n",
        "data =  fetch_california_housing()\n",
        "X = pd.DataFrame(data.data, columns=data.feature_names)\n",
        "y= data.target\n",
        "\n",
        "print(X.shape)\n",
        "\n",
        "X = pd.DataFrame(data.data, columns=data.feature_names)\n",
        "y = pd.Series(data.target)\n",
        "\n",
        "df_results = knn_auto_evaluator_from_xy(X, y)\n",
        "print(df_results)\n",
        "\n",
        "results.append({'name': 'California_Housing', 'type': 'regression', 'table': df_results})"
      ]
    },
    {
      "cell_type": "code",
      "execution_count": 13,
      "metadata": {
        "colab": {
          "base_uri": "https://localhost:8080/"
        },
        "id": "BPKuFMadwBoP",
        "outputId": "ffba4ed9-3f14-4873-86a3-b0abf6d18ea3"
      },
      "outputs": [
        {
          "output_type": "stream",
          "name": "stdout",
          "text": [
            "    Test Size  Repeat  All_Accuracy  BestGroup_Accuracy\n",
            "0        0.10       1      0.777778            0.944444\n",
            "1        0.10       2      0.833333            0.888889\n",
            "2        0.10       3      0.666667            0.833333\n",
            "3        0.10       4      0.555556            0.944444\n",
            "4        0.10       5      0.611111            0.666667\n",
            "..        ...     ...           ...                 ...\n",
            "95       0.25      16      0.755556            0.777778\n",
            "96       0.25      17      0.688889            0.866667\n",
            "97       0.25      18      0.733333            0.688889\n",
            "98       0.25      19      0.644444            0.777778\n",
            "99       0.25      20      0.688889            0.933333\n",
            "\n",
            "[100 rows x 4 columns]\n"
          ]
        }
      ],
      "source": [
        "from sklearn.datasets import load_wine\n",
        "data = load_wine(as_frame=True)\n",
        "X = data.data\n",
        "y = data.target\n",
        "\n",
        "df_results = knn_auto_evaluator_from_xy(X, y)\n",
        "print(df_results)\n",
        "\n",
        "results.append({'name': 'wine', 'type': 'classification', 'table': df_results})"
      ]
    },
    {
      "cell_type": "code",
      "execution_count": null,
      "metadata": {
        "colab": {
          "base_uri": "https://localhost:8080/"
        },
        "id": "K3LLeip6tPNz",
        "outputId": "00b66955-711a-486e-8dc8-d8135e204d4d"
      },
      "outputs": [
        {
          "metadata": {
            "tags": null
          },
          "name": "stdout",
          "output_type": "stream",
          "text": [
            "(57580, 54)\n"
          ]
        }
      ],
      "source": [
        "import openml\n",
        "import pandas as pd\n",
        "\n",
        "# دانلود دیتاست\n",
        "dataset = openml.datasets.get_dataset(43977)\n",
        "data, y_data, _, _ = dataset.get_data(target=dataset.default_target_attribute)\n",
        "\n",
        "# افزودن ستون هدف به دیتافریم کامل\n",
        "data['rating'] = y_data  # فرض بر این است که ستون هدف، rating است\n",
        "\n",
        "# جدا کردن ویژگی‌ها و برچسب‌ها\n",
        "X = data.drop('rating', axis=1)\n",
        "y = data['rating']\n",
        "\n",
        "print(X.shape)\n",
        "\n",
        "df_results = knn_auto_evaluator_from_xy(X, y)\n",
        "print(df_results)\n",
        "\n",
        "results.append({'name': 'Jannis(43977)', 'type': 'classification', 'table': df_results})"
      ]
    },
    {
      "cell_type": "code",
      "execution_count": null,
      "metadata": {
        "colab": {
          "base_uri": "https://localhost:8080/"
        },
        "id": "hn6r6r50ztsy",
        "outputId": "5976355c-0a82-4923-f891-8f6c101a6dfc"
      },
      "outputs": [
        {
          "name": "stdout",
          "output_type": "stream",
          "text": [
            "(2148, 17)\n",
            "    Test Size  Repeat  All_Accuracy  BestGroup_Accuracy  BestGroup Size\n",
            "0        0.10       1      0.790698            0.823256               2\n",
            "1        0.10       2      0.800000            0.865116               5\n",
            "2        0.10       3      0.725581            0.837209               4\n",
            "3        0.10       4      0.706977            0.837209               6\n",
            "4        0.10       5      0.800000            0.888372               7\n",
            "..        ...     ...           ...                 ...             ...\n",
            "95       0.25      16      0.739292            0.841713               5\n",
            "96       0.25      17      0.756052            0.826816               3\n",
            "97       0.25      18      0.728119            0.811918               2\n",
            "98       0.25      19      0.729981            0.821229               4\n",
            "99       0.25      20      0.765363            0.834264               4\n",
            "\n",
            "[100 rows x 5 columns]\n"
          ]
        }
      ],
      "source": [
        "import pandas as pd\n",
        "\n",
        "# بارگذاری فایل اکسل\n",
        "data = pd.read_excel('/content/drive/MyDrive/my_csv_files/Pistachio.xlsx')\n",
        "# حذف سطرهای حاوی NaN\n",
        "data = data.dropna()\n",
        "\n",
        "\n",
        "# جدا کردن ویژگی‌ها و برچسب‌ها\n",
        "X = data.drop('Class', axis=1)\n",
        "y = data['Class']\n",
        "\n",
        "print(data.shape)\n",
        "\n",
        "\n",
        "df_results = knn_auto_evaluator_from_xy(X, y)\n",
        "print(df_results)\n",
        "\n",
        "results.append({'name': 'Pistachio', 'type': 'classification', 'table': df_results})"
      ]
    },
    {
      "cell_type": "code",
      "execution_count": null,
      "metadata": {
        "colab": {
          "base_uri": "https://localhost:8080/"
        },
        "id": "5Reb_-BTCJjO",
        "outputId": "fe5080a0-9698-4ab4-c4be-3b03e5bd7950"
      },
      "outputs": [
        {
          "name": "stdout",
          "output_type": "stream",
          "text": [
            "(13376, 10)\n",
            "قبل از حذف NaN و ستون: (13376, 11)\n",
            "Index(['fLength:', 'fWidth:', 'fSize:', 'fConc:', 'fConc1:', 'fAsym:',\n",
            "       'fM3Long:', 'fM3Trans:', 'fAlpha:', 'fDist:', 'rating'],\n",
            "      dtype='object')\n",
            "   fLength:  fWidth:  fSize:  fConc:  fConc1:   fAsym:  fM3Long:  fM3Trans:  \\\n",
            "0   69.2979  26.8809  3.1930  0.2065   0.1074  39.6296   44.3457   -23.0604   \n",
            "1   24.5939  10.1418  2.5676  0.5007   0.2693  -8.4503   15.2452    -7.0283   \n",
            "2   55.4800  27.1606  3.1826  0.2299   0.1225  43.1016   54.2556    13.7406   \n",
            "3   12.6594  11.7413  2.1351  0.7033   0.3846 -15.8596    9.4522    -8.7126   \n",
            "4   38.6204  20.5632  2.9770  0.2478   0.1270 -13.8229  -31.3983   -13.1337   \n",
            "\n",
            "   fAlpha:   fDist: rating  \n",
            "0   9.3234  248.750      g  \n",
            "1  17.0056  173.288      g  \n",
            "2  32.2220  262.181      g  \n",
            "3  43.5434  227.711      g  \n",
            "4   5.8671  192.467      g  \n",
            "بعد از حذف: (13376, 11)\n",
            "(13376, 10)\n",
            "    Test Size  Repeat  All_Accuracy  BestGroup_Accuracy  BestGroup Size\n",
            "0        0.10       1      0.765321            0.769806               4\n",
            "1        0.10       2      0.763827            0.790732               4\n",
            "2        0.10       3      0.782511            0.793722               5\n",
            "3        0.10       4      0.760837            0.789238               4\n",
            "4        0.10       5      0.772048            0.765321               4\n",
            "..        ...     ...           ...                 ...             ...\n",
            "95       0.25      16      0.771232            0.784689               4\n",
            "96       0.25      17      0.784390            0.798744               4\n",
            "97       0.25      18      0.754486            0.777811               5\n",
            "98       0.25      19      0.779007            0.798445               4\n",
            "99       0.25      20      0.773923            0.786782               4\n",
            "\n",
            "[100 rows x 5 columns]\n"
          ]
        }
      ],
      "source": [
        "#\n",
        "import openml\n",
        "import pandas as pd\n",
        "\n",
        "# دانلود دیتاست\n",
        "dataset = openml.datasets.get_dataset(43971)\n",
        "data, y_data, _, _ = dataset.get_data(target=dataset.default_target_attribute)\n",
        "print(data.shape)\n",
        "# افزودن ستون هدف به دیتافریم کامل\n",
        "data['rating'] = y_data  # فرض بر این است که ستون هدف، rating است\n",
        "\n",
        "\n",
        "# جدا کردن ویژگی‌ها و برچسب‌ها\n",
        "X= data.drop('rating', axis=1)\n",
        "y= data['rating']\n",
        "\n",
        "print(X.shape)\n",
        "\n",
        "\n",
        "df_results = knn_auto_evaluator_from_xy(X, y)\n",
        "print(df_results)\n",
        "\n",
        "results.append({'name': 'MagicTelescope(43971)', 'type': 'classification', 'table': df_results})"
      ]
    },
    {
      "cell_type": "code",
      "execution_count": null,
      "metadata": {
        "id": "TP2eEQxKKU0g"
      },
      "outputs": [],
      "source": [
        "\n",
        "import openml\n",
        "import pandas as pd\n",
        "\n",
        "dataset = openml.datasets.get_dataset(1046)\n",
        "data, y_data, _, _ = dataset.get_data(target=dataset.default_target_attribute)\n",
        "\n",
        "# 🔧 افزودن target به dataframe کامل (مثل خواندن فایل CSV)\n",
        "data['rating'] = y_data  # فرض می‌گیریم نام ستون هدف \"rating\" باشه برای یکسان بودن با مثال شما\n",
        "\n",
        "print(data.shape)\n",
        "# حذف سطرهای حاوی NaN\n",
        "data = data.dropna()\n",
        "\n",
        "print(data.shape)\n",
        "\n",
        "# 🎯 جدا کردن ویژگی‌ها و برچسب‌ها (مطابق ساختار شما)\n",
        "X = data.drop('rating', axis=1)\n",
        "y = data['rating']\n",
        "data_features = X.columns\n",
        "\n",
        "\n",
        "df_results = knn_auto_evaluator_from_xy(X, y)\n",
        "print(df_results)\n",
        "\n",
        "results.append({'name': 'Hill_Valley_with_Noise(1046)', 'type': 'classification', 'table': df_results})"
      ]
    },
    {
      "cell_type": "code",
      "execution_count": null,
      "metadata": {
        "id": "Mr5KtLmsMBBP"
      },
      "outputs": [],
      "source": [
        "# Climate Model Simulation\n",
        "# شبیه‌سازی آب‌وهوا (دوتایی)\n",
        "import openml\n",
        "import pandas as pd\n",
        "\n",
        "dataset = openml.datasets.get_dataset(40966)\n",
        "data, y_data, _, _ = dataset.get_data(target=dataset.default_target_attribute)\n",
        "\n",
        "# 🔧 افزودن target به dataframe کامل (مثل خواندن فایل CSV)\n",
        "data['rating'] = y_data  # فرض می‌گیریم نام ستون هدف \"rating\" باشه برای یکسان بودن با مثال شما\n",
        "\n",
        "print(data.shape)\n",
        "# حذف سطرهای حاوی NaN\n",
        "data = data.dropna()\n",
        "\n",
        "\n",
        "print(data.shape)\n",
        "\n",
        "# 🎯 جدا کردن ویژگی‌ها و برچسب‌ها (مطابق ساختار شما)\n",
        "X = data.drop('rating', axis=1)\n",
        "y = data['rating']\n",
        "\n",
        "\n",
        "df_results = knn_auto_evaluator_from_xy(X, y)\n",
        "print(df_results)\n",
        "\n",
        "results.append({'name': 'Climate Model Simulation', 'type': 'classification', 'table': df_results})"
      ]
    },
    {
      "cell_type": "code",
      "execution_count": null,
      "metadata": {
        "id": "3uZHR-wuCmea"
      },
      "outputs": [],
      "source": [
        "import pandas as pd\n",
        "\n",
        "def summarize_max_diff_results(dataset_tables):\n",
        "    \"\"\"\n",
        "    dataset_tables: لیستی از دیکشنری‌ها به شکل زیر:\n",
        "    [\n",
        "        {'name': 'Diabetes', 'type': 'regression', 'table': df1},\n",
        "        {'name': 'Wine', 'type': 'classification', 'table': df2},\n",
        "        ...\n",
        "    ]\n",
        "\n",
        "    خروجی: DataFrame خلاصه از بیشترین اختلاف برای هر دیتاست\n",
        "    \"\"\"\n",
        "    summary_rows = []\n",
        "\n",
        "    for item in dataset_tables:\n",
        "        name = item['name']\n",
        "        dtype = item['type']\n",
        "        df = item['table']\n",
        "\n",
        "        if dtype == 'regression':\n",
        "            # محاسبه بیشترین اختلاف MSE\n",
        "            df['MSE_Diff'] = df['All_MSE'] - df['BestGroup_MSE']\n",
        "            best_row = df.loc[df['MSE_Diff'].idxmax()]\n",
        "            summary_rows.append({\n",
        "                'Dataset': name,\n",
        "                'Type': dtype,\n",
        "                'All_Accuracy': None,\n",
        "                'BestGroup_Accuracy': None,\n",
        "                'All_R2': best_row['All_R2'],\n",
        "                'BestGroup_R2': best_row['BestGroup_R2'],\n",
        "                'All_MSE': best_row['All_MSE'],\n",
        "                'BestGroup_MSE': best_row['BestGroup_MSE']\n",
        "            })\n",
        "\n",
        "        elif dtype == 'classification':\n",
        "            # محاسبه بیشترین اختلاف دقت\n",
        "            df['Accuracy_Diff'] = df['BestGroup_Accuracy'] - df['All_Accuracy']\n",
        "            best_row = df.loc[df['Accuracy_Diff'].idxmax()]\n",
        "            summary_rows.append({\n",
        "                'Dataset': name,\n",
        "                'Type': dtype,\n",
        "                'All_Accuracy': best_row['All_Accuracy'],\n",
        "                'BestGroup_Accuracy': best_row['BestGroup_Accuracy'],\n",
        "                'All_R2': None,\n",
        "                'BestGroup_R2': None,\n",
        "                'All_MSE': None,\n",
        "                'BestGroup_MSE': None\n",
        "            })\n",
        "\n",
        "    return pd.DataFrame(summary_rows)\n"
      ]
    },
    {
      "cell_type": "code",
      "execution_count": null,
      "metadata": {
        "id": "8OILSpVpCpK-"
      },
      "outputs": [],
      "source": [
        "results = [\n",
        "    {'name': 'Bodyfat', 'type': 'regression', 'table': df_results},\n",
        "    {'name': 'Advertising', 'type': 'regression', 'table': df_results},\n",
        "    {'name': 'BostonHousing', 'type': 'regression', 'table': df_results},\n",
        "    {'name': 'Cookie_Recipes', 'type': 'regression', 'table': df_results},\n",
        "    {'name': 'California_Housing', 'type': 'regression', 'table': df_results},\n",
        "    {'name': 'wine', 'type': 'classification', 'table': df_results},\n",
        "    {'name': 'Jannis(43977)', 'type': 'classification', 'table': df_results},\n",
        "    {'name': 'Pistachio', 'type': 'classification', 'table': df_results},\n",
        "    {'name': 'MagicTelescope(43971)', 'type': 'classification', 'table': df_results},\n",
        "    {'name': 'Hill_Valley_with_Noise(1046)', 'type': 'classification', 'table': df_results},\n",
        "    {'name': 'Climate Model Simulation', 'type': 'classification', 'table': df_results}\n",
        "\n",
        "]\n",
        "\n",
        "summary = summarize_max_diff_results(results)\n",
        "print(summary)\n"
      ]
    }
  ],
  "metadata": {
    "colab": {
      "provenance": [],
      "authorship_tag": "ABX9TyMbtjz5d+f0ZNOxdhUkx4m/",
      "include_colab_link": true
    },
    "kernelspec": {
      "display_name": "Python 3",
      "name": "python3"
    },
    "language_info": {
      "name": "python"
    }
  },
  "nbformat": 4,
  "nbformat_minor": 0
}