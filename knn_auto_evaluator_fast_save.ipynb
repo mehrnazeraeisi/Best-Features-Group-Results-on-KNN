{
  "nbformat": 4,
  "nbformat_minor": 0,
  "metadata": {
    "colab": {
      "provenance": [],
      "authorship_tag": "ABX9TyMuynAQ91nkBXQf9mgm+496",
      "include_colab_link": true
    },
    "kernelspec": {
      "name": "python3",
      "display_name": "Python 3"
    },
    "language_info": {
      "name": "python"
    }
  },
  "cells": [
    {
      "cell_type": "markdown",
      "metadata": {
        "id": "view-in-github",
        "colab_type": "text"
      },
      "source": [
        "<a href=\"https://colab.research.google.com/github/mehrnazeraeisi/Best-Features-Group-Results-on-KNN/blob/main/knn_auto_evaluator_fast_save.ipynb\" target=\"_parent\"><img src=\"https://colab.research.google.com/assets/colab-badge.svg\" alt=\"Open In Colab\"/></a>"
      ]
    },
    {
      "cell_type": "code",
      "execution_count": 1,
      "metadata": {
        "id": "fDAIncsxiqQD"
      },
      "outputs": [],
      "source": [
        "def knn_auto_evaluator_fast_save(X_data, y_data,\n",
        "                                 test_sizes=[0.1, 0.13, 0.16 , 0.19, 0.25],\n",
        "                                 n_repeats=5,\n",
        "                                 output_file='knn_results.csv'):\n",
        "    import numpy as np\n",
        "    import pandas as pd\n",
        "    from sklearn.model_selection import train_test_split\n",
        "    from sklearn.neighbors import KNeighborsRegressor, KNeighborsClassifier\n",
        "    from sklearn.metrics import r2_score, mean_squared_error, accuracy_score\n",
        "    import warnings\n",
        "    warnings.filterwarnings(\"ignore\")\n",
        "\n",
        "    # تشخیص نوع هدف\n",
        "    if pd.api.types.is_numeric_dtype(y_data):\n",
        "        target_type = 'regression' if len(np.unique(y_data)) > 10 else 'classification'\n",
        "    else:\n",
        "        target_type = 'classification'\n",
        "\n",
        "    feature_names = X_data.columns.tolist()\n",
        "    results = []\n",
        "\n",
        "    for ts in test_sizes:\n",
        "        for repeat in range(1, n_repeats+1):\n",
        "            X_train, X_test, y_train, y_test = train_test_split(X_data, y_data, test_size=ts)\n",
        "\n",
        "            # امتیاز تک ویژگی‌ها روی داده تست (سریع‌تر و واقعی‌تر)\n",
        "            scores = []\n",
        "            for feature in feature_names:\n",
        "                model = KNeighborsRegressor(n_jobs=-1) if target_type == 'regression' else KNeighborsClassifier(n_jobs=-1)\n",
        "                model.fit(X_train[[feature]], y_train)\n",
        "                y_pred = model.predict(X_test[[feature]])\n",
        "                score = r2_score(y_test, y_pred) if target_type == 'regression' else accuracy_score(y_test, y_pred)\n",
        "                scores.append((feature, score))\n",
        "\n",
        "            df_scores = pd.DataFrame(scores, columns=['Feature', 'Score']).sort_values(by='Score', ascending=False)\n",
        "\n",
        "            # یافتن بهترین گروه ویژگی‌ها (توقف زودهنگام)\n",
        "            best_score = -np.inf\n",
        "            best_group = []\n",
        "            no_improve_count = 0\n",
        "            for k in range(1, len(df_scores)+1):\n",
        "                group = df_scores['Feature'][:k].tolist()\n",
        "                model = KNeighborsRegressor(n_jobs=-1) if target_type == 'regression' else KNeighborsClassifier(n_jobs=-1)\n",
        "                model.fit(X_train[group], y_train)\n",
        "                y_pred = model.predict(X_test[group])\n",
        "                score = r2_score(y_test, y_pred) if target_type == 'regression' else accuracy_score(y_test, y_pred)\n",
        "\n",
        "                if score > best_score:\n",
        "                    best_score = score\n",
        "                    best_group = group\n",
        "                    no_improve_count = 0\n",
        "                else:\n",
        "                    no_improve_count += 1\n",
        "                    if no_improve_count >= 3:\n",
        "                        break\n",
        "\n",
        "            # آموزش مدل روی کل ویژگی‌ها و بهترین گروه\n",
        "            model_all = KNeighborsRegressor(n_jobs=-1) if target_type == 'regression' else KNeighborsClassifier(n_jobs=-1)\n",
        "            model_best = KNeighborsRegressor(n_jobs=-1) if target_type == 'regression' else KNeighborsClassifier(n_jobs=-1)\n",
        "            model_all.fit(X_train, y_train)\n",
        "            model_best.fit(X_train[best_group], y_train)\n",
        "\n",
        "            y_pred_all = model_all.predict(X_test)\n",
        "            y_pred_best = model_best.predict(X_test[best_group])\n",
        "\n",
        "            # ثبت نتایج\n",
        "            if target_type == 'regression':\n",
        "                result_row = {\n",
        "                    'Test Size': ts,\n",
        "                    'Repeat': repeat,\n",
        "                    'All_R2': r2_score(y_test, y_pred_all),\n",
        "                    'All_MSE': mean_squared_error(y_test, y_pred_all),\n",
        "                    'BestGroup_R2': r2_score(y_test, y_pred_best),\n",
        "                    'BestGroup_MSE': mean_squared_error(y_test, y_pred_best),\n",
        "                }\n",
        "                column_order = ['Test Size', 'Repeat', 'All_R2', 'All_MSE', 'BestGroup_R2', 'BestGroup_MSE']\n",
        "            else:\n",
        "                result_row = {\n",
        "                    'Test Size': ts,\n",
        "                    'Repeat': repeat,\n",
        "                    'All_Accuracy': accuracy_score(y_test, y_pred_all),\n",
        "                    'BestGroup_Accuracy': accuracy_score(y_test, y_pred_best),\n",
        "                }\n",
        "                column_order = ['Test Size', 'Repeat', 'All_Accuracy', 'BestGroup_Accuracy']\n",
        "\n",
        "            results.append(result_row)\n",
        "\n",
        "    # ذخیره نتایج در فایل CSV\n",
        "    final_df = pd.DataFrame(results)[column_order]\n",
        "    final_df.to_csv(output_file, index=False)\n",
        "    print(f\"✅ نتایج با موفقیت در فایل «{output_file}» ذخیره شدند.\")\n",
        "\n",
        "    return final_df\n"
      ]
    },
    {
      "cell_type": "code",
      "source": [
        "!pip install openml"
      ],
      "metadata": {
        "colab": {
          "base_uri": "https://localhost:8080/"
        },
        "id": "VEL5N2kMxHq1",
        "outputId": "ac3ceff8-bf57-4a25-d3d8-739de5dea17f"
      },
      "execution_count": 3,
      "outputs": [
        {
          "output_type": "stream",
          "name": "stdout",
          "text": [
            "Collecting openml\n",
            "  Downloading openml-0.15.1-py3-none-any.whl.metadata (10 kB)\n",
            "Collecting liac-arff>=2.4.0 (from openml)\n",
            "  Downloading liac-arff-2.5.0.tar.gz (13 kB)\n",
            "  Preparing metadata (setup.py) ... \u001b[?25l\u001b[?25hdone\n",
            "Collecting xmltodict (from openml)\n",
            "  Downloading xmltodict-0.14.2-py2.py3-none-any.whl.metadata (8.0 kB)\n",
            "Requirement already satisfied: requests in /usr/local/lib/python3.11/dist-packages (from openml) (2.32.3)\n",
            "Requirement already satisfied: scikit-learn>=0.18 in /usr/local/lib/python3.11/dist-packages (from openml) (1.6.1)\n",
            "Requirement already satisfied: python-dateutil in /usr/local/lib/python3.11/dist-packages (from openml) (2.9.0.post0)\n",
            "Requirement already satisfied: pandas>=1.0.0 in /usr/local/lib/python3.11/dist-packages (from openml) (2.2.2)\n",
            "Requirement already satisfied: scipy>=0.13.3 in /usr/local/lib/python3.11/dist-packages (from openml) (1.15.3)\n",
            "Requirement already satisfied: numpy>=1.6.2 in /usr/local/lib/python3.11/dist-packages (from openml) (2.0.2)\n",
            "Collecting minio (from openml)\n",
            "  Downloading minio-7.2.15-py3-none-any.whl.metadata (6.7 kB)\n",
            "Requirement already satisfied: pyarrow in /usr/local/lib/python3.11/dist-packages (from openml) (18.1.0)\n",
            "Requirement already satisfied: tqdm in /usr/local/lib/python3.11/dist-packages (from openml) (4.67.1)\n",
            "Requirement already satisfied: packaging in /usr/local/lib/python3.11/dist-packages (from openml) (24.2)\n",
            "Requirement already satisfied: pytz>=2020.1 in /usr/local/lib/python3.11/dist-packages (from pandas>=1.0.0->openml) (2025.2)\n",
            "Requirement already satisfied: tzdata>=2022.7 in /usr/local/lib/python3.11/dist-packages (from pandas>=1.0.0->openml) (2025.2)\n",
            "Requirement already satisfied: six>=1.5 in /usr/local/lib/python3.11/dist-packages (from python-dateutil->openml) (1.17.0)\n",
            "Requirement already satisfied: joblib>=1.2.0 in /usr/local/lib/python3.11/dist-packages (from scikit-learn>=0.18->openml) (1.5.0)\n",
            "Requirement already satisfied: threadpoolctl>=3.1.0 in /usr/local/lib/python3.11/dist-packages (from scikit-learn>=0.18->openml) (3.6.0)\n",
            "Requirement already satisfied: certifi in /usr/local/lib/python3.11/dist-packages (from minio->openml) (2025.4.26)\n",
            "Requirement already satisfied: urllib3 in /usr/local/lib/python3.11/dist-packages (from minio->openml) (2.4.0)\n",
            "Requirement already satisfied: argon2-cffi in /usr/local/lib/python3.11/dist-packages (from minio->openml) (23.1.0)\n",
            "Collecting pycryptodome (from minio->openml)\n",
            "  Downloading pycryptodome-3.23.0-cp37-abi3-manylinux_2_17_x86_64.manylinux2014_x86_64.whl.metadata (3.4 kB)\n",
            "Requirement already satisfied: typing-extensions in /usr/local/lib/python3.11/dist-packages (from minio->openml) (4.13.2)\n",
            "Requirement already satisfied: charset-normalizer<4,>=2 in /usr/local/lib/python3.11/dist-packages (from requests->openml) (3.4.2)\n",
            "Requirement already satisfied: idna<4,>=2.5 in /usr/local/lib/python3.11/dist-packages (from requests->openml) (3.10)\n",
            "Requirement already satisfied: argon2-cffi-bindings in /usr/local/lib/python3.11/dist-packages (from argon2-cffi->minio->openml) (21.2.0)\n",
            "Requirement already satisfied: cffi>=1.0.1 in /usr/local/lib/python3.11/dist-packages (from argon2-cffi-bindings->argon2-cffi->minio->openml) (1.17.1)\n",
            "Requirement already satisfied: pycparser in /usr/local/lib/python3.11/dist-packages (from cffi>=1.0.1->argon2-cffi-bindings->argon2-cffi->minio->openml) (2.22)\n",
            "Downloading openml-0.15.1-py3-none-any.whl (160 kB)\n",
            "\u001b[2K   \u001b[90m━━━━━━━━━━━━━━━━━━━━━━━━━━━━━━━━━━━━━━━━\u001b[0m \u001b[32m160.4/160.4 kB\u001b[0m \u001b[31m5.2 MB/s\u001b[0m eta \u001b[36m0:00:00\u001b[0m\n",
            "\u001b[?25hDownloading minio-7.2.15-py3-none-any.whl (95 kB)\n",
            "\u001b[2K   \u001b[90m━━━━━━━━━━━━━━━━━━━━━━━━━━━━━━━━━━━━━━━━\u001b[0m \u001b[32m95.1/95.1 kB\u001b[0m \u001b[31m7.2 MB/s\u001b[0m eta \u001b[36m0:00:00\u001b[0m\n",
            "\u001b[?25hDownloading xmltodict-0.14.2-py2.py3-none-any.whl (10.0 kB)\n",
            "Downloading pycryptodome-3.23.0-cp37-abi3-manylinux_2_17_x86_64.manylinux2014_x86_64.whl (2.3 MB)\n",
            "\u001b[2K   \u001b[90m━━━━━━━━━━━━━━━━━━━━━━━━━━━━━━━━━━━━━━━━\u001b[0m \u001b[32m2.3/2.3 MB\u001b[0m \u001b[31m37.6 MB/s\u001b[0m eta \u001b[36m0:00:00\u001b[0m\n",
            "\u001b[?25hBuilding wheels for collected packages: liac-arff\n",
            "  Building wheel for liac-arff (setup.py) ... \u001b[?25l\u001b[?25hdone\n",
            "  Created wheel for liac-arff: filename=liac_arff-2.5.0-py3-none-any.whl size=11717 sha256=380e3c20f32e9a1f41438c89b8eca682854400b59455de93dad2df49f032af49\n",
            "  Stored in directory: /root/.cache/pip/wheels/00/23/31/5e562fce1f95aabe57f2a7320d07433ba1cd152bcde2f6a002\n",
            "Successfully built liac-arff\n",
            "Installing collected packages: xmltodict, pycryptodome, liac-arff, minio, openml\n",
            "Successfully installed liac-arff-2.5.0 minio-7.2.15 openml-0.15.1 pycryptodome-3.23.0 xmltodict-0.14.2\n"
          ]
        }
      ]
    },
    {
      "cell_type": "code",
      "source": [
        "import openml\n",
        "import pandas as pd\n",
        "\n",
        "# دانلود دیتاست\n",
        "dataset = openml.datasets.get_dataset(43977)\n",
        "data, y_data, _, _ = dataset.get_data(target=dataset.default_target_attribute)\n",
        "\n",
        "# افزودن ستون هدف به دیتافریم کامل\n",
        "data['rating'] = y_data  # فرض بر این است که ستون هدف، rating است\n",
        "\n",
        "# جدا کردن ویژگی‌ها و برچسب‌ها\n",
        "X_data = data.drop('rating', axis=1)\n",
        "y_data = data['rating']\n",
        "\n",
        "print(X_data.shape)\n",
        "\n",
        "# اجرای تابع روی دیتاست شما\n",
        "result_df = knn_auto_evaluator_fast_save(X_data, y_data)\n",
        "print(result_df)\n",
        "\n"
      ],
      "metadata": {
        "colab": {
          "base_uri": "https://localhost:8080/"
        },
        "id": "4Dcx_qyjwX9u",
        "outputId": "d9ba2918-4bcf-4cff-a65c-d2bf988d4469"
      },
      "execution_count": 4,
      "outputs": [
        {
          "output_type": "stream",
          "name": "stdout",
          "text": [
            "(57580, 54)\n",
            "✅ نتایج با موفقیت در فایل «knn_results.csv» ذخیره شدند.\n",
            "    Test Size  Repeat  All_Accuracy  BestGroup_Accuracy\n",
            "0        0.10       1      0.644147            0.720563\n",
            "1        0.10       2      0.642758            0.705974\n",
            "2        0.10       3      0.642584            0.719173\n",
            "3        0.10       4      0.636332            0.658562\n",
            "4        0.10       5      0.637721            0.712226\n",
            "5        0.13       1      0.643201            0.715736\n",
            "6        0.13       2      0.634651            0.707454\n",
            "7        0.13       3      0.633583            0.711729\n",
            "8        0.13       4      0.641464            0.716270\n",
            "9        0.13       5      0.646273            0.700775\n",
            "10       0.16       1      0.638880            0.718333\n",
            "11       0.16       2      0.639857            0.692500\n",
            "12       0.16       3      0.631933            0.715619\n",
            "13       0.16       4      0.639097            0.720612\n",
            "14       0.16       5      0.635298            0.711712\n",
            "15       0.19       1      0.632026            0.711818\n",
            "16       0.19       2      0.642080            0.711544\n",
            "17       0.19       3      0.643177            0.716114\n",
            "18       0.19       4      0.639064            0.713372\n",
            "19       0.19       5      0.641623            0.719861\n",
            "20       0.25       1      0.634804            0.696631\n",
            "21       0.25       2      0.635846            0.719486\n",
            "22       0.25       3      0.636749            0.700729\n",
            "23       0.25       4      0.633970            0.710108\n",
            "24       0.25       5      0.640153            0.696422\n"
          ]
        }
      ]
    },
    {
      "cell_type": "code",
      "source": [],
      "metadata": {
        "id": "Qorn3TK6iwy8"
      },
      "execution_count": null,
      "outputs": []
    }
  ]
}